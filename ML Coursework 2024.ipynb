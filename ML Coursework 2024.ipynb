{
 "cells": [
  {
   "cell_type": "code",
   "execution_count": 217,
   "id": "e685fe7d",
   "metadata": {},
   "outputs": [],
   "source": [
    "import pandas as pd\n",
    "import numpy as np\n",
    "import datetime\n",
    "import matplotlib.pyplot as plt\n",
    "import seaborn as sns\n"
   ]
  },
  {
   "cell_type": "code",
   "execution_count": 218,
   "id": "de9e018b",
   "metadata": {
    "scrolled": true
   },
   "outputs": [
    {
     "data": {
      "text/html": [
       "<div>\n",
       "<style scoped>\n",
       "    .dataframe tbody tr th:only-of-type {\n",
       "        vertical-align: middle;\n",
       "    }\n",
       "\n",
       "    .dataframe tbody tr th {\n",
       "        vertical-align: top;\n",
       "    }\n",
       "\n",
       "    .dataframe thead th {\n",
       "        text-align: right;\n",
       "    }\n",
       "</style>\n",
       "<table border=\"1\" class=\"dataframe\">\n",
       "  <thead>\n",
       "    <tr style=\"text-align: right;\">\n",
       "      <th></th>\n",
       "      <th>0</th>\n",
       "      <th>1</th>\n",
       "      <th>2</th>\n",
       "      <th>3</th>\n",
       "      <th>4</th>\n",
       "      <th>5</th>\n",
       "      <th>6</th>\n",
       "      <th>7</th>\n",
       "      <th>8</th>\n",
       "      <th>9</th>\n",
       "      <th>10</th>\n",
       "      <th>11</th>\n",
       "      <th>12</th>\n",
       "      <th>13</th>\n",
       "      <th>14</th>\n",
       "    </tr>\n",
       "  </thead>\n",
       "  <tbody>\n",
       "    <tr>\n",
       "      <th>0</th>\n",
       "      <td>39</td>\n",
       "      <td>State-gov</td>\n",
       "      <td>77516</td>\n",
       "      <td>Bachelors</td>\n",
       "      <td>13</td>\n",
       "      <td>Never-married</td>\n",
       "      <td>Adm-clerical</td>\n",
       "      <td>Not-in-family</td>\n",
       "      <td>White</td>\n",
       "      <td>Male</td>\n",
       "      <td>2174</td>\n",
       "      <td>0</td>\n",
       "      <td>40</td>\n",
       "      <td>United-States</td>\n",
       "      <td>&lt;=50K</td>\n",
       "    </tr>\n",
       "    <tr>\n",
       "      <th>1</th>\n",
       "      <td>50</td>\n",
       "      <td>Self-emp-not-inc</td>\n",
       "      <td>83311</td>\n",
       "      <td>Bachelors</td>\n",
       "      <td>13</td>\n",
       "      <td>Married-civ-spouse</td>\n",
       "      <td>Exec-managerial</td>\n",
       "      <td>Husband</td>\n",
       "      <td>White</td>\n",
       "      <td>Male</td>\n",
       "      <td>0</td>\n",
       "      <td>0</td>\n",
       "      <td>13</td>\n",
       "      <td>United-States</td>\n",
       "      <td>&lt;=50K</td>\n",
       "    </tr>\n",
       "    <tr>\n",
       "      <th>2</th>\n",
       "      <td>38</td>\n",
       "      <td>Private</td>\n",
       "      <td>215646</td>\n",
       "      <td>HS-grad</td>\n",
       "      <td>9</td>\n",
       "      <td>Divorced</td>\n",
       "      <td>Handlers-cleaners</td>\n",
       "      <td>Not-in-family</td>\n",
       "      <td>White</td>\n",
       "      <td>Male</td>\n",
       "      <td>0</td>\n",
       "      <td>0</td>\n",
       "      <td>40</td>\n",
       "      <td>United-States</td>\n",
       "      <td>&lt;=50K</td>\n",
       "    </tr>\n",
       "    <tr>\n",
       "      <th>3</th>\n",
       "      <td>53</td>\n",
       "      <td>Private</td>\n",
       "      <td>234721</td>\n",
       "      <td>11th</td>\n",
       "      <td>7</td>\n",
       "      <td>Married-civ-spouse</td>\n",
       "      <td>Handlers-cleaners</td>\n",
       "      <td>Husband</td>\n",
       "      <td>Black</td>\n",
       "      <td>Male</td>\n",
       "      <td>0</td>\n",
       "      <td>0</td>\n",
       "      <td>40</td>\n",
       "      <td>United-States</td>\n",
       "      <td>&lt;=50K</td>\n",
       "    </tr>\n",
       "    <tr>\n",
       "      <th>4</th>\n",
       "      <td>28</td>\n",
       "      <td>Private</td>\n",
       "      <td>338409</td>\n",
       "      <td>Bachelors</td>\n",
       "      <td>13</td>\n",
       "      <td>Married-civ-spouse</td>\n",
       "      <td>Prof-specialty</td>\n",
       "      <td>Wife</td>\n",
       "      <td>Black</td>\n",
       "      <td>Female</td>\n",
       "      <td>0</td>\n",
       "      <td>0</td>\n",
       "      <td>40</td>\n",
       "      <td>Cuba</td>\n",
       "      <td>&lt;=50K</td>\n",
       "    </tr>\n",
       "    <tr>\n",
       "      <th>...</th>\n",
       "      <td>...</td>\n",
       "      <td>...</td>\n",
       "      <td>...</td>\n",
       "      <td>...</td>\n",
       "      <td>...</td>\n",
       "      <td>...</td>\n",
       "      <td>...</td>\n",
       "      <td>...</td>\n",
       "      <td>...</td>\n",
       "      <td>...</td>\n",
       "      <td>...</td>\n",
       "      <td>...</td>\n",
       "      <td>...</td>\n",
       "      <td>...</td>\n",
       "      <td>...</td>\n",
       "    </tr>\n",
       "    <tr>\n",
       "      <th>48837</th>\n",
       "      <td>39</td>\n",
       "      <td>Private</td>\n",
       "      <td>215419</td>\n",
       "      <td>Bachelors</td>\n",
       "      <td>13</td>\n",
       "      <td>Divorced</td>\n",
       "      <td>Prof-specialty</td>\n",
       "      <td>Not-in-family</td>\n",
       "      <td>White</td>\n",
       "      <td>Female</td>\n",
       "      <td>0</td>\n",
       "      <td>0</td>\n",
       "      <td>36</td>\n",
       "      <td>United-States</td>\n",
       "      <td>&lt;=50K.</td>\n",
       "    </tr>\n",
       "    <tr>\n",
       "      <th>48838</th>\n",
       "      <td>64</td>\n",
       "      <td>?</td>\n",
       "      <td>321403</td>\n",
       "      <td>HS-grad</td>\n",
       "      <td>9</td>\n",
       "      <td>Widowed</td>\n",
       "      <td>?</td>\n",
       "      <td>Other-relative</td>\n",
       "      <td>Black</td>\n",
       "      <td>Male</td>\n",
       "      <td>0</td>\n",
       "      <td>0</td>\n",
       "      <td>40</td>\n",
       "      <td>United-States</td>\n",
       "      <td>&lt;=50K.</td>\n",
       "    </tr>\n",
       "    <tr>\n",
       "      <th>48839</th>\n",
       "      <td>38</td>\n",
       "      <td>Private</td>\n",
       "      <td>374983</td>\n",
       "      <td>Bachelors</td>\n",
       "      <td>13</td>\n",
       "      <td>Married-civ-spouse</td>\n",
       "      <td>Prof-specialty</td>\n",
       "      <td>Husband</td>\n",
       "      <td>White</td>\n",
       "      <td>Male</td>\n",
       "      <td>0</td>\n",
       "      <td>0</td>\n",
       "      <td>50</td>\n",
       "      <td>United-States</td>\n",
       "      <td>&lt;=50K.</td>\n",
       "    </tr>\n",
       "    <tr>\n",
       "      <th>48840</th>\n",
       "      <td>44</td>\n",
       "      <td>Private</td>\n",
       "      <td>83891</td>\n",
       "      <td>Bachelors</td>\n",
       "      <td>13</td>\n",
       "      <td>Divorced</td>\n",
       "      <td>Adm-clerical</td>\n",
       "      <td>Own-child</td>\n",
       "      <td>Asian-Pac-Islander</td>\n",
       "      <td>Male</td>\n",
       "      <td>5455</td>\n",
       "      <td>0</td>\n",
       "      <td>40</td>\n",
       "      <td>United-States</td>\n",
       "      <td>&lt;=50K.</td>\n",
       "    </tr>\n",
       "    <tr>\n",
       "      <th>48841</th>\n",
       "      <td>35</td>\n",
       "      <td>Self-emp-inc</td>\n",
       "      <td>182148</td>\n",
       "      <td>Bachelors</td>\n",
       "      <td>13</td>\n",
       "      <td>Married-civ-spouse</td>\n",
       "      <td>Exec-managerial</td>\n",
       "      <td>Husband</td>\n",
       "      <td>White</td>\n",
       "      <td>Male</td>\n",
       "      <td>0</td>\n",
       "      <td>0</td>\n",
       "      <td>60</td>\n",
       "      <td>United-States</td>\n",
       "      <td>&gt;50K.</td>\n",
       "    </tr>\n",
       "  </tbody>\n",
       "</table>\n",
       "<p>48842 rows × 15 columns</p>\n",
       "</div>"
      ],
      "text/plain": [
       "       0                  1       2           3   4                    5   \\\n",
       "0      39          State-gov   77516   Bachelors  13        Never-married   \n",
       "1      50   Self-emp-not-inc   83311   Bachelors  13   Married-civ-spouse   \n",
       "2      38            Private  215646     HS-grad   9             Divorced   \n",
       "3      53            Private  234721        11th   7   Married-civ-spouse   \n",
       "4      28            Private  338409   Bachelors  13   Married-civ-spouse   \n",
       "...    ..                ...     ...         ...  ..                  ...   \n",
       "48837  39            Private  215419   Bachelors  13             Divorced   \n",
       "48838  64                  ?  321403     HS-grad   9              Widowed   \n",
       "48839  38            Private  374983   Bachelors  13   Married-civ-spouse   \n",
       "48840  44            Private   83891   Bachelors  13             Divorced   \n",
       "48841  35       Self-emp-inc  182148   Bachelors  13   Married-civ-spouse   \n",
       "\n",
       "                       6                7                    8        9   \\\n",
       "0            Adm-clerical    Not-in-family                White     Male   \n",
       "1         Exec-managerial          Husband                White     Male   \n",
       "2       Handlers-cleaners    Not-in-family                White     Male   \n",
       "3       Handlers-cleaners          Husband                Black     Male   \n",
       "4          Prof-specialty             Wife                Black   Female   \n",
       "...                   ...              ...                  ...      ...   \n",
       "48837      Prof-specialty    Not-in-family                White   Female   \n",
       "48838                   ?   Other-relative                Black     Male   \n",
       "48839      Prof-specialty          Husband                White     Male   \n",
       "48840        Adm-clerical        Own-child   Asian-Pac-Islander     Male   \n",
       "48841     Exec-managerial          Husband                White     Male   \n",
       "\n",
       "         10  11  12              13       14  \n",
       "0      2174   0  40   United-States    <=50K  \n",
       "1         0   0  13   United-States    <=50K  \n",
       "2         0   0  40   United-States    <=50K  \n",
       "3         0   0  40   United-States    <=50K  \n",
       "4         0   0  40            Cuba    <=50K  \n",
       "...     ...  ..  ..             ...      ...  \n",
       "48837     0   0  36   United-States   <=50K.  \n",
       "48838     0   0  40   United-States   <=50K.  \n",
       "48839     0   0  50   United-States   <=50K.  \n",
       "48840  5455   0  40   United-States   <=50K.  \n",
       "48841     0   0  60   United-States    >50K.  \n",
       "\n",
       "[48842 rows x 15 columns]"
      ]
     },
     "execution_count": 218,
     "metadata": {},
     "output_type": "execute_result"
    }
   ],
   "source": [
    "# first i loaded the dataset\n",
    "df = pd.read_csv('C:/Users/MSI KATANA/Desktop/practice ML/machine L cw 2024/Machine-Learning-CW/ML_final_dataset.csv', header=None)\n",
    "df"
   ]
  },
  {
   "cell_type": "code",
   "execution_count": 219,
   "id": "cdcd9063",
   "metadata": {},
   "outputs": [],
   "source": [
    "column_names = ['Age', 'Employment_Type', 'Weighting_Factor', 'Education', 'School_Period', \n",
    "                'Marital_Status', 'Employment_Area', 'Partnership', 'Ethnicity', 'Gender', \n",
    "                'Gain_Financial', 'Losses_Financial', 'Weekly_Working_Time', 'Birth_Country', 'Income']\n"
   ]
  },
  {
   "cell_type": "code",
   "execution_count": 220,
   "id": "140947a7",
   "metadata": {},
   "outputs": [
    {
     "data": {
      "text/html": [
       "<div>\n",
       "<style scoped>\n",
       "    .dataframe tbody tr th:only-of-type {\n",
       "        vertical-align: middle;\n",
       "    }\n",
       "\n",
       "    .dataframe tbody tr th {\n",
       "        vertical-align: top;\n",
       "    }\n",
       "\n",
       "    .dataframe thead th {\n",
       "        text-align: right;\n",
       "    }\n",
       "</style>\n",
       "<table border=\"1\" class=\"dataframe\">\n",
       "  <thead>\n",
       "    <tr style=\"text-align: right;\">\n",
       "      <th></th>\n",
       "      <th>Age</th>\n",
       "      <th>Employment_Type</th>\n",
       "      <th>Weighting_Factor</th>\n",
       "      <th>Education</th>\n",
       "      <th>School_Period</th>\n",
       "      <th>Marital_Status</th>\n",
       "      <th>Employment_Area</th>\n",
       "      <th>Partnership</th>\n",
       "      <th>Ethnicity</th>\n",
       "      <th>Gender</th>\n",
       "      <th>Gain_Financial</th>\n",
       "      <th>Losses_Financial</th>\n",
       "      <th>Weekly_Working_Time</th>\n",
       "      <th>Birth_Country</th>\n",
       "      <th>Income</th>\n",
       "    </tr>\n",
       "  </thead>\n",
       "  <tbody>\n",
       "    <tr>\n",
       "      <th>0</th>\n",
       "      <td>39</td>\n",
       "      <td>State-gov</td>\n",
       "      <td>77516</td>\n",
       "      <td>Bachelors</td>\n",
       "      <td>13</td>\n",
       "      <td>Never-married</td>\n",
       "      <td>Adm-clerical</td>\n",
       "      <td>Not-in-family</td>\n",
       "      <td>White</td>\n",
       "      <td>Male</td>\n",
       "      <td>2174</td>\n",
       "      <td>0</td>\n",
       "      <td>40</td>\n",
       "      <td>United-States</td>\n",
       "      <td>&lt;=50K</td>\n",
       "    </tr>\n",
       "    <tr>\n",
       "      <th>1</th>\n",
       "      <td>50</td>\n",
       "      <td>Self-emp-not-inc</td>\n",
       "      <td>83311</td>\n",
       "      <td>Bachelors</td>\n",
       "      <td>13</td>\n",
       "      <td>Married-civ-spouse</td>\n",
       "      <td>Exec-managerial</td>\n",
       "      <td>Husband</td>\n",
       "      <td>White</td>\n",
       "      <td>Male</td>\n",
       "      <td>0</td>\n",
       "      <td>0</td>\n",
       "      <td>13</td>\n",
       "      <td>United-States</td>\n",
       "      <td>&lt;=50K</td>\n",
       "    </tr>\n",
       "    <tr>\n",
       "      <th>2</th>\n",
       "      <td>38</td>\n",
       "      <td>Private</td>\n",
       "      <td>215646</td>\n",
       "      <td>HS-grad</td>\n",
       "      <td>9</td>\n",
       "      <td>Divorced</td>\n",
       "      <td>Handlers-cleaners</td>\n",
       "      <td>Not-in-family</td>\n",
       "      <td>White</td>\n",
       "      <td>Male</td>\n",
       "      <td>0</td>\n",
       "      <td>0</td>\n",
       "      <td>40</td>\n",
       "      <td>United-States</td>\n",
       "      <td>&lt;=50K</td>\n",
       "    </tr>\n",
       "    <tr>\n",
       "      <th>3</th>\n",
       "      <td>53</td>\n",
       "      <td>Private</td>\n",
       "      <td>234721</td>\n",
       "      <td>11th</td>\n",
       "      <td>7</td>\n",
       "      <td>Married-civ-spouse</td>\n",
       "      <td>Handlers-cleaners</td>\n",
       "      <td>Husband</td>\n",
       "      <td>Black</td>\n",
       "      <td>Male</td>\n",
       "      <td>0</td>\n",
       "      <td>0</td>\n",
       "      <td>40</td>\n",
       "      <td>United-States</td>\n",
       "      <td>&lt;=50K</td>\n",
       "    </tr>\n",
       "    <tr>\n",
       "      <th>4</th>\n",
       "      <td>28</td>\n",
       "      <td>Private</td>\n",
       "      <td>338409</td>\n",
       "      <td>Bachelors</td>\n",
       "      <td>13</td>\n",
       "      <td>Married-civ-spouse</td>\n",
       "      <td>Prof-specialty</td>\n",
       "      <td>Wife</td>\n",
       "      <td>Black</td>\n",
       "      <td>Female</td>\n",
       "      <td>0</td>\n",
       "      <td>0</td>\n",
       "      <td>40</td>\n",
       "      <td>Cuba</td>\n",
       "      <td>&lt;=50K</td>\n",
       "    </tr>\n",
       "    <tr>\n",
       "      <th>...</th>\n",
       "      <td>...</td>\n",
       "      <td>...</td>\n",
       "      <td>...</td>\n",
       "      <td>...</td>\n",
       "      <td>...</td>\n",
       "      <td>...</td>\n",
       "      <td>...</td>\n",
       "      <td>...</td>\n",
       "      <td>...</td>\n",
       "      <td>...</td>\n",
       "      <td>...</td>\n",
       "      <td>...</td>\n",
       "      <td>...</td>\n",
       "      <td>...</td>\n",
       "      <td>...</td>\n",
       "    </tr>\n",
       "    <tr>\n",
       "      <th>48837</th>\n",
       "      <td>39</td>\n",
       "      <td>Private</td>\n",
       "      <td>215419</td>\n",
       "      <td>Bachelors</td>\n",
       "      <td>13</td>\n",
       "      <td>Divorced</td>\n",
       "      <td>Prof-specialty</td>\n",
       "      <td>Not-in-family</td>\n",
       "      <td>White</td>\n",
       "      <td>Female</td>\n",
       "      <td>0</td>\n",
       "      <td>0</td>\n",
       "      <td>36</td>\n",
       "      <td>United-States</td>\n",
       "      <td>&lt;=50K.</td>\n",
       "    </tr>\n",
       "    <tr>\n",
       "      <th>48838</th>\n",
       "      <td>64</td>\n",
       "      <td>?</td>\n",
       "      <td>321403</td>\n",
       "      <td>HS-grad</td>\n",
       "      <td>9</td>\n",
       "      <td>Widowed</td>\n",
       "      <td>?</td>\n",
       "      <td>Other-relative</td>\n",
       "      <td>Black</td>\n",
       "      <td>Male</td>\n",
       "      <td>0</td>\n",
       "      <td>0</td>\n",
       "      <td>40</td>\n",
       "      <td>United-States</td>\n",
       "      <td>&lt;=50K.</td>\n",
       "    </tr>\n",
       "    <tr>\n",
       "      <th>48839</th>\n",
       "      <td>38</td>\n",
       "      <td>Private</td>\n",
       "      <td>374983</td>\n",
       "      <td>Bachelors</td>\n",
       "      <td>13</td>\n",
       "      <td>Married-civ-spouse</td>\n",
       "      <td>Prof-specialty</td>\n",
       "      <td>Husband</td>\n",
       "      <td>White</td>\n",
       "      <td>Male</td>\n",
       "      <td>0</td>\n",
       "      <td>0</td>\n",
       "      <td>50</td>\n",
       "      <td>United-States</td>\n",
       "      <td>&lt;=50K.</td>\n",
       "    </tr>\n",
       "    <tr>\n",
       "      <th>48840</th>\n",
       "      <td>44</td>\n",
       "      <td>Private</td>\n",
       "      <td>83891</td>\n",
       "      <td>Bachelors</td>\n",
       "      <td>13</td>\n",
       "      <td>Divorced</td>\n",
       "      <td>Adm-clerical</td>\n",
       "      <td>Own-child</td>\n",
       "      <td>Asian-Pac-Islander</td>\n",
       "      <td>Male</td>\n",
       "      <td>5455</td>\n",
       "      <td>0</td>\n",
       "      <td>40</td>\n",
       "      <td>United-States</td>\n",
       "      <td>&lt;=50K.</td>\n",
       "    </tr>\n",
       "    <tr>\n",
       "      <th>48841</th>\n",
       "      <td>35</td>\n",
       "      <td>Self-emp-inc</td>\n",
       "      <td>182148</td>\n",
       "      <td>Bachelors</td>\n",
       "      <td>13</td>\n",
       "      <td>Married-civ-spouse</td>\n",
       "      <td>Exec-managerial</td>\n",
       "      <td>Husband</td>\n",
       "      <td>White</td>\n",
       "      <td>Male</td>\n",
       "      <td>0</td>\n",
       "      <td>0</td>\n",
       "      <td>60</td>\n",
       "      <td>United-States</td>\n",
       "      <td>&gt;50K.</td>\n",
       "    </tr>\n",
       "  </tbody>\n",
       "</table>\n",
       "<p>48842 rows × 15 columns</p>\n",
       "</div>"
      ],
      "text/plain": [
       "       Age    Employment_Type  Weighting_Factor   Education  School_Period  \\\n",
       "0       39          State-gov             77516   Bachelors             13   \n",
       "1       50   Self-emp-not-inc             83311   Bachelors             13   \n",
       "2       38            Private            215646     HS-grad              9   \n",
       "3       53            Private            234721        11th              7   \n",
       "4       28            Private            338409   Bachelors             13   \n",
       "...    ...                ...               ...         ...            ...   \n",
       "48837   39            Private            215419   Bachelors             13   \n",
       "48838   64                  ?            321403     HS-grad              9   \n",
       "48839   38            Private            374983   Bachelors             13   \n",
       "48840   44            Private             83891   Bachelors             13   \n",
       "48841   35       Self-emp-inc            182148   Bachelors             13   \n",
       "\n",
       "            Marital_Status     Employment_Area      Partnership  \\\n",
       "0            Never-married        Adm-clerical    Not-in-family   \n",
       "1       Married-civ-spouse     Exec-managerial          Husband   \n",
       "2                 Divorced   Handlers-cleaners    Not-in-family   \n",
       "3       Married-civ-spouse   Handlers-cleaners          Husband   \n",
       "4       Married-civ-spouse      Prof-specialty             Wife   \n",
       "...                    ...                 ...              ...   \n",
       "48837             Divorced      Prof-specialty    Not-in-family   \n",
       "48838              Widowed                   ?   Other-relative   \n",
       "48839   Married-civ-spouse      Prof-specialty          Husband   \n",
       "48840             Divorced        Adm-clerical        Own-child   \n",
       "48841   Married-civ-spouse     Exec-managerial          Husband   \n",
       "\n",
       "                 Ethnicity   Gender  Gain_Financial  Losses_Financial  \\\n",
       "0                    White     Male            2174                 0   \n",
       "1                    White     Male               0                 0   \n",
       "2                    White     Male               0                 0   \n",
       "3                    Black     Male               0                 0   \n",
       "4                    Black   Female               0                 0   \n",
       "...                    ...      ...             ...               ...   \n",
       "48837                White   Female               0                 0   \n",
       "48838                Black     Male               0                 0   \n",
       "48839                White     Male               0                 0   \n",
       "48840   Asian-Pac-Islander     Male            5455                 0   \n",
       "48841                White     Male               0                 0   \n",
       "\n",
       "       Weekly_Working_Time   Birth_Country   Income  \n",
       "0                       40   United-States    <=50K  \n",
       "1                       13   United-States    <=50K  \n",
       "2                       40   United-States    <=50K  \n",
       "3                       40   United-States    <=50K  \n",
       "4                       40            Cuba    <=50K  \n",
       "...                    ...             ...      ...  \n",
       "48837                   36   United-States   <=50K.  \n",
       "48838                   40   United-States   <=50K.  \n",
       "48839                   50   United-States   <=50K.  \n",
       "48840                   40   United-States   <=50K.  \n",
       "48841                   60   United-States    >50K.  \n",
       "\n",
       "[48842 rows x 15 columns]"
      ]
     },
     "execution_count": 220,
     "metadata": {},
     "output_type": "execute_result"
    }
   ],
   "source": [
    "df.columns = column_names\n",
    "df"
   ]
  },
  {
   "cell_type": "code",
   "execution_count": 221,
   "id": "484d2e36",
   "metadata": {},
   "outputs": [],
   "source": [
    "df.to_csv('dataset_with_column_names_final.csv', index=False)"
   ]
  },
  {
   "cell_type": "code",
   "execution_count": 222,
   "id": "3b37fa5c",
   "metadata": {},
   "outputs": [
    {
     "data": {
      "text/html": [
       "<div>\n",
       "<style scoped>\n",
       "    .dataframe tbody tr th:only-of-type {\n",
       "        vertical-align: middle;\n",
       "    }\n",
       "\n",
       "    .dataframe tbody tr th {\n",
       "        vertical-align: top;\n",
       "    }\n",
       "\n",
       "    .dataframe thead th {\n",
       "        text-align: right;\n",
       "    }\n",
       "</style>\n",
       "<table border=\"1\" class=\"dataframe\">\n",
       "  <thead>\n",
       "    <tr style=\"text-align: right;\">\n",
       "      <th></th>\n",
       "      <th>Age</th>\n",
       "      <th>Employment_Type</th>\n",
       "      <th>Weighting_Factor</th>\n",
       "      <th>Education</th>\n",
       "      <th>School_Period</th>\n",
       "      <th>Marital_Status</th>\n",
       "      <th>Employment_Area</th>\n",
       "      <th>Partnership</th>\n",
       "      <th>Ethnicity</th>\n",
       "      <th>Gender</th>\n",
       "      <th>Gain_Financial</th>\n",
       "      <th>Losses_Financial</th>\n",
       "      <th>Weekly_Working_Time</th>\n",
       "      <th>Birth_Country</th>\n",
       "      <th>Income</th>\n",
       "    </tr>\n",
       "  </thead>\n",
       "  <tbody>\n",
       "    <tr>\n",
       "      <th>0</th>\n",
       "      <td>39</td>\n",
       "      <td>State-gov</td>\n",
       "      <td>77516</td>\n",
       "      <td>Bachelors</td>\n",
       "      <td>13</td>\n",
       "      <td>Never-married</td>\n",
       "      <td>Adm-clerical</td>\n",
       "      <td>Not-in-family</td>\n",
       "      <td>White</td>\n",
       "      <td>Male</td>\n",
       "      <td>2174</td>\n",
       "      <td>0</td>\n",
       "      <td>40</td>\n",
       "      <td>United-States</td>\n",
       "      <td>&lt;=50K</td>\n",
       "    </tr>\n",
       "    <tr>\n",
       "      <th>1</th>\n",
       "      <td>50</td>\n",
       "      <td>Self-emp-not-inc</td>\n",
       "      <td>83311</td>\n",
       "      <td>Bachelors</td>\n",
       "      <td>13</td>\n",
       "      <td>Married-civ-spouse</td>\n",
       "      <td>Exec-managerial</td>\n",
       "      <td>Husband</td>\n",
       "      <td>White</td>\n",
       "      <td>Male</td>\n",
       "      <td>0</td>\n",
       "      <td>0</td>\n",
       "      <td>13</td>\n",
       "      <td>United-States</td>\n",
       "      <td>&lt;=50K</td>\n",
       "    </tr>\n",
       "    <tr>\n",
       "      <th>2</th>\n",
       "      <td>38</td>\n",
       "      <td>Private</td>\n",
       "      <td>215646</td>\n",
       "      <td>HS-grad</td>\n",
       "      <td>9</td>\n",
       "      <td>Divorced</td>\n",
       "      <td>Handlers-cleaners</td>\n",
       "      <td>Not-in-family</td>\n",
       "      <td>White</td>\n",
       "      <td>Male</td>\n",
       "      <td>0</td>\n",
       "      <td>0</td>\n",
       "      <td>40</td>\n",
       "      <td>United-States</td>\n",
       "      <td>&lt;=50K</td>\n",
       "    </tr>\n",
       "    <tr>\n",
       "      <th>3</th>\n",
       "      <td>53</td>\n",
       "      <td>Private</td>\n",
       "      <td>234721</td>\n",
       "      <td>11th</td>\n",
       "      <td>7</td>\n",
       "      <td>Married-civ-spouse</td>\n",
       "      <td>Handlers-cleaners</td>\n",
       "      <td>Husband</td>\n",
       "      <td>Black</td>\n",
       "      <td>Male</td>\n",
       "      <td>0</td>\n",
       "      <td>0</td>\n",
       "      <td>40</td>\n",
       "      <td>United-States</td>\n",
       "      <td>&lt;=50K</td>\n",
       "    </tr>\n",
       "    <tr>\n",
       "      <th>4</th>\n",
       "      <td>28</td>\n",
       "      <td>Private</td>\n",
       "      <td>338409</td>\n",
       "      <td>Bachelors</td>\n",
       "      <td>13</td>\n",
       "      <td>Married-civ-spouse</td>\n",
       "      <td>Prof-specialty</td>\n",
       "      <td>Wife</td>\n",
       "      <td>Black</td>\n",
       "      <td>Female</td>\n",
       "      <td>0</td>\n",
       "      <td>0</td>\n",
       "      <td>40</td>\n",
       "      <td>Cuba</td>\n",
       "      <td>&lt;=50K</td>\n",
       "    </tr>\n",
       "    <tr>\n",
       "      <th>...</th>\n",
       "      <td>...</td>\n",
       "      <td>...</td>\n",
       "      <td>...</td>\n",
       "      <td>...</td>\n",
       "      <td>...</td>\n",
       "      <td>...</td>\n",
       "      <td>...</td>\n",
       "      <td>...</td>\n",
       "      <td>...</td>\n",
       "      <td>...</td>\n",
       "      <td>...</td>\n",
       "      <td>...</td>\n",
       "      <td>...</td>\n",
       "      <td>...</td>\n",
       "      <td>...</td>\n",
       "    </tr>\n",
       "    <tr>\n",
       "      <th>48837</th>\n",
       "      <td>39</td>\n",
       "      <td>Private</td>\n",
       "      <td>215419</td>\n",
       "      <td>Bachelors</td>\n",
       "      <td>13</td>\n",
       "      <td>Divorced</td>\n",
       "      <td>Prof-specialty</td>\n",
       "      <td>Not-in-family</td>\n",
       "      <td>White</td>\n",
       "      <td>Female</td>\n",
       "      <td>0</td>\n",
       "      <td>0</td>\n",
       "      <td>36</td>\n",
       "      <td>United-States</td>\n",
       "      <td>&lt;=50K.</td>\n",
       "    </tr>\n",
       "    <tr>\n",
       "      <th>48838</th>\n",
       "      <td>64</td>\n",
       "      <td>?</td>\n",
       "      <td>321403</td>\n",
       "      <td>HS-grad</td>\n",
       "      <td>9</td>\n",
       "      <td>Widowed</td>\n",
       "      <td>?</td>\n",
       "      <td>Other-relative</td>\n",
       "      <td>Black</td>\n",
       "      <td>Male</td>\n",
       "      <td>0</td>\n",
       "      <td>0</td>\n",
       "      <td>40</td>\n",
       "      <td>United-States</td>\n",
       "      <td>&lt;=50K.</td>\n",
       "    </tr>\n",
       "    <tr>\n",
       "      <th>48839</th>\n",
       "      <td>38</td>\n",
       "      <td>Private</td>\n",
       "      <td>374983</td>\n",
       "      <td>Bachelors</td>\n",
       "      <td>13</td>\n",
       "      <td>Married-civ-spouse</td>\n",
       "      <td>Prof-specialty</td>\n",
       "      <td>Husband</td>\n",
       "      <td>White</td>\n",
       "      <td>Male</td>\n",
       "      <td>0</td>\n",
       "      <td>0</td>\n",
       "      <td>50</td>\n",
       "      <td>United-States</td>\n",
       "      <td>&lt;=50K.</td>\n",
       "    </tr>\n",
       "    <tr>\n",
       "      <th>48840</th>\n",
       "      <td>44</td>\n",
       "      <td>Private</td>\n",
       "      <td>83891</td>\n",
       "      <td>Bachelors</td>\n",
       "      <td>13</td>\n",
       "      <td>Divorced</td>\n",
       "      <td>Adm-clerical</td>\n",
       "      <td>Own-child</td>\n",
       "      <td>Asian-Pac-Islander</td>\n",
       "      <td>Male</td>\n",
       "      <td>5455</td>\n",
       "      <td>0</td>\n",
       "      <td>40</td>\n",
       "      <td>United-States</td>\n",
       "      <td>&lt;=50K.</td>\n",
       "    </tr>\n",
       "    <tr>\n",
       "      <th>48841</th>\n",
       "      <td>35</td>\n",
       "      <td>Self-emp-inc</td>\n",
       "      <td>182148</td>\n",
       "      <td>Bachelors</td>\n",
       "      <td>13</td>\n",
       "      <td>Married-civ-spouse</td>\n",
       "      <td>Exec-managerial</td>\n",
       "      <td>Husband</td>\n",
       "      <td>White</td>\n",
       "      <td>Male</td>\n",
       "      <td>0</td>\n",
       "      <td>0</td>\n",
       "      <td>60</td>\n",
       "      <td>United-States</td>\n",
       "      <td>&gt;50K.</td>\n",
       "    </tr>\n",
       "  </tbody>\n",
       "</table>\n",
       "<p>48842 rows × 15 columns</p>\n",
       "</div>"
      ],
      "text/plain": [
       "       Age    Employment_Type  Weighting_Factor   Education  School_Period  \\\n",
       "0       39          State-gov             77516   Bachelors             13   \n",
       "1       50   Self-emp-not-inc             83311   Bachelors             13   \n",
       "2       38            Private            215646     HS-grad              9   \n",
       "3       53            Private            234721        11th              7   \n",
       "4       28            Private            338409   Bachelors             13   \n",
       "...    ...                ...               ...         ...            ...   \n",
       "48837   39            Private            215419   Bachelors             13   \n",
       "48838   64                  ?            321403     HS-grad              9   \n",
       "48839   38            Private            374983   Bachelors             13   \n",
       "48840   44            Private             83891   Bachelors             13   \n",
       "48841   35       Self-emp-inc            182148   Bachelors             13   \n",
       "\n",
       "            Marital_Status     Employment_Area      Partnership  \\\n",
       "0            Never-married        Adm-clerical    Not-in-family   \n",
       "1       Married-civ-spouse     Exec-managerial          Husband   \n",
       "2                 Divorced   Handlers-cleaners    Not-in-family   \n",
       "3       Married-civ-spouse   Handlers-cleaners          Husband   \n",
       "4       Married-civ-spouse      Prof-specialty             Wife   \n",
       "...                    ...                 ...              ...   \n",
       "48837             Divorced      Prof-specialty    Not-in-family   \n",
       "48838              Widowed                   ?   Other-relative   \n",
       "48839   Married-civ-spouse      Prof-specialty          Husband   \n",
       "48840             Divorced        Adm-clerical        Own-child   \n",
       "48841   Married-civ-spouse     Exec-managerial          Husband   \n",
       "\n",
       "                 Ethnicity   Gender  Gain_Financial  Losses_Financial  \\\n",
       "0                    White     Male            2174                 0   \n",
       "1                    White     Male               0                 0   \n",
       "2                    White     Male               0                 0   \n",
       "3                    Black     Male               0                 0   \n",
       "4                    Black   Female               0                 0   \n",
       "...                    ...      ...             ...               ...   \n",
       "48837                White   Female               0                 0   \n",
       "48838                Black     Male               0                 0   \n",
       "48839                White     Male               0                 0   \n",
       "48840   Asian-Pac-Islander     Male            5455                 0   \n",
       "48841                White     Male               0                 0   \n",
       "\n",
       "       Weekly_Working_Time   Birth_Country   Income  \n",
       "0                       40   United-States    <=50K  \n",
       "1                       13   United-States    <=50K  \n",
       "2                       40   United-States    <=50K  \n",
       "3                       40   United-States    <=50K  \n",
       "4                       40            Cuba    <=50K  \n",
       "...                    ...             ...      ...  \n",
       "48837                   36   United-States   <=50K.  \n",
       "48838                   40   United-States   <=50K.  \n",
       "48839                   50   United-States   <=50K.  \n",
       "48840                   40   United-States   <=50K.  \n",
       "48841                   60   United-States    >50K.  \n",
       "\n",
       "[48842 rows x 15 columns]"
      ]
     },
     "execution_count": 222,
     "metadata": {},
     "output_type": "execute_result"
    }
   ],
   "source": [
    "df1 = pd.read_csv('C:/Users/MSI KATANA/Desktop/practice ML/machine L cw 2024/Machine-Learning-CW/dataset_with_column_names_final.csv')\n",
    "df1"
   ]
  },
  {
   "cell_type": "code",
   "execution_count": 223,
   "id": "736e5961",
   "metadata": {},
   "outputs": [],
   "source": [
    "# checking for the missing values"
   ]
  },
  {
   "cell_type": "code",
   "execution_count": 224,
   "id": "ba3f6ae5",
   "metadata": {},
   "outputs": [],
   "source": [
    "missing_values = df1.isnull()\n",
    "# taking the count\n",
    "missing_counts = missing_values.sum()"
   ]
  },
  {
   "cell_type": "code",
   "execution_count": 225,
   "id": "14aba3ba",
   "metadata": {},
   "outputs": [
    {
     "name": "stdout",
     "output_type": "stream",
     "text": [
      "Missing Values:\n",
      "Age                    0\n",
      "Employment_Type        0\n",
      "Weighting_Factor       0\n",
      "Education              0\n",
      "School_Period          0\n",
      "Marital_Status         0\n",
      "Employment_Area        0\n",
      "Partnership            0\n",
      "Ethnicity              0\n",
      "Gender                 0\n",
      "Gain_Financial         0\n",
      "Losses_Financial       0\n",
      "Weekly_Working_Time    0\n",
      "Birth_Country          0\n",
      "Income                 0\n",
      "dtype: int64\n"
     ]
    }
   ],
   "source": [
    "print(\"Missing Values:\")\n",
    "print(missing_counts)"
   ]
  },
  {
   "cell_type": "code",
   "execution_count": 226,
   "id": "7470cea2",
   "metadata": {},
   "outputs": [
    {
     "name": "stdout",
     "output_type": "stream",
     "text": [
      "\n",
      "Summary of Missing Values and Data Types:\n",
      "<class 'pandas.core.frame.DataFrame'>\n",
      "RangeIndex: 48842 entries, 0 to 48841\n",
      "Data columns (total 15 columns):\n",
      " #   Column               Non-Null Count  Dtype \n",
      "---  ------               --------------  ----- \n",
      " 0   Age                  48842 non-null  int64 \n",
      " 1   Employment_Type      48842 non-null  object\n",
      " 2   Weighting_Factor     48842 non-null  int64 \n",
      " 3   Education            48842 non-null  object\n",
      " 4   School_Period        48842 non-null  int64 \n",
      " 5   Marital_Status       48842 non-null  object\n",
      " 6   Employment_Area      48842 non-null  object\n",
      " 7   Partnership          48842 non-null  object\n",
      " 8   Ethnicity            48842 non-null  object\n",
      " 9   Gender               48842 non-null  object\n",
      " 10  Gain_Financial       48842 non-null  int64 \n",
      " 11  Losses_Financial     48842 non-null  int64 \n",
      " 12  Weekly_Working_Time  48842 non-null  int64 \n",
      " 13  Birth_Country        48842 non-null  object\n",
      " 14  Income               48842 non-null  object\n",
      "dtypes: int64(6), object(9)\n",
      "memory usage: 5.6+ MB\n",
      "None\n"
     ]
    }
   ],
   "source": [
    "print(\"\\nSummary of Missing Values and Data Types:\")\n",
    "print(df.info())"
   ]
  },
  {
   "cell_type": "code",
   "execution_count": 227,
   "id": "6a403b1f",
   "metadata": {},
   "outputs": [
    {
     "data": {
      "text/plain": [
       "(48842, 15)"
      ]
     },
     "execution_count": 227,
     "metadata": {},
     "output_type": "execute_result"
    }
   ],
   "source": [
    "df1.shape"
   ]
  },
  {
   "cell_type": "code",
   "execution_count": 228,
   "id": "20088ac8",
   "metadata": {},
   "outputs": [],
   "source": [
    "df1 = df1.drop_duplicates()"
   ]
  },
  {
   "cell_type": "code",
   "execution_count": 229,
   "id": "ef137dea",
   "metadata": {},
   "outputs": [
    {
     "data": {
      "text/plain": [
       "(48813, 15)"
      ]
     },
     "execution_count": 229,
     "metadata": {},
     "output_type": "execute_result"
    }
   ],
   "source": [
    "df1.shape"
   ]
  },
  {
   "cell_type": "code",
   "execution_count": 230,
   "id": "74a0905f",
   "metadata": {},
   "outputs": [],
   "source": [
    "# cheking for unique values"
   ]
  },
  {
   "cell_type": "code",
   "execution_count": 231,
   "id": "e3963332",
   "metadata": {},
   "outputs": [
    {
     "data": {
      "text/plain": [
       "array([39, 50, 38, 53, 28, 37, 49, 52, 31, 42, 30, 23, 32, 40, 34, 25, 43,\n",
       "       54, 35, 59, 56, 19, 20, 45, 22, 48, 21, 24, 57, 44, 41, 29, 18, 47,\n",
       "       46, 36, 79, 27, 67, 33, 76, 17, 55, 61, 70, 64, 71, 68, 66, 51, 58,\n",
       "       26, 60, 90, 75, 65, 77, 62, 63, 80, 72, 74, 69, 73, 81, 78, 88, 82,\n",
       "       83, 84, 85, 86, 87, 89], dtype=int64)"
      ]
     },
     "execution_count": 231,
     "metadata": {},
     "output_type": "execute_result"
    }
   ],
   "source": [
    "df1['Age'].unique()\n",
    "# here i considerd people over 18 years are adults"
   ]
  },
  {
   "cell_type": "code",
   "execution_count": 232,
   "id": "fc722f49",
   "metadata": {},
   "outputs": [],
   "source": [
    "# List of values to remove\n",
    "values_to_remove = [17]\n",
    "\n",
    "# Filter the DataFrame to exclude rows with specified values\n",
    "df1 = df1[~df1['Age'].isin(values_to_remove)]\n"
   ]
  },
  {
   "cell_type": "code",
   "execution_count": 233,
   "id": "92067a0b",
   "metadata": {},
   "outputs": [
    {
     "data": {
      "text/plain": [
       "array([39, 50, 38, 53, 28, 37, 49, 52, 31, 42, 30, 23, 32, 40, 34, 25, 43,\n",
       "       54, 35, 59, 56, 19, 20, 45, 22, 48, 21, 24, 57, 44, 41, 29, 18, 47,\n",
       "       46, 36, 79, 27, 67, 33, 76, 55, 61, 70, 64, 71, 68, 66, 51, 58, 26,\n",
       "       60, 90, 75, 65, 77, 62, 63, 80, 72, 74, 69, 73, 81, 78, 88, 82, 83,\n",
       "       84, 85, 86, 87, 89], dtype=int64)"
      ]
     },
     "execution_count": 233,
     "metadata": {},
     "output_type": "execute_result"
    }
   ],
   "source": [
    "df1['Age'].unique()"
   ]
  },
  {
   "cell_type": "code",
   "execution_count": 234,
   "id": "13f2b829",
   "metadata": {},
   "outputs": [
    {
     "data": {
      "text/plain": [
       "array([' State-gov', ' Self-emp-not-inc', ' Private', ' Federal-gov',\n",
       "       ' Local-gov', ' ?', ' Self-emp-inc', ' Without-pay',\n",
       "       ' Never-worked'], dtype=object)"
      ]
     },
     "execution_count": 234,
     "metadata": {},
     "output_type": "execute_result"
    }
   ],
   "source": [
    "df1['Employment_Type'].unique()"
   ]
  },
  {
   "cell_type": "code",
   "execution_count": 235,
   "id": "3c9784ba",
   "metadata": {},
   "outputs": [],
   "source": [
    "# List of values to remove\n",
    "values_to_remove = [' ?']\n",
    "\n",
    "# Filter the DataFrame to exclude rows with specified values\n",
    "df1 = df1[~df1['Employment_Type'].isin(values_to_remove)]\n"
   ]
  },
  {
   "cell_type": "code",
   "execution_count": 236,
   "id": "2aa8043d",
   "metadata": {},
   "outputs": [
    {
     "data": {
      "text/plain": [
       "array([' State-gov', ' Self-emp-not-inc', ' Private', ' Federal-gov',\n",
       "       ' Local-gov', ' Self-emp-inc', ' Without-pay', ' Never-worked'],\n",
       "      dtype=object)"
      ]
     },
     "execution_count": 236,
     "metadata": {},
     "output_type": "execute_result"
    }
   ],
   "source": [
    "df1['Employment_Type'].unique()"
   ]
  },
  {
   "cell_type": "code",
   "execution_count": 237,
   "id": "61044ba1",
   "metadata": {},
   "outputs": [
    {
     "data": {
      "text/plain": [
       "array([ 77516,  83311, 215646, ..., 173449,  89686, 350977], dtype=int64)"
      ]
     },
     "execution_count": 237,
     "metadata": {},
     "output_type": "execute_result"
    }
   ],
   "source": [
    "df1['Weighting_Factor'].unique()"
   ]
  },
  {
   "cell_type": "code",
   "execution_count": 238,
   "id": "42b2be75",
   "metadata": {},
   "outputs": [
    {
     "name": "stdout",
     "output_type": "stream",
     "text": [
      "Number of unique values in 'Weighting_Factor' column: 26615\n"
     ]
    }
   ],
   "source": [
    "# Count the number of unique values in the 'Weighting_Factor' column\n",
    "unique_count = df1['Weighting_Factor'].nunique()\n",
    "\n",
    "# Print the number of unique values\n",
    "print(\"Number of unique values in 'Weighting_Factor' column:\", unique_count)\n"
   ]
  },
  {
   "cell_type": "code",
   "execution_count": 239,
   "id": "042de864",
   "metadata": {},
   "outputs": [],
   "source": [
    "# check the unwanted values of above column"
   ]
  },
  {
   "cell_type": "code",
   "execution_count": 240,
   "id": "6fc4854c",
   "metadata": {},
   "outputs": [
    {
     "data": {
      "text/plain": [
       "array([' Bachelors', ' HS-grad', ' 11th', ' Masters', ' 9th',\n",
       "       ' Some-college', ' Assoc-acdm', ' Assoc-voc', ' 7th-8th',\n",
       "       ' Doctorate', ' Prof-school', ' 5th-6th', ' 10th', ' Preschool',\n",
       "       ' 12th', ' 1st-4th'], dtype=object)"
      ]
     },
     "execution_count": 240,
     "metadata": {},
     "output_type": "execute_result"
    }
   ],
   "source": [
    "df1['Education'].unique()"
   ]
  },
  {
   "cell_type": "code",
   "execution_count": 241,
   "id": "6051f1ea",
   "metadata": {},
   "outputs": [],
   "source": [
    "# here looks like no unwanted features"
   ]
  },
  {
   "cell_type": "code",
   "execution_count": 242,
   "id": "116b0eb6",
   "metadata": {},
   "outputs": [
    {
     "data": {
      "text/plain": [
       "array([13,  9,  7, 14,  5, 10, 12, 11,  4, 16, 15,  3,  6,  1,  8,  2],\n",
       "      dtype=int64)"
      ]
     },
     "execution_count": 242,
     "metadata": {},
     "output_type": "execute_result"
    }
   ],
   "source": [
    "df1['School_Period'].unique()"
   ]
  },
  {
   "cell_type": "code",
   "execution_count": 243,
   "id": "2296210f",
   "metadata": {},
   "outputs": [],
   "source": [
    "# here looks like no unwanted features"
   ]
  },
  {
   "cell_type": "code",
   "execution_count": 244,
   "id": "27208a17",
   "metadata": {},
   "outputs": [
    {
     "data": {
      "text/plain": [
       "array([' Never-married', ' Married-civ-spouse', ' Divorced',\n",
       "       ' Married-spouse-absent', ' Separated', ' Married-AF-spouse',\n",
       "       ' Widowed'], dtype=object)"
      ]
     },
     "execution_count": 244,
     "metadata": {},
     "output_type": "execute_result"
    }
   ],
   "source": [
    "df1['Marital_Status'].unique()"
   ]
  },
  {
   "cell_type": "code",
   "execution_count": 245,
   "id": "553ff567",
   "metadata": {},
   "outputs": [],
   "source": [
    "# Married-spouse-absent means legally married but their spouse is not currently living with them"
   ]
  },
  {
   "cell_type": "code",
   "execution_count": 246,
   "id": "c7a8b158",
   "metadata": {},
   "outputs": [],
   "source": [
    "# here looks like no unwanted features"
   ]
  },
  {
   "cell_type": "code",
   "execution_count": 247,
   "id": "9c467224",
   "metadata": {},
   "outputs": [
    {
     "data": {
      "text/plain": [
       "array([' Adm-clerical', ' Exec-managerial', ' Handlers-cleaners',\n",
       "       ' Prof-specialty', ' Other-service', ' Sales', ' Craft-repair',\n",
       "       ' Transport-moving', ' Farming-fishing', ' Machine-op-inspct',\n",
       "       ' Tech-support', ' Protective-serv', ' Armed-Forces',\n",
       "       ' Priv-house-serv', ' ?'], dtype=object)"
      ]
     },
     "execution_count": 247,
     "metadata": {},
     "output_type": "execute_result"
    }
   ],
   "source": [
    "df1['Employment_Area'].unique()"
   ]
  },
  {
   "cell_type": "code",
   "execution_count": 248,
   "id": "fda11aec",
   "metadata": {},
   "outputs": [],
   "source": [
    "# List of values to remove\n",
    "values_to_remove = [' ?']\n",
    "\n",
    "# Filter the DataFrame to exclude rows with specified values\n",
    "df1 = df1[~df1['Employment_Area'].isin(values_to_remove)]\n"
   ]
  },
  {
   "cell_type": "code",
   "execution_count": 249,
   "id": "9182cc5f",
   "metadata": {},
   "outputs": [
    {
     "data": {
      "text/plain": [
       "array([' Adm-clerical', ' Exec-managerial', ' Handlers-cleaners',\n",
       "       ' Prof-specialty', ' Other-service', ' Sales', ' Craft-repair',\n",
       "       ' Transport-moving', ' Farming-fishing', ' Machine-op-inspct',\n",
       "       ' Tech-support', ' Protective-serv', ' Armed-Forces',\n",
       "       ' Priv-house-serv'], dtype=object)"
      ]
     },
     "execution_count": 249,
     "metadata": {},
     "output_type": "execute_result"
    }
   ],
   "source": [
    "df1['Employment_Area'].unique()"
   ]
  },
  {
   "cell_type": "code",
   "execution_count": 250,
   "id": "e477f34f",
   "metadata": {},
   "outputs": [
    {
     "data": {
      "text/plain": [
       "array([' Not-in-family', ' Husband', ' Wife', ' Own-child', ' Unmarried',\n",
       "       ' Other-relative'], dtype=object)"
      ]
     },
     "execution_count": 250,
     "metadata": {},
     "output_type": "execute_result"
    }
   ],
   "source": [
    "df1['Partnership'].unique()"
   ]
  },
  {
   "cell_type": "code",
   "execution_count": 251,
   "id": "902a2e92",
   "metadata": {},
   "outputs": [],
   "source": [
    "# here looks like no unwanted features"
   ]
  },
  {
   "cell_type": "code",
   "execution_count": 252,
   "id": "46bb410d",
   "metadata": {},
   "outputs": [
    {
     "data": {
      "text/plain": [
       "array([' White', ' Black', ' Asian-Pac-Islander', ' Amer-Indian-Eskimo',\n",
       "       ' Other'], dtype=object)"
      ]
     },
     "execution_count": 252,
     "metadata": {},
     "output_type": "execute_result"
    }
   ],
   "source": [
    "df1['Ethnicity'].unique()"
   ]
  },
  {
   "cell_type": "code",
   "execution_count": 253,
   "id": "0c2dc167",
   "metadata": {},
   "outputs": [],
   "source": [
    "# here looks like no unwanted features"
   ]
  },
  {
   "cell_type": "code",
   "execution_count": 254,
   "id": "d5cfdfa0",
   "metadata": {},
   "outputs": [
    {
     "data": {
      "text/plain": [
       "array([' Male', ' Female'], dtype=object)"
      ]
     },
     "execution_count": 254,
     "metadata": {},
     "output_type": "execute_result"
    }
   ],
   "source": [
    "df1['Gender'].unique()  "
   ]
  },
  {
   "cell_type": "code",
   "execution_count": 255,
   "id": "c61446b7",
   "metadata": {},
   "outputs": [],
   "source": [
    "# here looks like no unwanted features"
   ]
  },
  {
   "cell_type": "code",
   "execution_count": null,
   "id": "c8500548",
   "metadata": {},
   "outputs": [],
   "source": []
  },
  {
   "cell_type": "code",
   "execution_count": 256,
   "id": "3b057960",
   "metadata": {},
   "outputs": [
    {
     "data": {
      "text/plain": [
       "array([ 2174,     0, 14084,  5178,  5013,  2407, 14344, 15024,  7688,\n",
       "        4064,  4386,  7298,  1409,  3674,  2050,   594, 20051,  6849,\n",
       "        1055,  4101,  8614,  3411,  2597, 25236,  4650,  9386,  2463,\n",
       "        3103, 10605,  2964,  3325,  2580,  3471,  4865, 99999,  6514,\n",
       "        1471,  2329,  2105,  2885, 10520,  2202,  2961, 27828,  6767,\n",
       "        2228,  1506, 13550,  2635,  5556,  4787,  3781,  3137,  3818,\n",
       "         914,   401,  2829,  2977,  4934,  2062,  2354,  3464,  5455,\n",
       "       15020,  1424,  3273, 22040,  4416, 10566,  4931,  7430, 34095,\n",
       "        6497,  3908,   114,  7896,  2346,  2907,  1151,  2414,  2290,\n",
       "        3418, 15831, 41310,  4508,  2538,  3456,  1848,  3887,  5721,\n",
       "        9562,  6418,  1455,  2036,  3942,  1831,  2176, 11678,  2936,\n",
       "        2993,  7443,  6360,  4687,  1797,  6723,  2009,  3432,  6097,\n",
       "        1639,  2653, 18481, 25124,  7978,   991,  1173,  2387,  5060,\n",
       "        1086,  1264,  7262,  1731], dtype=int64)"
      ]
     },
     "execution_count": 256,
     "metadata": {},
     "output_type": "execute_result"
    }
   ],
   "source": [
    "df1['Gain_Financial'].unique() "
   ]
  },
  {
   "cell_type": "code",
   "execution_count": 257,
   "id": "c1568e58",
   "metadata": {},
   "outputs": [
    {
     "name": "stdout",
     "output_type": "stream",
     "text": [
      "Value: 0, Frequency: 41660\n",
      "Value: 114, Frequency: 8\n",
      "Value: 401, Frequency: 2\n",
      "Value: 594, Frequency: 37\n",
      "Value: 914, Frequency: 10\n",
      "Value: 991, Frequency: 4\n",
      "Value: 1055, Frequency: 26\n",
      "Value: 1086, Frequency: 5\n",
      "Value: 1151, Frequency: 13\n",
      "Value: 1173, Frequency: 2\n",
      "Value: 1264, Frequency: 2\n",
      "Value: 1409, Frequency: 6\n",
      "Value: 1424, Frequency: 4\n",
      "Value: 1455, Frequency: 3\n",
      "Value: 1471, Frequency: 9\n",
      "Value: 1506, Frequency: 24\n",
      "Value: 1639, Frequency: 1\n",
      "Value: 1731, Frequency: 1\n",
      "Value: 1797, Frequency: 8\n",
      "Value: 1831, Frequency: 9\n",
      "Value: 1848, Frequency: 8\n",
      "Value: 2009, Frequency: 2\n",
      "Value: 2036, Frequency: 5\n",
      "Value: 2050, Frequency: 3\n",
      "Value: 2062, Frequency: 3\n",
      "Value: 2105, Frequency: 11\n",
      "Value: 2174, Frequency: 74\n",
      "Value: 2176, Frequency: 27\n",
      "Value: 2202, Frequency: 28\n",
      "Value: 2228, Frequency: 3\n",
      "Value: 2290, Frequency: 8\n",
      "Value: 2329, Frequency: 5\n",
      "Value: 2346, Frequency: 7\n",
      "Value: 2354, Frequency: 21\n",
      "Value: 2387, Frequency: 1\n",
      "Value: 2407, Frequency: 23\n",
      "Value: 2414, Frequency: 7\n",
      "Value: 2463, Frequency: 15\n",
      "Value: 2538, Frequency: 4\n",
      "Value: 2580, Frequency: 19\n",
      "Value: 2597, Frequency: 31\n",
      "Value: 2635, Frequency: 13\n",
      "Value: 2653, Frequency: 9\n",
      "Value: 2829, Frequency: 42\n",
      "Value: 2885, Frequency: 28\n",
      "Value: 2907, Frequency: 17\n",
      "Value: 2936, Frequency: 3\n",
      "Value: 2961, Frequency: 3\n",
      "Value: 2964, Frequency: 10\n",
      "Value: 2977, Frequency: 11\n",
      "Value: 2993, Frequency: 2\n",
      "Value: 3103, Frequency: 146\n",
      "Value: 3137, Frequency: 51\n",
      "Value: 3273, Frequency: 7\n",
      "Value: 3325, Frequency: 81\n",
      "Value: 3411, Frequency: 30\n",
      "Value: 3418, Frequency: 5\n",
      "Value: 3432, Frequency: 2\n",
      "Value: 3456, Frequency: 5\n",
      "Value: 3464, Frequency: 30\n",
      "Value: 3471, Frequency: 10\n",
      "Value: 3674, Frequency: 20\n",
      "Value: 3781, Frequency: 14\n",
      "Value: 3818, Frequency: 8\n",
      "Value: 3887, Frequency: 8\n",
      "Value: 3908, Frequency: 41\n",
      "Value: 3942, Frequency: 16\n",
      "Value: 4064, Frequency: 53\n",
      "Value: 4101, Frequency: 29\n",
      "Value: 4386, Frequency: 105\n",
      "Value: 4416, Frequency: 23\n",
      "Value: 4508, Frequency: 22\n",
      "Value: 4650, Frequency: 62\n",
      "Value: 4687, Frequency: 4\n",
      "Value: 4787, Frequency: 34\n",
      "Value: 4865, Frequency: 24\n",
      "Value: 4931, Frequency: 4\n",
      "Value: 4934, Frequency: 10\n",
      "Value: 5013, Frequency: 116\n",
      "Value: 5060, Frequency: 2\n",
      "Value: 5178, Frequency: 139\n",
      "Value: 5455, Frequency: 18\n",
      "Value: 5556, Frequency: 5\n",
      "Value: 5721, Frequency: 7\n",
      "Value: 6097, Frequency: 2\n",
      "Value: 6360, Frequency: 3\n",
      "Value: 6418, Frequency: 14\n",
      "Value: 6497, Frequency: 15\n",
      "Value: 6514, Frequency: 9\n",
      "Value: 6723, Frequency: 4\n",
      "Value: 6767, Frequency: 4\n",
      "Value: 6849, Frequency: 41\n",
      "Value: 7262, Frequency: 1\n",
      "Value: 7298, Frequency: 358\n",
      "Value: 7430, Frequency: 15\n",
      "Value: 7443, Frequency: 7\n",
      "Value: 7688, Frequency: 402\n",
      "Value: 7896, Frequency: 4\n",
      "Value: 7978, Frequency: 2\n",
      "Value: 8614, Frequency: 79\n",
      "Value: 9386, Frequency: 24\n",
      "Value: 9562, Frequency: 5\n",
      "Value: 10520, Frequency: 64\n",
      "Value: 10566, Frequency: 8\n",
      "Value: 10605, Frequency: 16\n",
      "Value: 11678, Frequency: 4\n",
      "Value: 13550, Frequency: 41\n",
      "Value: 14084, Frequency: 48\n",
      "Value: 14344, Frequency: 34\n",
      "Value: 15020, Frequency: 10\n",
      "Value: 15024, Frequency: 508\n",
      "Value: 15831, Frequency: 8\n",
      "Value: 18481, Frequency: 2\n",
      "Value: 20051, Frequency: 46\n",
      "Value: 22040, Frequency: 1\n",
      "Value: 25124, Frequency: 4\n",
      "Value: 25236, Frequency: 14\n",
      "Value: 27828, Frequency: 57\n",
      "Value: 34095, Frequency: 4\n",
      "Value: 41310, Frequency: 3\n",
      "Value: 99999, Frequency: 239\n"
     ]
    }
   ],
   "source": [
    "frequency = df1['Gain_Financial'].value_counts()\n",
    "\n",
    "# Sort the frequency \n",
    "frequency_sorted = frequency.sort_index()\n",
    "\n",
    "for value, freq in frequency_sorted.items():\n",
    "    print(f\"Value: {value}, Frequency: {freq}\")"
   ]
  },
  {
   "cell_type": "code",
   "execution_count": 258,
   "id": "88bc2537",
   "metadata": {},
   "outputs": [],
   "source": [
    "## need to consider with attribute and their aspect for further cleaning"
   ]
  },
  {
   "cell_type": "code",
   "execution_count": null,
   "id": "33fa9200",
   "metadata": {},
   "outputs": [],
   "source": []
  },
  {
   "cell_type": "code",
   "execution_count": 259,
   "id": "727a1378",
   "metadata": {},
   "outputs": [
    {
     "data": {
      "text/plain": [
       "array([   0, 2042, 1408, 1902, 1573, 1887, 1719, 1762, 1564, 2179, 1816,\n",
       "       1980, 1977, 1876, 1340, 2206, 1741, 1485, 2339, 2415, 1380, 1721,\n",
       "       2051, 2377, 1669, 2352, 1672,  653, 2392, 1504, 1590, 1651, 1628,\n",
       "       1848, 2001, 1740, 2002, 1579, 2258, 1602, 2547, 2205, 1726, 2444,\n",
       "       1138, 2238,  625,  213, 1539,  880, 1668, 1092, 1594, 3004, 2231,\n",
       "       1844,  810, 2824, 2559, 2057, 1974,  974, 2174, 2149, 1735, 1258,\n",
       "       2129, 2603, 2282,  323, 2246, 1617, 1648, 1825, 3770, 1755, 3683,\n",
       "       4356, 2267, 2080, 2457,  419,  155, 3900, 2201, 1944, 2467, 2754,\n",
       "       2472, 1411, 1429, 3175, 1870, 1911, 1510, 1421, 2163], dtype=int64)"
      ]
     },
     "execution_count": 259,
     "metadata": {},
     "output_type": "execute_result"
    }
   ],
   "source": [
    "df1['Losses_Financial'].unique() "
   ]
  },
  {
   "cell_type": "code",
   "execution_count": 260,
   "id": "64f4d5d7",
   "metadata": {},
   "outputs": [],
   "source": [
    "## need to consider with attribute and their aspect for further cleaning"
   ]
  },
  {
   "cell_type": "code",
   "execution_count": 261,
   "id": "2080a757",
   "metadata": {},
   "outputs": [
    {
     "data": {
      "text/plain": [
       "array([40, 13, 16, 45, 50, 80, 30, 35, 60, 20, 52, 44, 15, 25, 38, 43, 55,\n",
       "       48, 58, 32, 70, 22, 56, 41, 28, 36, 24, 46,  2, 42, 12, 65,  1, 34,\n",
       "       75, 98, 33, 54, 10,  6, 64, 19, 72,  8,  9, 47, 37, 26, 14,  5, 59,\n",
       "       18,  7, 99, 53, 39, 62, 57, 78, 90, 66, 11, 49, 84,  4, 68, 21,  3,\n",
       "       27, 85, 17, 31, 51, 77, 63, 23, 87, 88, 73, 89, 97, 94, 29, 96, 67,\n",
       "       82, 86, 91, 81, 76, 92, 61, 74, 95, 79, 69], dtype=int64)"
      ]
     },
     "execution_count": 261,
     "metadata": {},
     "output_type": "execute_result"
    }
   ],
   "source": [
    "df1['Weekly_Working_Time'].unique()"
   ]
  },
  {
   "cell_type": "code",
   "execution_count": 262,
   "id": "38b34c15",
   "metadata": {},
   "outputs": [],
   "source": [
    "# seems no error"
   ]
  },
  {
   "cell_type": "code",
   "execution_count": 263,
   "id": "1f7e26a4",
   "metadata": {},
   "outputs": [
    {
     "data": {
      "text/plain": [
       "array([' United-States', ' Cuba', ' Jamaica', ' India', ' ?', ' Mexico',\n",
       "       ' Puerto-Rico', ' Honduras', ' England', ' Canada', ' Germany',\n",
       "       ' Iran', ' Philippines', ' Poland', ' Columbia', ' Cambodia',\n",
       "       ' Thailand', ' Ecuador', ' Laos', ' Taiwan', ' Haiti', ' Portugal',\n",
       "       ' Dominican-Republic', ' El-Salvador', ' France', ' Guatemala',\n",
       "       ' Italy', ' China', ' South', ' Japan', ' Yugoslavia', ' Peru',\n",
       "       ' Outlying-US(Guam-USVI-etc)', ' Scotland', ' Trinadad&Tobago',\n",
       "       ' Greece', ' Nicaragua', ' Vietnam', ' Hong', ' Ireland',\n",
       "       ' Hungary', ' Holand-Netherlands'], dtype=object)"
      ]
     },
     "execution_count": 263,
     "metadata": {},
     "output_type": "execute_result"
    }
   ],
   "source": [
    "df1['Birth_Country'].unique()"
   ]
  },
  {
   "cell_type": "code",
   "execution_count": 264,
   "id": "be5b54b9",
   "metadata": {},
   "outputs": [],
   "source": [
    "# List of values to remove\n",
    "values_to_remove = [' ?']\n",
    "\n",
    "# Filter the DataFrame to exclude rows with specified values\n",
    "df1 = df1[~df1['Birth_Country'].isin(values_to_remove)]\n"
   ]
  },
  {
   "cell_type": "code",
   "execution_count": 265,
   "id": "44bba9ac",
   "metadata": {},
   "outputs": [
    {
     "data": {
      "text/plain": [
       "array([' United-States', ' Cuba', ' Jamaica', ' India', ' Mexico',\n",
       "       ' Puerto-Rico', ' Honduras', ' England', ' Canada', ' Germany',\n",
       "       ' Iran', ' Philippines', ' Poland', ' Columbia', ' Cambodia',\n",
       "       ' Thailand', ' Ecuador', ' Laos', ' Taiwan', ' Haiti', ' Portugal',\n",
       "       ' Dominican-Republic', ' El-Salvador', ' France', ' Guatemala',\n",
       "       ' Italy', ' China', ' South', ' Japan', ' Yugoslavia', ' Peru',\n",
       "       ' Outlying-US(Guam-USVI-etc)', ' Scotland', ' Trinadad&Tobago',\n",
       "       ' Greece', ' Nicaragua', ' Vietnam', ' Hong', ' Ireland',\n",
       "       ' Hungary', ' Holand-Netherlands'], dtype=object)"
      ]
     },
     "execution_count": 265,
     "metadata": {},
     "output_type": "execute_result"
    }
   ],
   "source": [
    "df1['Birth_Country'].unique()"
   ]
  },
  {
   "cell_type": "code",
   "execution_count": 266,
   "id": "c5f6a8e6",
   "metadata": {},
   "outputs": [
    {
     "data": {
      "text/plain": [
       "array([' <=50K', ' >50K', ' <=50K.', ' >50K.'], dtype=object)"
      ]
     },
     "execution_count": 266,
     "metadata": {},
     "output_type": "execute_result"
    }
   ],
   "source": [
    "df1['Income'].unique()"
   ]
  },
  {
   "cell_type": "code",
   "execution_count": 267,
   "id": "4379e40b",
   "metadata": {},
   "outputs": [],
   "source": [
    "# seems no error"
   ]
  },
  {
   "cell_type": "code",
   "execution_count": null,
   "id": "0908d290",
   "metadata": {},
   "outputs": [],
   "source": []
  },
  {
   "cell_type": "code",
   "execution_count": null,
   "id": "eb20e7a6",
   "metadata": {},
   "outputs": [],
   "source": []
  },
  {
   "cell_type": "code",
   "execution_count": 268,
   "id": "d55266fb",
   "metadata": {},
   "outputs": [
    {
     "data": {
      "text/html": [
       "<div>\n",
       "<style scoped>\n",
       "    .dataframe tbody tr th:only-of-type {\n",
       "        vertical-align: middle;\n",
       "    }\n",
       "\n",
       "    .dataframe tbody tr th {\n",
       "        vertical-align: top;\n",
       "    }\n",
       "\n",
       "    .dataframe thead th {\n",
       "        text-align: right;\n",
       "    }\n",
       "</style>\n",
       "<table border=\"1\" class=\"dataframe\">\n",
       "  <thead>\n",
       "    <tr style=\"text-align: right;\">\n",
       "      <th></th>\n",
       "      <th>Age</th>\n",
       "      <th>Employment_Type</th>\n",
       "      <th>Weighting_Factor</th>\n",
       "      <th>Education</th>\n",
       "      <th>School_Period</th>\n",
       "      <th>Marital_Status</th>\n",
       "      <th>Employment_Area</th>\n",
       "      <th>Partnership</th>\n",
       "      <th>Ethnicity</th>\n",
       "      <th>Gender</th>\n",
       "      <th>Gain_Financial</th>\n",
       "      <th>Losses_Financial</th>\n",
       "      <th>Weekly_Working_Time</th>\n",
       "      <th>Birth_Country</th>\n",
       "      <th>Income</th>\n",
       "    </tr>\n",
       "  </thead>\n",
       "  <tbody>\n",
       "    <tr>\n",
       "      <th>0</th>\n",
       "      <td>39</td>\n",
       "      <td>State-gov</td>\n",
       "      <td>77516</td>\n",
       "      <td>Bachelors</td>\n",
       "      <td>13</td>\n",
       "      <td>Never-married</td>\n",
       "      <td>Adm-clerical</td>\n",
       "      <td>Not-in-family</td>\n",
       "      <td>White</td>\n",
       "      <td>Male</td>\n",
       "      <td>2174</td>\n",
       "      <td>0</td>\n",
       "      <td>40</td>\n",
       "      <td>United-States</td>\n",
       "      <td>&lt;=50K</td>\n",
       "    </tr>\n",
       "    <tr>\n",
       "      <th>1</th>\n",
       "      <td>50</td>\n",
       "      <td>Self-emp-not-inc</td>\n",
       "      <td>83311</td>\n",
       "      <td>Bachelors</td>\n",
       "      <td>13</td>\n",
       "      <td>Married-civ-spouse</td>\n",
       "      <td>Exec-managerial</td>\n",
       "      <td>Husband</td>\n",
       "      <td>White</td>\n",
       "      <td>Male</td>\n",
       "      <td>0</td>\n",
       "      <td>0</td>\n",
       "      <td>13</td>\n",
       "      <td>United-States</td>\n",
       "      <td>&lt;=50K</td>\n",
       "    </tr>\n",
       "    <tr>\n",
       "      <th>2</th>\n",
       "      <td>38</td>\n",
       "      <td>Private</td>\n",
       "      <td>215646</td>\n",
       "      <td>HS-grad</td>\n",
       "      <td>9</td>\n",
       "      <td>Divorced</td>\n",
       "      <td>Handlers-cleaners</td>\n",
       "      <td>Not-in-family</td>\n",
       "      <td>White</td>\n",
       "      <td>Male</td>\n",
       "      <td>0</td>\n",
       "      <td>0</td>\n",
       "      <td>40</td>\n",
       "      <td>United-States</td>\n",
       "      <td>&lt;=50K</td>\n",
       "    </tr>\n",
       "    <tr>\n",
       "      <th>3</th>\n",
       "      <td>53</td>\n",
       "      <td>Private</td>\n",
       "      <td>234721</td>\n",
       "      <td>11th</td>\n",
       "      <td>7</td>\n",
       "      <td>Married-civ-spouse</td>\n",
       "      <td>Handlers-cleaners</td>\n",
       "      <td>Husband</td>\n",
       "      <td>Black</td>\n",
       "      <td>Male</td>\n",
       "      <td>0</td>\n",
       "      <td>0</td>\n",
       "      <td>40</td>\n",
       "      <td>United-States</td>\n",
       "      <td>&lt;=50K</td>\n",
       "    </tr>\n",
       "    <tr>\n",
       "      <th>4</th>\n",
       "      <td>28</td>\n",
       "      <td>Private</td>\n",
       "      <td>338409</td>\n",
       "      <td>Bachelors</td>\n",
       "      <td>13</td>\n",
       "      <td>Married-civ-spouse</td>\n",
       "      <td>Prof-specialty</td>\n",
       "      <td>Wife</td>\n",
       "      <td>Black</td>\n",
       "      <td>Female</td>\n",
       "      <td>0</td>\n",
       "      <td>0</td>\n",
       "      <td>40</td>\n",
       "      <td>Cuba</td>\n",
       "      <td>&lt;=50K</td>\n",
       "    </tr>\n",
       "    <tr>\n",
       "      <th>...</th>\n",
       "      <td>...</td>\n",
       "      <td>...</td>\n",
       "      <td>...</td>\n",
       "      <td>...</td>\n",
       "      <td>...</td>\n",
       "      <td>...</td>\n",
       "      <td>...</td>\n",
       "      <td>...</td>\n",
       "      <td>...</td>\n",
       "      <td>...</td>\n",
       "      <td>...</td>\n",
       "      <td>...</td>\n",
       "      <td>...</td>\n",
       "      <td>...</td>\n",
       "      <td>...</td>\n",
       "    </tr>\n",
       "    <tr>\n",
       "      <th>48836</th>\n",
       "      <td>33</td>\n",
       "      <td>Private</td>\n",
       "      <td>245211</td>\n",
       "      <td>Bachelors</td>\n",
       "      <td>13</td>\n",
       "      <td>Never-married</td>\n",
       "      <td>Prof-specialty</td>\n",
       "      <td>Own-child</td>\n",
       "      <td>White</td>\n",
       "      <td>Male</td>\n",
       "      <td>0</td>\n",
       "      <td>0</td>\n",
       "      <td>40</td>\n",
       "      <td>United-States</td>\n",
       "      <td>&lt;=50K.</td>\n",
       "    </tr>\n",
       "    <tr>\n",
       "      <th>48837</th>\n",
       "      <td>39</td>\n",
       "      <td>Private</td>\n",
       "      <td>215419</td>\n",
       "      <td>Bachelors</td>\n",
       "      <td>13</td>\n",
       "      <td>Divorced</td>\n",
       "      <td>Prof-specialty</td>\n",
       "      <td>Not-in-family</td>\n",
       "      <td>White</td>\n",
       "      <td>Female</td>\n",
       "      <td>0</td>\n",
       "      <td>0</td>\n",
       "      <td>36</td>\n",
       "      <td>United-States</td>\n",
       "      <td>&lt;=50K.</td>\n",
       "    </tr>\n",
       "    <tr>\n",
       "      <th>48839</th>\n",
       "      <td>38</td>\n",
       "      <td>Private</td>\n",
       "      <td>374983</td>\n",
       "      <td>Bachelors</td>\n",
       "      <td>13</td>\n",
       "      <td>Married-civ-spouse</td>\n",
       "      <td>Prof-specialty</td>\n",
       "      <td>Husband</td>\n",
       "      <td>White</td>\n",
       "      <td>Male</td>\n",
       "      <td>0</td>\n",
       "      <td>0</td>\n",
       "      <td>50</td>\n",
       "      <td>United-States</td>\n",
       "      <td>&lt;=50K.</td>\n",
       "    </tr>\n",
       "    <tr>\n",
       "      <th>48840</th>\n",
       "      <td>44</td>\n",
       "      <td>Private</td>\n",
       "      <td>83891</td>\n",
       "      <td>Bachelors</td>\n",
       "      <td>13</td>\n",
       "      <td>Divorced</td>\n",
       "      <td>Adm-clerical</td>\n",
       "      <td>Own-child</td>\n",
       "      <td>Asian-Pac-Islander</td>\n",
       "      <td>Male</td>\n",
       "      <td>5455</td>\n",
       "      <td>0</td>\n",
       "      <td>40</td>\n",
       "      <td>United-States</td>\n",
       "      <td>&lt;=50K.</td>\n",
       "    </tr>\n",
       "    <tr>\n",
       "      <th>48841</th>\n",
       "      <td>35</td>\n",
       "      <td>Self-emp-inc</td>\n",
       "      <td>182148</td>\n",
       "      <td>Bachelors</td>\n",
       "      <td>13</td>\n",
       "      <td>Married-civ-spouse</td>\n",
       "      <td>Exec-managerial</td>\n",
       "      <td>Husband</td>\n",
       "      <td>White</td>\n",
       "      <td>Male</td>\n",
       "      <td>0</td>\n",
       "      <td>0</td>\n",
       "      <td>60</td>\n",
       "      <td>United-States</td>\n",
       "      <td>&gt;50K.</td>\n",
       "    </tr>\n",
       "  </tbody>\n",
       "</table>\n",
       "<p>44701 rows × 15 columns</p>\n",
       "</div>"
      ],
      "text/plain": [
       "       Age    Employment_Type  Weighting_Factor   Education  School_Period  \\\n",
       "0       39          State-gov             77516   Bachelors             13   \n",
       "1       50   Self-emp-not-inc             83311   Bachelors             13   \n",
       "2       38            Private            215646     HS-grad              9   \n",
       "3       53            Private            234721        11th              7   \n",
       "4       28            Private            338409   Bachelors             13   \n",
       "...    ...                ...               ...         ...            ...   \n",
       "48836   33            Private            245211   Bachelors             13   \n",
       "48837   39            Private            215419   Bachelors             13   \n",
       "48839   38            Private            374983   Bachelors             13   \n",
       "48840   44            Private             83891   Bachelors             13   \n",
       "48841   35       Self-emp-inc            182148   Bachelors             13   \n",
       "\n",
       "            Marital_Status     Employment_Area     Partnership  \\\n",
       "0            Never-married        Adm-clerical   Not-in-family   \n",
       "1       Married-civ-spouse     Exec-managerial         Husband   \n",
       "2                 Divorced   Handlers-cleaners   Not-in-family   \n",
       "3       Married-civ-spouse   Handlers-cleaners         Husband   \n",
       "4       Married-civ-spouse      Prof-specialty            Wife   \n",
       "...                    ...                 ...             ...   \n",
       "48836        Never-married      Prof-specialty       Own-child   \n",
       "48837             Divorced      Prof-specialty   Not-in-family   \n",
       "48839   Married-civ-spouse      Prof-specialty         Husband   \n",
       "48840             Divorced        Adm-clerical       Own-child   \n",
       "48841   Married-civ-spouse     Exec-managerial         Husband   \n",
       "\n",
       "                 Ethnicity   Gender  Gain_Financial  Losses_Financial  \\\n",
       "0                    White     Male            2174                 0   \n",
       "1                    White     Male               0                 0   \n",
       "2                    White     Male               0                 0   \n",
       "3                    Black     Male               0                 0   \n",
       "4                    Black   Female               0                 0   \n",
       "...                    ...      ...             ...               ...   \n",
       "48836                White     Male               0                 0   \n",
       "48837                White   Female               0                 0   \n",
       "48839                White     Male               0                 0   \n",
       "48840   Asian-Pac-Islander     Male            5455                 0   \n",
       "48841                White     Male               0                 0   \n",
       "\n",
       "       Weekly_Working_Time   Birth_Country   Income  \n",
       "0                       40   United-States    <=50K  \n",
       "1                       13   United-States    <=50K  \n",
       "2                       40   United-States    <=50K  \n",
       "3                       40   United-States    <=50K  \n",
       "4                       40            Cuba    <=50K  \n",
       "...                    ...             ...      ...  \n",
       "48836                   40   United-States   <=50K.  \n",
       "48837                   36   United-States   <=50K.  \n",
       "48839                   50   United-States   <=50K.  \n",
       "48840                   40   United-States   <=50K.  \n",
       "48841                   60   United-States    >50K.  \n",
       "\n",
       "[44701 rows x 15 columns]"
      ]
     },
     "execution_count": 268,
     "metadata": {},
     "output_type": "execute_result"
    }
   ],
   "source": [
    "df1"
   ]
  },
  {
   "cell_type": "code",
   "execution_count": 269,
   "id": "5694876e",
   "metadata": {},
   "outputs": [],
   "source": [
    "categorical_columns = ['Employment_Type', 'Education', 'Marital_Status', \n",
    "                       'Employment_Area', 'Partnership', 'Ethnicity', \n",
    "                       'Gender', 'Birth_Country']"
   ]
  },
  {
   "cell_type": "code",
   "execution_count": 270,
   "id": "cb5d990b",
   "metadata": {},
   "outputs": [],
   "source": [
    "# to remove duplicate values"
   ]
  },
  {
   "cell_type": "code",
   "execution_count": 271,
   "id": "9edf3e92",
   "metadata": {},
   "outputs": [],
   "source": [
    "df1.drop_duplicates(inplace=True)"
   ]
  },
  {
   "cell_type": "code",
   "execution_count": null,
   "id": "cbadaf23",
   "metadata": {},
   "outputs": [],
   "source": []
  },
  {
   "cell_type": "code",
   "execution_count": 272,
   "id": "11d28345",
   "metadata": {},
   "outputs": [
    {
     "data": {
      "text/plain": [
       "(44701, 15)"
      ]
     },
     "execution_count": 272,
     "metadata": {},
     "output_type": "execute_result"
    }
   ],
   "source": [
    "# checking for the shape\n",
    "df1.shape"
   ]
  },
  {
   "cell_type": "code",
   "execution_count": null,
   "id": "5d3452c8",
   "metadata": {},
   "outputs": [],
   "source": []
  },
  {
   "cell_type": "code",
   "execution_count": 273,
   "id": "6507f2ec",
   "metadata": {},
   "outputs": [],
   "source": [
    "# done some manual inspection and then frequency check for all categorical variables\n",
    "# looks no outliers in categorical variables"
   ]
  },
  {
   "cell_type": "code",
   "execution_count": 274,
   "id": "3c7d04c9",
   "metadata": {},
   "outputs": [],
   "source": [
    "numeric_var_1 =df1[['Age', 'School_Period', 'Weekly_Working_Time' ]]"
   ]
  },
  {
   "cell_type": "code",
   "execution_count": 275,
   "id": "0caf11c4",
   "metadata": {},
   "outputs": [
    {
     "data": {
      "text/html": [
       "<div>\n",
       "<style scoped>\n",
       "    .dataframe tbody tr th:only-of-type {\n",
       "        vertical-align: middle;\n",
       "    }\n",
       "\n",
       "    .dataframe tbody tr th {\n",
       "        vertical-align: top;\n",
       "    }\n",
       "\n",
       "    .dataframe thead th {\n",
       "        text-align: right;\n",
       "    }\n",
       "</style>\n",
       "<table border=\"1\" class=\"dataframe\">\n",
       "  <thead>\n",
       "    <tr style=\"text-align: right;\">\n",
       "      <th></th>\n",
       "      <th>Age</th>\n",
       "      <th>School_Period</th>\n",
       "      <th>Weekly_Working_Time</th>\n",
       "    </tr>\n",
       "  </thead>\n",
       "  <tbody>\n",
       "    <tr>\n",
       "      <th>0</th>\n",
       "      <td>39</td>\n",
       "      <td>13</td>\n",
       "      <td>40</td>\n",
       "    </tr>\n",
       "    <tr>\n",
       "      <th>1</th>\n",
       "      <td>50</td>\n",
       "      <td>13</td>\n",
       "      <td>13</td>\n",
       "    </tr>\n",
       "    <tr>\n",
       "      <th>2</th>\n",
       "      <td>38</td>\n",
       "      <td>9</td>\n",
       "      <td>40</td>\n",
       "    </tr>\n",
       "    <tr>\n",
       "      <th>3</th>\n",
       "      <td>53</td>\n",
       "      <td>7</td>\n",
       "      <td>40</td>\n",
       "    </tr>\n",
       "    <tr>\n",
       "      <th>4</th>\n",
       "      <td>28</td>\n",
       "      <td>13</td>\n",
       "      <td>40</td>\n",
       "    </tr>\n",
       "    <tr>\n",
       "      <th>...</th>\n",
       "      <td>...</td>\n",
       "      <td>...</td>\n",
       "      <td>...</td>\n",
       "    </tr>\n",
       "    <tr>\n",
       "      <th>48836</th>\n",
       "      <td>33</td>\n",
       "      <td>13</td>\n",
       "      <td>40</td>\n",
       "    </tr>\n",
       "    <tr>\n",
       "      <th>48837</th>\n",
       "      <td>39</td>\n",
       "      <td>13</td>\n",
       "      <td>36</td>\n",
       "    </tr>\n",
       "    <tr>\n",
       "      <th>48839</th>\n",
       "      <td>38</td>\n",
       "      <td>13</td>\n",
       "      <td>50</td>\n",
       "    </tr>\n",
       "    <tr>\n",
       "      <th>48840</th>\n",
       "      <td>44</td>\n",
       "      <td>13</td>\n",
       "      <td>40</td>\n",
       "    </tr>\n",
       "    <tr>\n",
       "      <th>48841</th>\n",
       "      <td>35</td>\n",
       "      <td>13</td>\n",
       "      <td>60</td>\n",
       "    </tr>\n",
       "  </tbody>\n",
       "</table>\n",
       "<p>44701 rows × 3 columns</p>\n",
       "</div>"
      ],
      "text/plain": [
       "       Age  School_Period  Weekly_Working_Time\n",
       "0       39             13                   40\n",
       "1       50             13                   13\n",
       "2       38              9                   40\n",
       "3       53              7                   40\n",
       "4       28             13                   40\n",
       "...    ...            ...                  ...\n",
       "48836   33             13                   40\n",
       "48837   39             13                   36\n",
       "48839   38             13                   50\n",
       "48840   44             13                   40\n",
       "48841   35             13                   60\n",
       "\n",
       "[44701 rows x 3 columns]"
      ]
     },
     "execution_count": 275,
     "metadata": {},
     "output_type": "execute_result"
    }
   ],
   "source": [
    "numeric_var_1"
   ]
  },
  {
   "cell_type": "code",
   "execution_count": 276,
   "id": "f3fd8fcf",
   "metadata": {},
   "outputs": [
    {
     "data": {
      "image/png": "[encoded data removed]",
      "text/plain": [
       "<Figure size 800x600 with 1 Axes>"
      ]
     },
     "metadata": {},
     "output_type": "display_data"
    },
    {
     "data": {
      "image/png": "[encoded data removed]",
      "text/plain": [
       "<Figure size 800x600 with 1 Axes>"
      ]
     },
     "metadata": {},
     "output_type": "display_data"
    },
    {
     "data": {
      "image/png": "[encoded data removed]",
      "text/plain": [
       "<Figure size 800x600 with 1 Axes>"
      ]
     },
     "metadata": {},
     "output_type": "display_data"
    }
   ],
   "source": [
    "for col in numeric_var_1:\n",
    "    plt.figure(figsize=(8, 6))\n",
    "    plt.hist(df1[col], bins=10, color='skyblue', edgecolor='black')\n",
    "    plt.title('Histogram of ' + col)\n",
    "    plt.xlabel(col)\n",
    "    plt.ylabel('Frequency')\n",
    "    plt.grid(True)\n",
    "    plt.show()"
   ]
  },
  {
   "cell_type": "code",
   "execution_count": 277,
   "id": "681d299b",
   "metadata": {},
   "outputs": [],
   "source": [
    "# it seems no outliers in this inspection and vishualization"
   ]
  },
  {
   "cell_type": "code",
   "execution_count": 278,
   "id": "d44f6783",
   "metadata": {},
   "outputs": [],
   "source": [
    "## handle  ['Age', 'School_Period', 'Weekly_Working_Time' ]"
   ]
  },
  {
   "cell_type": "code",
   "execution_count": 279,
   "id": "06d1f2cf",
   "metadata": {},
   "outputs": [
    {
     "data": {
      "text/plain": [
       "(44701, 15)"
      ]
     },
     "execution_count": 279,
     "metadata": {},
     "output_type": "execute_result"
    }
   ],
   "source": [
    "df1.shape"
   ]
  },
  {
   "cell_type": "code",
   "execution_count": 280,
   "id": "7e472797",
   "metadata": {},
   "outputs": [
    {
     "data": {
      "image/png": "[encoded data removed]",
      "text/plain": [
       "<Figure size 800x600 with 1 Axes>"
      ]
     },
     "metadata": {},
     "output_type": "display_data"
    }
   ],
   "source": [
    "# Age \n",
    "plt.figure(figsize=(8, 6))\n",
    "plt.boxplot(df1['Age'])\n",
    "plt.title('Boxplot of Age')\n",
    "plt.ylabel('Age')\n",
    "plt.show()"
   ]
  },
  {
   "cell_type": "code",
   "execution_count": 281,
   "id": "13a45134",
   "metadata": {},
   "outputs": [
    {
     "data": {
      "image/png": "[encoded data removed]",
      "text/plain": [
       "<Figure size 640x480 with 1 Axes>"
      ]
     },
     "metadata": {},
     "output_type": "display_data"
    }
   ],
   "source": [
    "import matplotlib.pyplot as plt\n",
    "import seaborn as sns\n",
    "\n",
    "sns.histplot(df1['Age'], kde=True, bins=20)  \n",
    "plt.title('Distribution of Age')\n",
    "plt.xlabel('Age')\n",
    "plt.ylabel('Frequency')\n",
    "plt.show()"
   ]
  },
  {
   "cell_type": "code",
   "execution_count": 282,
   "id": "aabb2f8e",
   "metadata": {},
   "outputs": [
    {
     "data": {
      "image/png": "[encoded data removed]",
      "text/plain": [
       "<Figure size 640x480 with 1 Axes>"
      ]
     },
     "metadata": {},
     "output_type": "display_data"
    }
   ],
   "source": [
    "import numpy as np\n",
    "\n",
    "age_median = df1['Age'].median()\n",
    "\n",
    "# Calculate the interquartile range (IQR)\n",
    "Q1 = df1['Age'].quantile(0.25)\n",
    "Q3 = df1['Age'].quantile(0.75)\n",
    "IQR = Q3 - Q1\n",
    "\n",
    "# Define the lower and upper bounds for outliers\n",
    "lower_bound = Q1 - 1.5 * IQR\n",
    "upper_bound = Q3 + 1.5 * IQR\n",
    "\n",
    "# Replace outliers with the median value\n",
    "df1['Age'] = np.where(\n",
    "    (df1['Age'] < lower_bound) | (df1['Age'] > upper_bound),\n",
    "    age_median,\n",
    "    df1['Age']\n",
    ")\n",
    "\n",
    "# Visualize the distribution after handling outliers\n",
    "import matplotlib.pyplot as plt\n",
    "import seaborn as sns\n",
    "\n",
    "sns.histplot(df1['Age'], kde=True, bins=20)  # Adjust bins as needed\n",
    "plt.title('Distribution of Age (Outliers Handled)')\n",
    "plt.xlabel('Age')\n",
    "plt.ylabel('Frequency')\n",
    "plt.show()\n"
   ]
  },
  {
   "cell_type": "code",
   "execution_count": 283,
   "id": "5decd949",
   "metadata": {},
   "outputs": [],
   "source": [
    " # outliers with age is handled  # done Age only"
   ]
  },
  {
   "cell_type": "code",
   "execution_count": 284,
   "id": "2dd3b544",
   "metadata": {},
   "outputs": [
    {
     "data": {
      "image/png": "[encoded data removed]",
      "text/plain": [
       "<Figure size 800x600 with 1 Axes>"
      ]
     },
     "metadata": {},
     "output_type": "display_data"
    }
   ],
   "source": [
    "\n",
    "plt.figure(figsize=(8, 6))\n",
    "plt.boxplot(df1['School_Period'])\n",
    "plt.title('Boxplot of School_Period')\n",
    "plt.ylabel('School_Period')\n",
    "plt.show()"
   ]
  },
  {
   "cell_type": "code",
   "execution_count": 285,
   "id": "97e9a5a5",
   "metadata": {},
   "outputs": [
    {
     "data": {
      "image/png": "[encoded data removed]",
      "text/plain": [
       "<Figure size 640x480 with 1 Axes>"
      ]
     },
     "metadata": {},
     "output_type": "display_data"
    }
   ],
   "source": [
    "import matplotlib.pyplot as plt\n",
    "import seaborn as sns\n",
    "\n",
    "sns.histplot(df1['School_Period'], kde=True, bins=20)  \n",
    "plt.title('Distribution of School_Period')\n",
    "plt.xlabel('School_Period')\n",
    "plt.ylabel('Frequency')\n",
    "plt.show()"
   ]
  },
  {
   "cell_type": "code",
   "execution_count": 286,
   "id": "46346e81",
   "metadata": {},
   "outputs": [
    {
     "name": "stderr",
     "output_type": "stream",
     "text": [
      "C:\\Users\\MSI KATANA\\AppData\\Local\\Temp\\ipykernel_21496\\3912521568.py:28: SettingWithCopyWarning: \n",
      "A value is trying to be set on a copy of a slice from a DataFrame\n",
      "\n",
      "See the caveats in the documentation: https://pandas.pydata.org/pandas-docs/stable/user_guide/indexing.html#returning-a-view-versus-a-copy\n",
      "  school_period_data[outliers.index] = non_outliers_mean\n"
     ]
    },
    {
     "data": {
      "image/png": "[encoded data removed]",
      "text/plain": [
       "<Figure size 800x600 with 1 Axes>"
      ]
     },
     "metadata": {},
     "output_type": "display_data"
    },
    {
     "data": {
      "image/png": "[encoded data removed]",
      "text/plain": [
       "<Figure size 800x600 with 1 Axes>"
      ]
     },
     "metadata": {},
     "output_type": "display_data"
    }
   ],
   "source": [
    "import numpy as np\n",
    "\n",
    "# Assuming df1 is your DataFrame containing the data\n",
    "school_period_data = df1['School_Period']\n",
    "\n",
    "# Create the boxplot\n",
    "plt.figure(figsize=(8, 6))\n",
    "plt.boxplot(school_period_data)\n",
    "plt.title('Boxplot of School_Period')\n",
    "plt.ylabel('School_Period')\n",
    "\n",
    "# Get the boxplot statistics\n",
    "statistics = plt.boxplot(school_period_data)\n",
    "\n",
    "# Extract the whiskers\n",
    "whiskers = [whiskers.get_ydata() for whiskers in statistics['whiskers']]\n",
    "\n",
    "# Calculate the lower and upper whiskers\n",
    "lower_whisker, upper_whisker = whiskers[0][1], whiskers[1][1]\n",
    "\n",
    "# Find the outliers\n",
    "outliers = school_period_data[(school_period_data < lower_whisker) | (school_period_data > upper_whisker)]\n",
    "\n",
    "# Calculate the mean of non-outliers\n",
    "non_outliers_mean = np.mean(school_period_data[~school_period_data.isin(outliers)])\n",
    "\n",
    "# Replace outliers with mean value\n",
    "school_period_data[outliers.index] = non_outliers_mean\n",
    "\n",
    "# Plot the boxplot again with replaced outliers\n",
    "plt.figure(figsize=(8, 6))\n",
    "plt.boxplot(school_period_data)\n",
    "plt.title('Boxplot of School_Period (Outliers Replaced)')\n",
    "plt.ylabel('School_Period')\n",
    "plt.show()\n",
    "\n"
   ]
  },
  {
   "cell_type": "code",
   "execution_count": 287,
   "id": "ced561fc",
   "metadata": {},
   "outputs": [],
   "source": [
    "#  school period is done"
   ]
  },
  {
   "cell_type": "code",
   "execution_count": 288,
   "id": "bf21ca12",
   "metadata": {},
   "outputs": [
    {
     "data": {
      "image/png": "[encoded data removed]",
      "text/plain": [
       "<Figure size 800x600 with 1 Axes>"
      ]
     },
     "metadata": {},
     "output_type": "display_data"
    }
   ],
   "source": [
    "# Age \n",
    "plt.figure(figsize=(8, 6))\n",
    "plt.boxplot(df1['Weekly_Working_Time'])\n",
    "plt.title('Boxplot of Weekly_Working_Time')\n",
    "plt.ylabel('Weekly_Working_Time')\n",
    "plt.show()"
   ]
  },
  {
   "cell_type": "code",
   "execution_count": 289,
   "id": "265d268e",
   "metadata": {},
   "outputs": [
    {
     "name": "stdout",
     "output_type": "stream",
     "text": [
      "Frequency of 40 : 21304\n",
      "Frequency of 13 : 20\n",
      "Frequency of 16 : 220\n",
      "Frequency of 45 : 2597\n",
      "Frequency of 50 : 4091\n",
      "Frequency of 80 : 189\n",
      "Frequency of 30 : 1435\n",
      "Frequency of 35 : 1760\n",
      "Frequency of 60 : 2085\n",
      "Frequency of 20 : 1490\n",
      "Frequency of 52 : 200\n",
      "Frequency of 44 : 301\n",
      "Frequency of 15 : 452\n",
      "Frequency of 25 : 793\n",
      "Frequency of 43 : 219\n",
      "Frequency of 38 : 681\n",
      "Frequency of 55 : 1019\n",
      "Frequency of 48 : 731\n",
      "Frequency of 58 : 37\n",
      "Frequency of 32 : 367\n",
      "Frequency of 70 : 418\n",
      "Frequency of 22 : 52\n",
      "Frequency of 56 : 133\n",
      "Frequency of 41 : 56\n",
      "Frequency of 28 : 122\n",
      "Frequency of 36 : 306\n",
      "Frequency of 24 : 291\n",
      "Frequency of 46 : 127\n",
      "Frequency of 2 : 24\n",
      "Frequency of 42 : 326\n",
      "Frequency of 12 : 166\n",
      "Frequency of 65 : 349\n",
      "Frequency of 1 : 12\n",
      "Frequency of 34 : 47\n",
      "Frequency of 75 : 100\n",
      "Frequency of 98 : 14\n",
      "Frequency of 33 : 59\n",
      "Frequency of 54 : 58\n",
      "Frequency of 10 : 299\n",
      "Frequency of 6 : 52\n",
      "Frequency of 64 : 21\n",
      "Frequency of 19 : 18\n",
      "Frequency of 72 : 97\n",
      "Frequency of 8 : 138\n",
      "Frequency of 9 : 21\n",
      "Frequency of 47 : 82\n",
      "Frequency of 37 : 236\n",
      "Frequency of 26 : 34\n",
      "Frequency of 14 : 34\n",
      "Frequency of 5 : 53\n",
      "Frequency of 18 : 97\n",
      "Frequency of 7 : 27\n",
      "Frequency of 99 : 123\n",
      "Frequency of 53 : 34\n",
      "Frequency of 39 : 62\n",
      "Frequency of 62 : 23\n",
      "Frequency of 59 : 6\n",
      "Frequency of 57 : 19\n",
      "Frequency of 78 : 13\n",
      "Frequency of 90 : 41\n",
      "Frequency of 66 : 22\n",
      "Frequency of 11 : 16\n",
      "Frequency of 49 : 36\n",
      "Frequency of 84 : 65\n",
      "Frequency of 68 : 16\n",
      "Frequency of 21 : 40\n",
      "Frequency of 3 : 35\n",
      "Frequency of 27 : 39\n",
      "Frequency of 85 : 17\n",
      "Frequency of 17 : 35\n",
      "Frequency of 31 : 12\n",
      "Frequency of 51 : 20\n",
      "Frequency of 77 : 9\n",
      "Frequency of 63 : 14\n",
      "Frequency of 23 : 30\n",
      "Frequency of 4 : 44\n",
      "Frequency of 87 : 1\n",
      "Frequency of 88 : 4\n",
      "Frequency of 73 : 3\n",
      "Frequency of 89 : 3\n",
      "Frequency of 97 : 2\n",
      "Frequency of 94 : 1\n",
      "Frequency of 29 : 12\n",
      "Frequency of 96 : 9\n",
      "Frequency of 67 : 6\n",
      "Frequency of 82 : 1\n",
      "Frequency of 86 : 4\n",
      "Frequency of 91 : 3\n",
      "Frequency of 81 : 3\n",
      "Frequency of 76 : 4\n",
      "Frequency of 92 : 3\n",
      "Frequency of 61 : 4\n",
      "Frequency of 74 : 3\n",
      "Frequency of 95 : 2\n",
      "Frequency of 79 : 1\n",
      "Frequency of 69 : 1\n"
     ]
    }
   ],
   "source": [
    "# Assuming df1 is your DataFrame containing the data\n",
    "weekly_working_time_values = df1['Weekly_Working_Time'].unique()\n",
    "\n",
    "for value in weekly_working_time_values:\n",
    "    frequency = (df1['Weekly_Working_Time'] == value).sum()\n",
    "    print(\"Frequency of\", value, \":\", frequency)\n",
    "\n"
   ]
  },
  {
   "cell_type": "code",
   "execution_count": 290,
   "id": "7c66224b",
   "metadata": {},
   "outputs": [
    {
     "data": {
      "image/png": "[encoded data removed]",
      "text/plain": [
       "<Figure size 800x600 with 1 Axes>"
      ]
     },
     "metadata": {},
     "output_type": "display_data"
    }
   ],
   "source": [
    "import matplotlib.pyplot as plt\n",
    "import seaborn as sns\n",
    "from scipy.stats import gaussian_kde\n",
    "\n",
    "plt.figure(figsize=(8, 6))\n",
    "plt.hist(df1['Weekly_Working_Time'], bins=20, density=True, color='skyblue', edgecolor='black')  # Set density=True\n",
    "sns.kdeplot(df1['Weekly_Working_Time'], color='red', linewidth=2)  # Overlay KDE curve\n",
    "plt.title('Distribution of Weekly_Working_Time')\n",
    "plt.xlabel('Weekly Working Time')\n",
    "plt.ylabel('Density')\n",
    "plt.grid(True)\n",
    "plt.legend(['KDE', 'Histogram'])  # Add legend\n",
    "plt.show()\n"
   ]
  },
  {
   "cell_type": "code",
   "execution_count": 291,
   "id": "42d97ce1",
   "metadata": {},
   "outputs": [
    {
     "name": "stdout",
     "output_type": "stream",
     "text": [
      "[ 1  2  3  4  5  6  7  8  9 10 11 12 13 14 15 16 17 18 19 20 21 22 23 24\n",
      " 25 26 27 28 29 30 31 32 33 34 35 36 37 38 39 40 41 42 43 44 45 46 47 48\n",
      " 49 50 51 52 53 54 55 56 57 58 59 60 61 62 63 64 65 66 67 68 69 70 72 73\n",
      " 74 75 76 77 78 79 80 81 82 84 85 86 87 88 89 90 91 92 94 95 96 97 98 99]\n"
     ]
    }
   ],
   "source": [
    "weekly_working_time_unique = df1['Weekly_Working_Time'].unique()\n",
    "\n",
    "# Sort the unique values\n",
    "weekly_working_time_unique_sorted = np.sort(weekly_working_time_unique)\n",
    "\n",
    "print(weekly_working_time_unique_sorted)"
   ]
  },
  {
   "cell_type": "code",
   "execution_count": 292,
   "id": "543bf873",
   "metadata": {},
   "outputs": [],
   "source": [
    "import numpy as np\n",
    "\n",
    "# Replace values over 90 with 90\n",
    "df1['Weekly_Working_Time'] = np.clip(df1['Weekly_Working_Time'], a_min=None, a_max=90)\n"
   ]
  },
  {
   "cell_type": "code",
   "execution_count": 293,
   "id": "280cd4ff",
   "metadata": {},
   "outputs": [
    {
     "name": "stdout",
     "output_type": "stream",
     "text": [
      "[ 1  2  3  4  5  6  7  8  9 10 11 12 13 14 15 16 17 18 19 20 21 22 23 24\n",
      " 25 26 27 28 29 30 31 32 33 34 35 36 37 38 39 40 41 42 43 44 45 46 47 48\n",
      " 49 50 51 52 53 54 55 56 57 58 59 60 61 62 63 64 65 66 67 68 69 70 72 73\n",
      " 74 75 76 77 78 79 80 81 82 84 85 86 87 88 89 90]\n"
     ]
    }
   ],
   "source": [
    "weekly_working_time_unique = df1['Weekly_Working_Time'].unique()\n",
    "\n",
    "# Sort the unique values\n",
    "weekly_working_time_unique_sorted = np.sort(weekly_working_time_unique)\n",
    "\n",
    "print(weekly_working_time_unique_sorted)"
   ]
  },
  {
   "cell_type": "code",
   "execution_count": 294,
   "id": "45a7fdf6",
   "metadata": {},
   "outputs": [],
   "source": [
    "import pandas as pd\n",
    "\n",
    "df1.drop(df1[(df1['Weekly_Working_Time'] < 10) & (df1['Income'] == '>50K')].index, inplace=True)"
   ]
  },
  {
   "cell_type": "code",
   "execution_count": 295,
   "id": "a08da54a",
   "metadata": {},
   "outputs": [
    {
     "data": {
      "text/html": [
       "<div>\n",
       "<style scoped>\n",
       "    .dataframe tbody tr th:only-of-type {\n",
       "        vertical-align: middle;\n",
       "    }\n",
       "\n",
       "    .dataframe tbody tr th {\n",
       "        vertical-align: top;\n",
       "    }\n",
       "\n",
       "    .dataframe thead th {\n",
       "        text-align: right;\n",
       "    }\n",
       "</style>\n",
       "<table border=\"1\" class=\"dataframe\">\n",
       "  <thead>\n",
       "    <tr style=\"text-align: right;\">\n",
       "      <th></th>\n",
       "      <th>Age</th>\n",
       "      <th>Employment_Type</th>\n",
       "      <th>Weighting_Factor</th>\n",
       "      <th>Education</th>\n",
       "      <th>School_Period</th>\n",
       "      <th>Marital_Status</th>\n",
       "      <th>Employment_Area</th>\n",
       "      <th>Partnership</th>\n",
       "      <th>Ethnicity</th>\n",
       "      <th>Gender</th>\n",
       "      <th>Gain_Financial</th>\n",
       "      <th>Losses_Financial</th>\n",
       "      <th>Weekly_Working_Time</th>\n",
       "      <th>Birth_Country</th>\n",
       "      <th>Income</th>\n",
       "    </tr>\n",
       "  </thead>\n",
       "  <tbody>\n",
       "    <tr>\n",
       "      <th>0</th>\n",
       "      <td>39.0</td>\n",
       "      <td>State-gov</td>\n",
       "      <td>77516</td>\n",
       "      <td>Bachelors</td>\n",
       "      <td>13.0</td>\n",
       "      <td>Never-married</td>\n",
       "      <td>Adm-clerical</td>\n",
       "      <td>Not-in-family</td>\n",
       "      <td>White</td>\n",
       "      <td>Male</td>\n",
       "      <td>2174</td>\n",
       "      <td>0</td>\n",
       "      <td>40</td>\n",
       "      <td>United-States</td>\n",
       "      <td>&lt;=50K</td>\n",
       "    </tr>\n",
       "    <tr>\n",
       "      <th>1</th>\n",
       "      <td>50.0</td>\n",
       "      <td>Self-emp-not-inc</td>\n",
       "      <td>83311</td>\n",
       "      <td>Bachelors</td>\n",
       "      <td>13.0</td>\n",
       "      <td>Married-civ-spouse</td>\n",
       "      <td>Exec-managerial</td>\n",
       "      <td>Husband</td>\n",
       "      <td>White</td>\n",
       "      <td>Male</td>\n",
       "      <td>0</td>\n",
       "      <td>0</td>\n",
       "      <td>13</td>\n",
       "      <td>United-States</td>\n",
       "      <td>&lt;=50K</td>\n",
       "    </tr>\n",
       "    <tr>\n",
       "      <th>2</th>\n",
       "      <td>38.0</td>\n",
       "      <td>Private</td>\n",
       "      <td>215646</td>\n",
       "      <td>HS-grad</td>\n",
       "      <td>9.0</td>\n",
       "      <td>Divorced</td>\n",
       "      <td>Handlers-cleaners</td>\n",
       "      <td>Not-in-family</td>\n",
       "      <td>White</td>\n",
       "      <td>Male</td>\n",
       "      <td>0</td>\n",
       "      <td>0</td>\n",
       "      <td>40</td>\n",
       "      <td>United-States</td>\n",
       "      <td>&lt;=50K</td>\n",
       "    </tr>\n",
       "    <tr>\n",
       "      <th>3</th>\n",
       "      <td>53.0</td>\n",
       "      <td>Private</td>\n",
       "      <td>234721</td>\n",
       "      <td>11th</td>\n",
       "      <td>7.0</td>\n",
       "      <td>Married-civ-spouse</td>\n",
       "      <td>Handlers-cleaners</td>\n",
       "      <td>Husband</td>\n",
       "      <td>Black</td>\n",
       "      <td>Male</td>\n",
       "      <td>0</td>\n",
       "      <td>0</td>\n",
       "      <td>40</td>\n",
       "      <td>United-States</td>\n",
       "      <td>&lt;=50K</td>\n",
       "    </tr>\n",
       "    <tr>\n",
       "      <th>4</th>\n",
       "      <td>28.0</td>\n",
       "      <td>Private</td>\n",
       "      <td>338409</td>\n",
       "      <td>Bachelors</td>\n",
       "      <td>13.0</td>\n",
       "      <td>Married-civ-spouse</td>\n",
       "      <td>Prof-specialty</td>\n",
       "      <td>Wife</td>\n",
       "      <td>Black</td>\n",
       "      <td>Female</td>\n",
       "      <td>0</td>\n",
       "      <td>0</td>\n",
       "      <td>40</td>\n",
       "      <td>Cuba</td>\n",
       "      <td>&lt;=50K</td>\n",
       "    </tr>\n",
       "    <tr>\n",
       "      <th>...</th>\n",
       "      <td>...</td>\n",
       "      <td>...</td>\n",
       "      <td>...</td>\n",
       "      <td>...</td>\n",
       "      <td>...</td>\n",
       "      <td>...</td>\n",
       "      <td>...</td>\n",
       "      <td>...</td>\n",
       "      <td>...</td>\n",
       "      <td>...</td>\n",
       "      <td>...</td>\n",
       "      <td>...</td>\n",
       "      <td>...</td>\n",
       "      <td>...</td>\n",
       "      <td>...</td>\n",
       "    </tr>\n",
       "    <tr>\n",
       "      <th>48836</th>\n",
       "      <td>33.0</td>\n",
       "      <td>Private</td>\n",
       "      <td>245211</td>\n",
       "      <td>Bachelors</td>\n",
       "      <td>13.0</td>\n",
       "      <td>Never-married</td>\n",
       "      <td>Prof-specialty</td>\n",
       "      <td>Own-child</td>\n",
       "      <td>White</td>\n",
       "      <td>Male</td>\n",
       "      <td>0</td>\n",
       "      <td>0</td>\n",
       "      <td>40</td>\n",
       "      <td>United-States</td>\n",
       "      <td>&lt;=50K.</td>\n",
       "    </tr>\n",
       "    <tr>\n",
       "      <th>48837</th>\n",
       "      <td>39.0</td>\n",
       "      <td>Private</td>\n",
       "      <td>215419</td>\n",
       "      <td>Bachelors</td>\n",
       "      <td>13.0</td>\n",
       "      <td>Divorced</td>\n",
       "      <td>Prof-specialty</td>\n",
       "      <td>Not-in-family</td>\n",
       "      <td>White</td>\n",
       "      <td>Female</td>\n",
       "      <td>0</td>\n",
       "      <td>0</td>\n",
       "      <td>36</td>\n",
       "      <td>United-States</td>\n",
       "      <td>&lt;=50K.</td>\n",
       "    </tr>\n",
       "    <tr>\n",
       "      <th>48839</th>\n",
       "      <td>38.0</td>\n",
       "      <td>Private</td>\n",
       "      <td>374983</td>\n",
       "      <td>Bachelors</td>\n",
       "      <td>13.0</td>\n",
       "      <td>Married-civ-spouse</td>\n",
       "      <td>Prof-specialty</td>\n",
       "      <td>Husband</td>\n",
       "      <td>White</td>\n",
       "      <td>Male</td>\n",
       "      <td>0</td>\n",
       "      <td>0</td>\n",
       "      <td>50</td>\n",
       "      <td>United-States</td>\n",
       "      <td>&lt;=50K.</td>\n",
       "    </tr>\n",
       "    <tr>\n",
       "      <th>48840</th>\n",
       "      <td>44.0</td>\n",
       "      <td>Private</td>\n",
       "      <td>83891</td>\n",
       "      <td>Bachelors</td>\n",
       "      <td>13.0</td>\n",
       "      <td>Divorced</td>\n",
       "      <td>Adm-clerical</td>\n",
       "      <td>Own-child</td>\n",
       "      <td>Asian-Pac-Islander</td>\n",
       "      <td>Male</td>\n",
       "      <td>5455</td>\n",
       "      <td>0</td>\n",
       "      <td>40</td>\n",
       "      <td>United-States</td>\n",
       "      <td>&lt;=50K.</td>\n",
       "    </tr>\n",
       "    <tr>\n",
       "      <th>48841</th>\n",
       "      <td>35.0</td>\n",
       "      <td>Self-emp-inc</td>\n",
       "      <td>182148</td>\n",
       "      <td>Bachelors</td>\n",
       "      <td>13.0</td>\n",
       "      <td>Married-civ-spouse</td>\n",
       "      <td>Exec-managerial</td>\n",
       "      <td>Husband</td>\n",
       "      <td>White</td>\n",
       "      <td>Male</td>\n",
       "      <td>0</td>\n",
       "      <td>0</td>\n",
       "      <td>60</td>\n",
       "      <td>United-States</td>\n",
       "      <td>&gt;50K.</td>\n",
       "    </tr>\n",
       "  </tbody>\n",
       "</table>\n",
       "<p>44701 rows × 15 columns</p>\n",
       "</div>"
      ],
      "text/plain": [
       "        Age    Employment_Type  Weighting_Factor   Education  School_Period  \\\n",
       "0      39.0          State-gov             77516   Bachelors           13.0   \n",
       "1      50.0   Self-emp-not-inc             83311   Bachelors           13.0   \n",
       "2      38.0            Private            215646     HS-grad            9.0   \n",
       "3      53.0            Private            234721        11th            7.0   \n",
       "4      28.0            Private            338409   Bachelors           13.0   \n",
       "...     ...                ...               ...         ...            ...   \n",
       "48836  33.0            Private            245211   Bachelors           13.0   \n",
       "48837  39.0            Private            215419   Bachelors           13.0   \n",
       "48839  38.0            Private            374983   Bachelors           13.0   \n",
       "48840  44.0            Private             83891   Bachelors           13.0   \n",
       "48841  35.0       Self-emp-inc            182148   Bachelors           13.0   \n",
       "\n",
       "            Marital_Status     Employment_Area     Partnership  \\\n",
       "0            Never-married        Adm-clerical   Not-in-family   \n",
       "1       Married-civ-spouse     Exec-managerial         Husband   \n",
       "2                 Divorced   Handlers-cleaners   Not-in-family   \n",
       "3       Married-civ-spouse   Handlers-cleaners         Husband   \n",
       "4       Married-civ-spouse      Prof-specialty            Wife   \n",
       "...                    ...                 ...             ...   \n",
       "48836        Never-married      Prof-specialty       Own-child   \n",
       "48837             Divorced      Prof-specialty   Not-in-family   \n",
       "48839   Married-civ-spouse      Prof-specialty         Husband   \n",
       "48840             Divorced        Adm-clerical       Own-child   \n",
       "48841   Married-civ-spouse     Exec-managerial         Husband   \n",
       "\n",
       "                 Ethnicity   Gender  Gain_Financial  Losses_Financial  \\\n",
       "0                    White     Male            2174                 0   \n",
       "1                    White     Male               0                 0   \n",
       "2                    White     Male               0                 0   \n",
       "3                    Black     Male               0                 0   \n",
       "4                    Black   Female               0                 0   \n",
       "...                    ...      ...             ...               ...   \n",
       "48836                White     Male               0                 0   \n",
       "48837                White   Female               0                 0   \n",
       "48839                White     Male               0                 0   \n",
       "48840   Asian-Pac-Islander     Male            5455                 0   \n",
       "48841                White     Male               0                 0   \n",
       "\n",
       "       Weekly_Working_Time   Birth_Country   Income  \n",
       "0                       40   United-States    <=50K  \n",
       "1                       13   United-States    <=50K  \n",
       "2                       40   United-States    <=50K  \n",
       "3                       40   United-States    <=50K  \n",
       "4                       40            Cuba    <=50K  \n",
       "...                    ...             ...      ...  \n",
       "48836                   40   United-States   <=50K.  \n",
       "48837                   36   United-States   <=50K.  \n",
       "48839                   50   United-States   <=50K.  \n",
       "48840                   40   United-States   <=50K.  \n",
       "48841                   60   United-States    >50K.  \n",
       "\n",
       "[44701 rows x 15 columns]"
      ]
     },
     "execution_count": 295,
     "metadata": {},
     "output_type": "execute_result"
    }
   ],
   "source": [
    "df1"
   ]
  },
  {
   "cell_type": "code",
   "execution_count": 296,
   "id": "9db804e6",
   "metadata": {},
   "outputs": [],
   "source": [
    "# Replace values in the 'Income' column\n",
    "df1['Income'].replace({' <=50K.': ' <=50K', ' >50K.': ' >50K'}, inplace=True)"
   ]
  },
  {
   "cell_type": "code",
   "execution_count": 297,
   "id": "94b1db84",
   "metadata": {},
   "outputs": [],
   "source": [
    "# in a country maximum limit of working for normal time + overtime is maximum 90 hours. Apart from that i think rest are outliers"
   ]
  },
  {
   "cell_type": "code",
   "execution_count": 298,
   "id": "0c9d2291",
   "metadata": {},
   "outputs": [],
   "source": [
    "from sklearn.preprocessing import LabelEncoder\n",
    "\n",
    "# Assuming df1 is your DataFrame containing categorical features\n",
    "categorical_columns = ['Marital_Status', 'Employment_Area','Employment_Type', 'Education', 'Partnership', 'Ethnicity', 'Gender', 'Birth_Country', 'Income']  # Specify the names of categorical columns\n",
    "\n",
    "# Initialize LabelEncoder\n",
    "label_encoder = LabelEncoder()\n",
    "\n",
    "# Iterate over each categorical column and encode its values\n",
    "for col in categorical_columns:\n",
    "    df1[col] = label_encoder.fit_transform(df1[col])\n"
   ]
  },
  {
   "cell_type": "code",
   "execution_count": 299,
   "id": "ab1bd553",
   "metadata": {},
   "outputs": [
    {
     "data": {
      "text/html": [
       "<div>\n",
       "<style scoped>\n",
       "    .dataframe tbody tr th:only-of-type {\n",
       "        vertical-align: middle;\n",
       "    }\n",
       "\n",
       "    .dataframe tbody tr th {\n",
       "        vertical-align: top;\n",
       "    }\n",
       "\n",
       "    .dataframe thead th {\n",
       "        text-align: right;\n",
       "    }\n",
       "</style>\n",
       "<table border=\"1\" class=\"dataframe\">\n",
       "  <thead>\n",
       "    <tr style=\"text-align: right;\">\n",
       "      <th></th>\n",
       "      <th>Age</th>\n",
       "      <th>Employment_Type</th>\n",
       "      <th>Weighting_Factor</th>\n",
       "      <th>Education</th>\n",
       "      <th>School_Period</th>\n",
       "      <th>Marital_Status</th>\n",
       "      <th>Employment_Area</th>\n",
       "      <th>Partnership</th>\n",
       "      <th>Ethnicity</th>\n",
       "      <th>Gender</th>\n",
       "      <th>Gain_Financial</th>\n",
       "      <th>Losses_Financial</th>\n",
       "      <th>Weekly_Working_Time</th>\n",
       "      <th>Birth_Country</th>\n",
       "      <th>Income</th>\n",
       "    </tr>\n",
       "  </thead>\n",
       "  <tbody>\n",
       "    <tr>\n",
       "      <th>0</th>\n",
       "      <td>39.0</td>\n",
       "      <td>5</td>\n",
       "      <td>77516</td>\n",
       "      <td>9</td>\n",
       "      <td>13.0</td>\n",
       "      <td>4</td>\n",
       "      <td>0</td>\n",
       "      <td>1</td>\n",
       "      <td>4</td>\n",
       "      <td>1</td>\n",
       "      <td>2174</td>\n",
       "      <td>0</td>\n",
       "      <td>40</td>\n",
       "      <td>38</td>\n",
       "      <td>0</td>\n",
       "    </tr>\n",
       "    <tr>\n",
       "      <th>1</th>\n",
       "      <td>50.0</td>\n",
       "      <td>4</td>\n",
       "      <td>83311</td>\n",
       "      <td>9</td>\n",
       "      <td>13.0</td>\n",
       "      <td>2</td>\n",
       "      <td>3</td>\n",
       "      <td>0</td>\n",
       "      <td>4</td>\n",
       "      <td>1</td>\n",
       "      <td>0</td>\n",
       "      <td>0</td>\n",
       "      <td>13</td>\n",
       "      <td>38</td>\n",
       "      <td>0</td>\n",
       "    </tr>\n",
       "    <tr>\n",
       "      <th>2</th>\n",
       "      <td>38.0</td>\n",
       "      <td>2</td>\n",
       "      <td>215646</td>\n",
       "      <td>11</td>\n",
       "      <td>9.0</td>\n",
       "      <td>0</td>\n",
       "      <td>5</td>\n",
       "      <td>1</td>\n",
       "      <td>4</td>\n",
       "      <td>1</td>\n",
       "      <td>0</td>\n",
       "      <td>0</td>\n",
       "      <td>40</td>\n",
       "      <td>38</td>\n",
       "      <td>0</td>\n",
       "    </tr>\n",
       "    <tr>\n",
       "      <th>3</th>\n",
       "      <td>53.0</td>\n",
       "      <td>2</td>\n",
       "      <td>234721</td>\n",
       "      <td>1</td>\n",
       "      <td>7.0</td>\n",
       "      <td>2</td>\n",
       "      <td>5</td>\n",
       "      <td>0</td>\n",
       "      <td>2</td>\n",
       "      <td>1</td>\n",
       "      <td>0</td>\n",
       "      <td>0</td>\n",
       "      <td>40</td>\n",
       "      <td>38</td>\n",
       "      <td>0</td>\n",
       "    </tr>\n",
       "    <tr>\n",
       "      <th>4</th>\n",
       "      <td>28.0</td>\n",
       "      <td>2</td>\n",
       "      <td>338409</td>\n",
       "      <td>9</td>\n",
       "      <td>13.0</td>\n",
       "      <td>2</td>\n",
       "      <td>9</td>\n",
       "      <td>5</td>\n",
       "      <td>2</td>\n",
       "      <td>0</td>\n",
       "      <td>0</td>\n",
       "      <td>0</td>\n",
       "      <td>40</td>\n",
       "      <td>4</td>\n",
       "      <td>0</td>\n",
       "    </tr>\n",
       "    <tr>\n",
       "      <th>...</th>\n",
       "      <td>...</td>\n",
       "      <td>...</td>\n",
       "      <td>...</td>\n",
       "      <td>...</td>\n",
       "      <td>...</td>\n",
       "      <td>...</td>\n",
       "      <td>...</td>\n",
       "      <td>...</td>\n",
       "      <td>...</td>\n",
       "      <td>...</td>\n",
       "      <td>...</td>\n",
       "      <td>...</td>\n",
       "      <td>...</td>\n",
       "      <td>...</td>\n",
       "      <td>...</td>\n",
       "    </tr>\n",
       "    <tr>\n",
       "      <th>48836</th>\n",
       "      <td>33.0</td>\n",
       "      <td>2</td>\n",
       "      <td>245211</td>\n",
       "      <td>9</td>\n",
       "      <td>13.0</td>\n",
       "      <td>4</td>\n",
       "      <td>9</td>\n",
       "      <td>3</td>\n",
       "      <td>4</td>\n",
       "      <td>1</td>\n",
       "      <td>0</td>\n",
       "      <td>0</td>\n",
       "      <td>40</td>\n",
       "      <td>38</td>\n",
       "      <td>0</td>\n",
       "    </tr>\n",
       "    <tr>\n",
       "      <th>48837</th>\n",
       "      <td>39.0</td>\n",
       "      <td>2</td>\n",
       "      <td>215419</td>\n",
       "      <td>9</td>\n",
       "      <td>13.0</td>\n",
       "      <td>0</td>\n",
       "      <td>9</td>\n",
       "      <td>1</td>\n",
       "      <td>4</td>\n",
       "      <td>0</td>\n",
       "      <td>0</td>\n",
       "      <td>0</td>\n",
       "      <td>36</td>\n",
       "      <td>38</td>\n",
       "      <td>0</td>\n",
       "    </tr>\n",
       "    <tr>\n",
       "      <th>48839</th>\n",
       "      <td>38.0</td>\n",
       "      <td>2</td>\n",
       "      <td>374983</td>\n",
       "      <td>9</td>\n",
       "      <td>13.0</td>\n",
       "      <td>2</td>\n",
       "      <td>9</td>\n",
       "      <td>0</td>\n",
       "      <td>4</td>\n",
       "      <td>1</td>\n",
       "      <td>0</td>\n",
       "      <td>0</td>\n",
       "      <td>50</td>\n",
       "      <td>38</td>\n",
       "      <td>0</td>\n",
       "    </tr>\n",
       "    <tr>\n",
       "      <th>48840</th>\n",
       "      <td>44.0</td>\n",
       "      <td>2</td>\n",
       "      <td>83891</td>\n",
       "      <td>9</td>\n",
       "      <td>13.0</td>\n",
       "      <td>0</td>\n",
       "      <td>0</td>\n",
       "      <td>3</td>\n",
       "      <td>1</td>\n",
       "      <td>1</td>\n",
       "      <td>5455</td>\n",
       "      <td>0</td>\n",
       "      <td>40</td>\n",
       "      <td>38</td>\n",
       "      <td>0</td>\n",
       "    </tr>\n",
       "    <tr>\n",
       "      <th>48841</th>\n",
       "      <td>35.0</td>\n",
       "      <td>3</td>\n",
       "      <td>182148</td>\n",
       "      <td>9</td>\n",
       "      <td>13.0</td>\n",
       "      <td>2</td>\n",
       "      <td>3</td>\n",
       "      <td>0</td>\n",
       "      <td>4</td>\n",
       "      <td>1</td>\n",
       "      <td>0</td>\n",
       "      <td>0</td>\n",
       "      <td>60</td>\n",
       "      <td>38</td>\n",
       "      <td>1</td>\n",
       "    </tr>\n",
       "  </tbody>\n",
       "</table>\n",
       "<p>44701 rows × 15 columns</p>\n",
       "</div>"
      ],
      "text/plain": [
       "        Age  Employment_Type  Weighting_Factor  Education  School_Period  \\\n",
       "0      39.0                5             77516          9           13.0   \n",
       "1      50.0                4             83311          9           13.0   \n",
       "2      38.0                2            215646         11            9.0   \n",
       "3      53.0                2            234721          1            7.0   \n",
       "4      28.0                2            338409          9           13.0   \n",
       "...     ...              ...               ...        ...            ...   \n",
       "48836  33.0                2            245211          9           13.0   \n",
       "48837  39.0                2            215419          9           13.0   \n",
       "48839  38.0                2            374983          9           13.0   \n",
       "48840  44.0                2             83891          9           13.0   \n",
       "48841  35.0                3            182148          9           13.0   \n",
       "\n",
       "       Marital_Status  Employment_Area  Partnership  Ethnicity  Gender  \\\n",
       "0                   4                0            1          4       1   \n",
       "1                   2                3            0          4       1   \n",
       "2                   0                5            1          4       1   \n",
       "3                   2                5            0          2       1   \n",
       "4                   2                9            5          2       0   \n",
       "...               ...              ...          ...        ...     ...   \n",
       "48836               4                9            3          4       1   \n",
       "48837               0                9            1          4       0   \n",
       "48839               2                9            0          4       1   \n",
       "48840               0                0            3          1       1   \n",
       "48841               2                3            0          4       1   \n",
       "\n",
       "       Gain_Financial  Losses_Financial  Weekly_Working_Time  Birth_Country  \\\n",
       "0                2174                 0                   40             38   \n",
       "1                   0                 0                   13             38   \n",
       "2                   0                 0                   40             38   \n",
       "3                   0                 0                   40             38   \n",
       "4                   0                 0                   40              4   \n",
       "...               ...               ...                  ...            ...   \n",
       "48836               0                 0                   40             38   \n",
       "48837               0                 0                   36             38   \n",
       "48839               0                 0                   50             38   \n",
       "48840            5455                 0                   40             38   \n",
       "48841               0                 0                   60             38   \n",
       "\n",
       "       Income  \n",
       "0           0  \n",
       "1           0  \n",
       "2           0  \n",
       "3           0  \n",
       "4           0  \n",
       "...       ...  \n",
       "48836       0  \n",
       "48837       0  \n",
       "48839       0  \n",
       "48840       0  \n",
       "48841       1  \n",
       "\n",
       "[44701 rows x 15 columns]"
      ]
     },
     "execution_count": 299,
     "metadata": {},
     "output_type": "execute_result"
    }
   ],
   "source": [
    "df1"
   ]
  },
  {
   "cell_type": "code",
   "execution_count": null,
   "id": "519fa692",
   "metadata": {},
   "outputs": [],
   "source": []
  },
  {
   "cell_type": "code",
   "execution_count": 300,
   "id": "23db570b",
   "metadata": {},
   "outputs": [
    {
     "name": "stdout",
     "output_type": "stream",
     "text": [
      "Selected Features: Index(['School_Period', 'Partnership'], dtype='object')\n"
     ]
    }
   ],
   "source": [
    "from sklearn.feature_selection import SelectKBest, f_classif\n",
    "\n",
    "# Select top k features based on ANOVA F-value\n",
    "k_best = SelectKBest(score_func=f_classif, k=2)\n",
    "X_selected = k_best.fit_transform(df1.drop(columns=['Income']), df1['Income'])\n",
    "\n",
    "# Print indices of selected features\n",
    "selected_indices = k_best.get_support(indices=True)\n",
    "selected_features = df1.columns[selected_indices]\n",
    "print(\"Selected Features:\", selected_features)\n"
   ]
  },
  {
   "cell_type": "code",
   "execution_count": 301,
   "id": "d9b3ab2a",
   "metadata": {},
   "outputs": [
    {
     "name": "stdout",
     "output_type": "stream",
     "text": [
      "Top 8 Features: Index(['Weighting_Factor', 'Age', 'Weekly_Working_Time', 'Employment_Area',\n",
      "       'School_Period', 'Partnership', 'Gain_Financial', 'Employment_Type'],\n",
      "      dtype='object')\n"
     ]
    }
   ],
   "source": [
    "top_n = 8  # Select top 5 features\n",
    "top_features_indices = feature_importances.argsort()[-top_n:][::-1]\n",
    "top_features = df1.columns[top_features_indices]\n",
    "print(\"Top\", top_n, \"Features:\", top_features)\n"
   ]
  },
  {
   "cell_type": "code",
   "execution_count": null,
   "id": "10028f95",
   "metadata": {},
   "outputs": [],
   "source": []
  },
  {
   "cell_type": "code",
   "execution_count": null,
   "id": "93e2526f",
   "metadata": {},
   "outputs": [],
   "source": []
  },
  {
   "cell_type": "code",
   "execution_count": null,
   "id": "7eaa0726",
   "metadata": {},
   "outputs": [],
   "source": []
  },
  {
   "cell_type": "code",
   "execution_count": null,
   "id": "24c4e506",
   "metadata": {},
   "outputs": [],
   "source": []
  },
  {
   "cell_type": "code",
   "execution_count": null,
   "id": "74ccd1ee",
   "metadata": {},
   "outputs": [],
   "source": []
  },
  {
   "cell_type": "code",
   "execution_count": 302,
   "id": "7e892f5a",
   "metadata": {},
   "outputs": [
    {
     "name": "stdout",
     "output_type": "stream",
     "text": [
      "Accuracy: 0.8105930622901902\n"
     ]
    }
   ],
   "source": [
    "from sklearn.model_selection import train_test_split\n",
    "from sklearn.metrics import accuracy_score\n",
    "from sklearn.ensemble import RandomForestClassifier\n",
    "\n",
    "# Drop duplicates from DataFrame\n",
    "df1 = df1.drop_duplicates()\n",
    "\n",
    "# Select specific features\n",
    "X = df1[['Weighting_Factor', 'Age', 'Weekly_Working_Time', 'Employment_Area', 'School_Period', 'Partnership']]\n",
    "y = df1['Income']  # Target variable\n",
    "\n",
    "# Split data into training and testing sets\n",
    "X_train, X_test, y_train, y_test = train_test_split(X, y, test_size=0.3, random_state=42)\n",
    "\n",
    "# Initialize Random Forest Classifier\n",
    "rf = RandomForestClassifier()\n",
    "\n",
    "# Fit model to training data\n",
    "rf.fit(X_train, y_train)\n",
    "\n",
    "# Make predictions on testing data\n",
    "y_pred = rf.predict(X_test)\n",
    "\n",
    "# Calculate accuracy\n",
    "accuracy = accuracy_score(y_test, y_pred)\n",
    "print(\"Accuracy:\", accuracy)\n"
   ]
  },
  {
   "cell_type": "code",
   "execution_count": null,
   "id": "99dac265",
   "metadata": {},
   "outputs": [],
   "source": []
  },
  {
   "cell_type": "code",
   "execution_count": null,
   "id": "714d1ea3",
   "metadata": {},
   "outputs": [],
   "source": []
  }
 ],
 "metadata": {
  "kernelspec": {
   "display_name": "Python 3 (ipykernel)",
   "language": "python",
   "name": "python3"
  },
  "language_info": {
   "codemirror_mode": {
    "name": "ipython",
    "version": 3
   },
   "file_extension": ".py",
   "mimetype": "text/x-python",
   "name": "python",
   "nbconvert_exporter": "python",
   "pygments_lexer": "ipython3",
   "version": "3.11.5"
  }
 },
 "nbformat": 4,
 "nbformat_minor": 5
}
