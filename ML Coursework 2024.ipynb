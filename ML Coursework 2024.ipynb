{
 "cells": [
  {
   "cell_type": "code",
   "execution_count": 1,
   "id": "e685fe7d",
   "metadata": {},
   "outputs": [],
   "source": [
    "import pandas as pd\n",
    "import numpy as np\n",
    "import datetime\n",
    "import matplotlib.pyplot as plt\n",
    "import seaborn as sns\n"
   ]
  },
  {
   "cell_type": "code",
   "execution_count": 2,
   "id": "de9e018b",
   "metadata": {
    "scrolled": true
   },
   "outputs": [
    {
     "data": {
      "text/html": [
       "<div>\n",
       "<style scoped>\n",
       "    .dataframe tbody tr th:only-of-type {\n",
       "        vertical-align: middle;\n",
       "    }\n",
       "\n",
       "    .dataframe tbody tr th {\n",
       "        vertical-align: top;\n",
       "    }\n",
       "\n",
       "    .dataframe thead th {\n",
       "        text-align: right;\n",
       "    }\n",
       "</style>\n",
       "<table border=\"1\" class=\"dataframe\">\n",
       "  <thead>\n",
       "    <tr style=\"text-align: right;\">\n",
       "      <th></th>\n",
       "      <th>0</th>\n",
       "      <th>1</th>\n",
       "      <th>2</th>\n",
       "      <th>3</th>\n",
       "      <th>4</th>\n",
       "      <th>5</th>\n",
       "      <th>6</th>\n",
       "      <th>7</th>\n",
       "      <th>8</th>\n",
       "      <th>9</th>\n",
       "      <th>10</th>\n",
       "      <th>11</th>\n",
       "      <th>12</th>\n",
       "      <th>13</th>\n",
       "      <th>14</th>\n",
       "    </tr>\n",
       "  </thead>\n",
       "  <tbody>\n",
       "    <tr>\n",
       "      <th>0</th>\n",
       "      <td>39</td>\n",
       "      <td>State-gov</td>\n",
       "      <td>77516</td>\n",
       "      <td>Bachelors</td>\n",
       "      <td>13</td>\n",
       "      <td>Never-married</td>\n",
       "      <td>Adm-clerical</td>\n",
       "      <td>Not-in-family</td>\n",
       "      <td>White</td>\n",
       "      <td>Male</td>\n",
       "      <td>2174</td>\n",
       "      <td>0</td>\n",
       "      <td>40</td>\n",
       "      <td>United-States</td>\n",
       "      <td>&lt;=50K</td>\n",
       "    </tr>\n",
       "    <tr>\n",
       "      <th>1</th>\n",
       "      <td>50</td>\n",
       "      <td>Self-emp-not-inc</td>\n",
       "      <td>83311</td>\n",
       "      <td>Bachelors</td>\n",
       "      <td>13</td>\n",
       "      <td>Married-civ-spouse</td>\n",
       "      <td>Exec-managerial</td>\n",
       "      <td>Husband</td>\n",
       "      <td>White</td>\n",
       "      <td>Male</td>\n",
       "      <td>0</td>\n",
       "      <td>0</td>\n",
       "      <td>13</td>\n",
       "      <td>United-States</td>\n",
       "      <td>&lt;=50K</td>\n",
       "    </tr>\n",
       "    <tr>\n",
       "      <th>2</th>\n",
       "      <td>38</td>\n",
       "      <td>Private</td>\n",
       "      <td>215646</td>\n",
       "      <td>HS-grad</td>\n",
       "      <td>9</td>\n",
       "      <td>Divorced</td>\n",
       "      <td>Handlers-cleaners</td>\n",
       "      <td>Not-in-family</td>\n",
       "      <td>White</td>\n",
       "      <td>Male</td>\n",
       "      <td>0</td>\n",
       "      <td>0</td>\n",
       "      <td>40</td>\n",
       "      <td>United-States</td>\n",
       "      <td>&lt;=50K</td>\n",
       "    </tr>\n",
       "    <tr>\n",
       "      <th>3</th>\n",
       "      <td>53</td>\n",
       "      <td>Private</td>\n",
       "      <td>234721</td>\n",
       "      <td>11th</td>\n",
       "      <td>7</td>\n",
       "      <td>Married-civ-spouse</td>\n",
       "      <td>Handlers-cleaners</td>\n",
       "      <td>Husband</td>\n",
       "      <td>Black</td>\n",
       "      <td>Male</td>\n",
       "      <td>0</td>\n",
       "      <td>0</td>\n",
       "      <td>40</td>\n",
       "      <td>United-States</td>\n",
       "      <td>&lt;=50K</td>\n",
       "    </tr>\n",
       "    <tr>\n",
       "      <th>4</th>\n",
       "      <td>28</td>\n",
       "      <td>Private</td>\n",
       "      <td>338409</td>\n",
       "      <td>Bachelors</td>\n",
       "      <td>13</td>\n",
       "      <td>Married-civ-spouse</td>\n",
       "      <td>Prof-specialty</td>\n",
       "      <td>Wife</td>\n",
       "      <td>Black</td>\n",
       "      <td>Female</td>\n",
       "      <td>0</td>\n",
       "      <td>0</td>\n",
       "      <td>40</td>\n",
       "      <td>Cuba</td>\n",
       "      <td>&lt;=50K</td>\n",
       "    </tr>\n",
       "    <tr>\n",
       "      <th>...</th>\n",
       "      <td>...</td>\n",
       "      <td>...</td>\n",
       "      <td>...</td>\n",
       "      <td>...</td>\n",
       "      <td>...</td>\n",
       "      <td>...</td>\n",
       "      <td>...</td>\n",
       "      <td>...</td>\n",
       "      <td>...</td>\n",
       "      <td>...</td>\n",
       "      <td>...</td>\n",
       "      <td>...</td>\n",
       "      <td>...</td>\n",
       "      <td>...</td>\n",
       "      <td>...</td>\n",
       "    </tr>\n",
       "    <tr>\n",
       "      <th>32556</th>\n",
       "      <td>27</td>\n",
       "      <td>Private</td>\n",
       "      <td>257302</td>\n",
       "      <td>Assoc-acdm</td>\n",
       "      <td>12</td>\n",
       "      <td>Married-civ-spouse</td>\n",
       "      <td>Tech-support</td>\n",
       "      <td>Wife</td>\n",
       "      <td>White</td>\n",
       "      <td>Female</td>\n",
       "      <td>0</td>\n",
       "      <td>0</td>\n",
       "      <td>38</td>\n",
       "      <td>United-States</td>\n",
       "      <td>&lt;=50K</td>\n",
       "    </tr>\n",
       "    <tr>\n",
       "      <th>32557</th>\n",
       "      <td>40</td>\n",
       "      <td>Private</td>\n",
       "      <td>154374</td>\n",
       "      <td>HS-grad</td>\n",
       "      <td>9</td>\n",
       "      <td>Married-civ-spouse</td>\n",
       "      <td>Machine-op-inspct</td>\n",
       "      <td>Husband</td>\n",
       "      <td>White</td>\n",
       "      <td>Male</td>\n",
       "      <td>0</td>\n",
       "      <td>0</td>\n",
       "      <td>40</td>\n",
       "      <td>United-States</td>\n",
       "      <td>&gt;50K</td>\n",
       "    </tr>\n",
       "    <tr>\n",
       "      <th>32558</th>\n",
       "      <td>58</td>\n",
       "      <td>Private</td>\n",
       "      <td>151910</td>\n",
       "      <td>HS-grad</td>\n",
       "      <td>9</td>\n",
       "      <td>Widowed</td>\n",
       "      <td>Adm-clerical</td>\n",
       "      <td>Unmarried</td>\n",
       "      <td>White</td>\n",
       "      <td>Female</td>\n",
       "      <td>0</td>\n",
       "      <td>0</td>\n",
       "      <td>40</td>\n",
       "      <td>United-States</td>\n",
       "      <td>&lt;=50K</td>\n",
       "    </tr>\n",
       "    <tr>\n",
       "      <th>32559</th>\n",
       "      <td>22</td>\n",
       "      <td>Private</td>\n",
       "      <td>201490</td>\n",
       "      <td>HS-grad</td>\n",
       "      <td>9</td>\n",
       "      <td>Never-married</td>\n",
       "      <td>Adm-clerical</td>\n",
       "      <td>Own-child</td>\n",
       "      <td>White</td>\n",
       "      <td>Male</td>\n",
       "      <td>0</td>\n",
       "      <td>0</td>\n",
       "      <td>20</td>\n",
       "      <td>United-States</td>\n",
       "      <td>&lt;=50K</td>\n",
       "    </tr>\n",
       "    <tr>\n",
       "      <th>32560</th>\n",
       "      <td>52</td>\n",
       "      <td>Self-emp-inc</td>\n",
       "      <td>287927</td>\n",
       "      <td>HS-grad</td>\n",
       "      <td>9</td>\n",
       "      <td>Married-civ-spouse</td>\n",
       "      <td>Exec-managerial</td>\n",
       "      <td>Wife</td>\n",
       "      <td>White</td>\n",
       "      <td>Female</td>\n",
       "      <td>15024</td>\n",
       "      <td>0</td>\n",
       "      <td>40</td>\n",
       "      <td>United-States</td>\n",
       "      <td>&gt;50K</td>\n",
       "    </tr>\n",
       "  </tbody>\n",
       "</table>\n",
       "<p>32561 rows × 15 columns</p>\n",
       "</div>"
      ],
      "text/plain": [
       "       0                  1       2            3   4                    5   \\\n",
       "0      39          State-gov   77516    Bachelors  13        Never-married   \n",
       "1      50   Self-emp-not-inc   83311    Bachelors  13   Married-civ-spouse   \n",
       "2      38            Private  215646      HS-grad   9             Divorced   \n",
       "3      53            Private  234721         11th   7   Married-civ-spouse   \n",
       "4      28            Private  338409    Bachelors  13   Married-civ-spouse   \n",
       "...    ..                ...     ...          ...  ..                  ...   \n",
       "32556  27            Private  257302   Assoc-acdm  12   Married-civ-spouse   \n",
       "32557  40            Private  154374      HS-grad   9   Married-civ-spouse   \n",
       "32558  58            Private  151910      HS-grad   9              Widowed   \n",
       "32559  22            Private  201490      HS-grad   9        Never-married   \n",
       "32560  52       Self-emp-inc  287927      HS-grad   9   Married-civ-spouse   \n",
       "\n",
       "                       6               7       8        9      10  11  12  \\\n",
       "0            Adm-clerical   Not-in-family   White     Male   2174   0  40   \n",
       "1         Exec-managerial         Husband   White     Male      0   0  13   \n",
       "2       Handlers-cleaners   Not-in-family   White     Male      0   0  40   \n",
       "3       Handlers-cleaners         Husband   Black     Male      0   0  40   \n",
       "4          Prof-specialty            Wife   Black   Female      0   0  40   \n",
       "...                   ...             ...     ...      ...    ...  ..  ..   \n",
       "32556        Tech-support            Wife   White   Female      0   0  38   \n",
       "32557   Machine-op-inspct         Husband   White     Male      0   0  40   \n",
       "32558        Adm-clerical       Unmarried   White   Female      0   0  40   \n",
       "32559        Adm-clerical       Own-child   White     Male      0   0  20   \n",
       "32560     Exec-managerial            Wife   White   Female  15024   0  40   \n",
       "\n",
       "                   13      14  \n",
       "0       United-States   <=50K  \n",
       "1       United-States   <=50K  \n",
       "2       United-States   <=50K  \n",
       "3       United-States   <=50K  \n",
       "4                Cuba   <=50K  \n",
       "...               ...     ...  \n",
       "32556   United-States   <=50K  \n",
       "32557   United-States    >50K  \n",
       "32558   United-States   <=50K  \n",
       "32559   United-States   <=50K  \n",
       "32560   United-States    >50K  \n",
       "\n",
       "[32561 rows x 15 columns]"
      ]
     },
     "execution_count": 2,
     "metadata": {},
     "output_type": "execute_result"
    }
   ],
   "source": [
    "# first i loaded the dataset\n",
    "df = pd.read_csv('C:/Users/MSI KATANA/Desktop/practice ML/machine L cw 2024/Machine-Learning-CW/dataset for ML cw.csv', header=None)\n",
    "df"
   ]
  },
  {
   "cell_type": "code",
   "execution_count": 3,
   "id": "cdcd9063",
   "metadata": {},
   "outputs": [],
   "source": [
    "column_names = ['Age', 'Employment_Type', 'Weighting_Factor', 'Education', 'School_Period', \n",
    "                'Marital_Status', 'Employment_Area', 'Partnership', 'Ethnicity', 'Gender', \n",
    "                'Gain_Financial', 'Losses_Financial', 'Weekly_Working_Time', 'Birth_Country', 'Income']\n"
   ]
  },
  {
   "cell_type": "code",
   "execution_count": 4,
   "id": "140947a7",
   "metadata": {},
   "outputs": [
    {
     "data": {
      "text/html": [
       "<div>\n",
       "<style scoped>\n",
       "    .dataframe tbody tr th:only-of-type {\n",
       "        vertical-align: middle;\n",
       "    }\n",
       "\n",
       "    .dataframe tbody tr th {\n",
       "        vertical-align: top;\n",
       "    }\n",
       "\n",
       "    .dataframe thead th {\n",
       "        text-align: right;\n",
       "    }\n",
       "</style>\n",
       "<table border=\"1\" class=\"dataframe\">\n",
       "  <thead>\n",
       "    <tr style=\"text-align: right;\">\n",
       "      <th></th>\n",
       "      <th>Age</th>\n",
       "      <th>Employment_Type</th>\n",
       "      <th>Weighting_Factor</th>\n",
       "      <th>Education</th>\n",
       "      <th>School_Period</th>\n",
       "      <th>Marital_Status</th>\n",
       "      <th>Employment_Area</th>\n",
       "      <th>Partnership</th>\n",
       "      <th>Ethnicity</th>\n",
       "      <th>Gender</th>\n",
       "      <th>Gain_Financial</th>\n",
       "      <th>Losses_Financial</th>\n",
       "      <th>Weekly_Working_Time</th>\n",
       "      <th>Birth_Country</th>\n",
       "      <th>Income</th>\n",
       "    </tr>\n",
       "  </thead>\n",
       "  <tbody>\n",
       "    <tr>\n",
       "      <th>0</th>\n",
       "      <td>39</td>\n",
       "      <td>State-gov</td>\n",
       "      <td>77516</td>\n",
       "      <td>Bachelors</td>\n",
       "      <td>13</td>\n",
       "      <td>Never-married</td>\n",
       "      <td>Adm-clerical</td>\n",
       "      <td>Not-in-family</td>\n",
       "      <td>White</td>\n",
       "      <td>Male</td>\n",
       "      <td>2174</td>\n",
       "      <td>0</td>\n",
       "      <td>40</td>\n",
       "      <td>United-States</td>\n",
       "      <td>&lt;=50K</td>\n",
       "    </tr>\n",
       "    <tr>\n",
       "      <th>1</th>\n",
       "      <td>50</td>\n",
       "      <td>Self-emp-not-inc</td>\n",
       "      <td>83311</td>\n",
       "      <td>Bachelors</td>\n",
       "      <td>13</td>\n",
       "      <td>Married-civ-spouse</td>\n",
       "      <td>Exec-managerial</td>\n",
       "      <td>Husband</td>\n",
       "      <td>White</td>\n",
       "      <td>Male</td>\n",
       "      <td>0</td>\n",
       "      <td>0</td>\n",
       "      <td>13</td>\n",
       "      <td>United-States</td>\n",
       "      <td>&lt;=50K</td>\n",
       "    </tr>\n",
       "    <tr>\n",
       "      <th>2</th>\n",
       "      <td>38</td>\n",
       "      <td>Private</td>\n",
       "      <td>215646</td>\n",
       "      <td>HS-grad</td>\n",
       "      <td>9</td>\n",
       "      <td>Divorced</td>\n",
       "      <td>Handlers-cleaners</td>\n",
       "      <td>Not-in-family</td>\n",
       "      <td>White</td>\n",
       "      <td>Male</td>\n",
       "      <td>0</td>\n",
       "      <td>0</td>\n",
       "      <td>40</td>\n",
       "      <td>United-States</td>\n",
       "      <td>&lt;=50K</td>\n",
       "    </tr>\n",
       "    <tr>\n",
       "      <th>3</th>\n",
       "      <td>53</td>\n",
       "      <td>Private</td>\n",
       "      <td>234721</td>\n",
       "      <td>11th</td>\n",
       "      <td>7</td>\n",
       "      <td>Married-civ-spouse</td>\n",
       "      <td>Handlers-cleaners</td>\n",
       "      <td>Husband</td>\n",
       "      <td>Black</td>\n",
       "      <td>Male</td>\n",
       "      <td>0</td>\n",
       "      <td>0</td>\n",
       "      <td>40</td>\n",
       "      <td>United-States</td>\n",
       "      <td>&lt;=50K</td>\n",
       "    </tr>\n",
       "    <tr>\n",
       "      <th>4</th>\n",
       "      <td>28</td>\n",
       "      <td>Private</td>\n",
       "      <td>338409</td>\n",
       "      <td>Bachelors</td>\n",
       "      <td>13</td>\n",
       "      <td>Married-civ-spouse</td>\n",
       "      <td>Prof-specialty</td>\n",
       "      <td>Wife</td>\n",
       "      <td>Black</td>\n",
       "      <td>Female</td>\n",
       "      <td>0</td>\n",
       "      <td>0</td>\n",
       "      <td>40</td>\n",
       "      <td>Cuba</td>\n",
       "      <td>&lt;=50K</td>\n",
       "    </tr>\n",
       "    <tr>\n",
       "      <th>...</th>\n",
       "      <td>...</td>\n",
       "      <td>...</td>\n",
       "      <td>...</td>\n",
       "      <td>...</td>\n",
       "      <td>...</td>\n",
       "      <td>...</td>\n",
       "      <td>...</td>\n",
       "      <td>...</td>\n",
       "      <td>...</td>\n",
       "      <td>...</td>\n",
       "      <td>...</td>\n",
       "      <td>...</td>\n",
       "      <td>...</td>\n",
       "      <td>...</td>\n",
       "      <td>...</td>\n",
       "    </tr>\n",
       "    <tr>\n",
       "      <th>32556</th>\n",
       "      <td>27</td>\n",
       "      <td>Private</td>\n",
       "      <td>257302</td>\n",
       "      <td>Assoc-acdm</td>\n",
       "      <td>12</td>\n",
       "      <td>Married-civ-spouse</td>\n",
       "      <td>Tech-support</td>\n",
       "      <td>Wife</td>\n",
       "      <td>White</td>\n",
       "      <td>Female</td>\n",
       "      <td>0</td>\n",
       "      <td>0</td>\n",
       "      <td>38</td>\n",
       "      <td>United-States</td>\n",
       "      <td>&lt;=50K</td>\n",
       "    </tr>\n",
       "    <tr>\n",
       "      <th>32557</th>\n",
       "      <td>40</td>\n",
       "      <td>Private</td>\n",
       "      <td>154374</td>\n",
       "      <td>HS-grad</td>\n",
       "      <td>9</td>\n",
       "      <td>Married-civ-spouse</td>\n",
       "      <td>Machine-op-inspct</td>\n",
       "      <td>Husband</td>\n",
       "      <td>White</td>\n",
       "      <td>Male</td>\n",
       "      <td>0</td>\n",
       "      <td>0</td>\n",
       "      <td>40</td>\n",
       "      <td>United-States</td>\n",
       "      <td>&gt;50K</td>\n",
       "    </tr>\n",
       "    <tr>\n",
       "      <th>32558</th>\n",
       "      <td>58</td>\n",
       "      <td>Private</td>\n",
       "      <td>151910</td>\n",
       "      <td>HS-grad</td>\n",
       "      <td>9</td>\n",
       "      <td>Widowed</td>\n",
       "      <td>Adm-clerical</td>\n",
       "      <td>Unmarried</td>\n",
       "      <td>White</td>\n",
       "      <td>Female</td>\n",
       "      <td>0</td>\n",
       "      <td>0</td>\n",
       "      <td>40</td>\n",
       "      <td>United-States</td>\n",
       "      <td>&lt;=50K</td>\n",
       "    </tr>\n",
       "    <tr>\n",
       "      <th>32559</th>\n",
       "      <td>22</td>\n",
       "      <td>Private</td>\n",
       "      <td>201490</td>\n",
       "      <td>HS-grad</td>\n",
       "      <td>9</td>\n",
       "      <td>Never-married</td>\n",
       "      <td>Adm-clerical</td>\n",
       "      <td>Own-child</td>\n",
       "      <td>White</td>\n",
       "      <td>Male</td>\n",
       "      <td>0</td>\n",
       "      <td>0</td>\n",
       "      <td>20</td>\n",
       "      <td>United-States</td>\n",
       "      <td>&lt;=50K</td>\n",
       "    </tr>\n",
       "    <tr>\n",
       "      <th>32560</th>\n",
       "      <td>52</td>\n",
       "      <td>Self-emp-inc</td>\n",
       "      <td>287927</td>\n",
       "      <td>HS-grad</td>\n",
       "      <td>9</td>\n",
       "      <td>Married-civ-spouse</td>\n",
       "      <td>Exec-managerial</td>\n",
       "      <td>Wife</td>\n",
       "      <td>White</td>\n",
       "      <td>Female</td>\n",
       "      <td>15024</td>\n",
       "      <td>0</td>\n",
       "      <td>40</td>\n",
       "      <td>United-States</td>\n",
       "      <td>&gt;50K</td>\n",
       "    </tr>\n",
       "  </tbody>\n",
       "</table>\n",
       "<p>32561 rows × 15 columns</p>\n",
       "</div>"
      ],
      "text/plain": [
       "       Age    Employment_Type  Weighting_Factor    Education  School_Period  \\\n",
       "0       39          State-gov             77516    Bachelors             13   \n",
       "1       50   Self-emp-not-inc             83311    Bachelors             13   \n",
       "2       38            Private            215646      HS-grad              9   \n",
       "3       53            Private            234721         11th              7   \n",
       "4       28            Private            338409    Bachelors             13   \n",
       "...    ...                ...               ...          ...            ...   \n",
       "32556   27            Private            257302   Assoc-acdm             12   \n",
       "32557   40            Private            154374      HS-grad              9   \n",
       "32558   58            Private            151910      HS-grad              9   \n",
       "32559   22            Private            201490      HS-grad              9   \n",
       "32560   52       Self-emp-inc            287927      HS-grad              9   \n",
       "\n",
       "            Marital_Status     Employment_Area     Partnership Ethnicity  \\\n",
       "0            Never-married        Adm-clerical   Not-in-family     White   \n",
       "1       Married-civ-spouse     Exec-managerial         Husband     White   \n",
       "2                 Divorced   Handlers-cleaners   Not-in-family     White   \n",
       "3       Married-civ-spouse   Handlers-cleaners         Husband     Black   \n",
       "4       Married-civ-spouse      Prof-specialty            Wife     Black   \n",
       "...                    ...                 ...             ...       ...   \n",
       "32556   Married-civ-spouse        Tech-support            Wife     White   \n",
       "32557   Married-civ-spouse   Machine-op-inspct         Husband     White   \n",
       "32558              Widowed        Adm-clerical       Unmarried     White   \n",
       "32559        Never-married        Adm-clerical       Own-child     White   \n",
       "32560   Married-civ-spouse     Exec-managerial            Wife     White   \n",
       "\n",
       "        Gender  Gain_Financial  Losses_Financial  Weekly_Working_Time  \\\n",
       "0         Male            2174                 0                   40   \n",
       "1         Male               0                 0                   13   \n",
       "2         Male               0                 0                   40   \n",
       "3         Male               0                 0                   40   \n",
       "4       Female               0                 0                   40   \n",
       "...        ...             ...               ...                  ...   \n",
       "32556   Female               0                 0                   38   \n",
       "32557     Male               0                 0                   40   \n",
       "32558   Female               0                 0                   40   \n",
       "32559     Male               0                 0                   20   \n",
       "32560   Female           15024                 0                   40   \n",
       "\n",
       "        Birth_Country  Income  \n",
       "0       United-States   <=50K  \n",
       "1       United-States   <=50K  \n",
       "2       United-States   <=50K  \n",
       "3       United-States   <=50K  \n",
       "4                Cuba   <=50K  \n",
       "...               ...     ...  \n",
       "32556   United-States   <=50K  \n",
       "32557   United-States    >50K  \n",
       "32558   United-States   <=50K  \n",
       "32559   United-States   <=50K  \n",
       "32560   United-States    >50K  \n",
       "\n",
       "[32561 rows x 15 columns]"
      ]
     },
     "execution_count": 4,
     "metadata": {},
     "output_type": "execute_result"
    }
   ],
   "source": [
    "df.columns = column_names\n",
    "df"
   ]
  },
  {
   "cell_type": "code",
   "execution_count": 5,
   "id": "484d2e36",
   "metadata": {},
   "outputs": [],
   "source": [
    "df.to_csv('dataset_with_column_names.csv', index=False)"
   ]
  },
  {
   "cell_type": "code",
   "execution_count": 6,
   "id": "3b37fa5c",
   "metadata": {},
   "outputs": [
    {
     "data": {
      "text/html": [
       "<div>\n",
       "<style scoped>\n",
       "    .dataframe tbody tr th:only-of-type {\n",
       "        vertical-align: middle;\n",
       "    }\n",
       "\n",
       "    .dataframe tbody tr th {\n",
       "        vertical-align: top;\n",
       "    }\n",
       "\n",
       "    .dataframe thead th {\n",
       "        text-align: right;\n",
       "    }\n",
       "</style>\n",
       "<table border=\"1\" class=\"dataframe\">\n",
       "  <thead>\n",
       "    <tr style=\"text-align: right;\">\n",
       "      <th></th>\n",
       "      <th>Age</th>\n",
       "      <th>Employment_Type</th>\n",
       "      <th>Weighting_Factor</th>\n",
       "      <th>Education</th>\n",
       "      <th>School_Period</th>\n",
       "      <th>Marital_Status</th>\n",
       "      <th>Employment_Area</th>\n",
       "      <th>Partnership</th>\n",
       "      <th>Ethnicity</th>\n",
       "      <th>Gender</th>\n",
       "      <th>Gain_Financial</th>\n",
       "      <th>Losses_Financial</th>\n",
       "      <th>Weekly_Working_Time</th>\n",
       "      <th>Birth_Country</th>\n",
       "      <th>Income</th>\n",
       "    </tr>\n",
       "  </thead>\n",
       "  <tbody>\n",
       "    <tr>\n",
       "      <th>0</th>\n",
       "      <td>39</td>\n",
       "      <td>State-gov</td>\n",
       "      <td>77516</td>\n",
       "      <td>Bachelors</td>\n",
       "      <td>13</td>\n",
       "      <td>Never-married</td>\n",
       "      <td>Adm-clerical</td>\n",
       "      <td>Not-in-family</td>\n",
       "      <td>White</td>\n",
       "      <td>Male</td>\n",
       "      <td>2174</td>\n",
       "      <td>0</td>\n",
       "      <td>40</td>\n",
       "      <td>United-States</td>\n",
       "      <td>&lt;=50K</td>\n",
       "    </tr>\n",
       "    <tr>\n",
       "      <th>1</th>\n",
       "      <td>50</td>\n",
       "      <td>Self-emp-not-inc</td>\n",
       "      <td>83311</td>\n",
       "      <td>Bachelors</td>\n",
       "      <td>13</td>\n",
       "      <td>Married-civ-spouse</td>\n",
       "      <td>Exec-managerial</td>\n",
       "      <td>Husband</td>\n",
       "      <td>White</td>\n",
       "      <td>Male</td>\n",
       "      <td>0</td>\n",
       "      <td>0</td>\n",
       "      <td>13</td>\n",
       "      <td>United-States</td>\n",
       "      <td>&lt;=50K</td>\n",
       "    </tr>\n",
       "    <tr>\n",
       "      <th>2</th>\n",
       "      <td>38</td>\n",
       "      <td>Private</td>\n",
       "      <td>215646</td>\n",
       "      <td>HS-grad</td>\n",
       "      <td>9</td>\n",
       "      <td>Divorced</td>\n",
       "      <td>Handlers-cleaners</td>\n",
       "      <td>Not-in-family</td>\n",
       "      <td>White</td>\n",
       "      <td>Male</td>\n",
       "      <td>0</td>\n",
       "      <td>0</td>\n",
       "      <td>40</td>\n",
       "      <td>United-States</td>\n",
       "      <td>&lt;=50K</td>\n",
       "    </tr>\n",
       "    <tr>\n",
       "      <th>3</th>\n",
       "      <td>53</td>\n",
       "      <td>Private</td>\n",
       "      <td>234721</td>\n",
       "      <td>11th</td>\n",
       "      <td>7</td>\n",
       "      <td>Married-civ-spouse</td>\n",
       "      <td>Handlers-cleaners</td>\n",
       "      <td>Husband</td>\n",
       "      <td>Black</td>\n",
       "      <td>Male</td>\n",
       "      <td>0</td>\n",
       "      <td>0</td>\n",
       "      <td>40</td>\n",
       "      <td>United-States</td>\n",
       "      <td>&lt;=50K</td>\n",
       "    </tr>\n",
       "    <tr>\n",
       "      <th>4</th>\n",
       "      <td>28</td>\n",
       "      <td>Private</td>\n",
       "      <td>338409</td>\n",
       "      <td>Bachelors</td>\n",
       "      <td>13</td>\n",
       "      <td>Married-civ-spouse</td>\n",
       "      <td>Prof-specialty</td>\n",
       "      <td>Wife</td>\n",
       "      <td>Black</td>\n",
       "      <td>Female</td>\n",
       "      <td>0</td>\n",
       "      <td>0</td>\n",
       "      <td>40</td>\n",
       "      <td>Cuba</td>\n",
       "      <td>&lt;=50K</td>\n",
       "    </tr>\n",
       "    <tr>\n",
       "      <th>...</th>\n",
       "      <td>...</td>\n",
       "      <td>...</td>\n",
       "      <td>...</td>\n",
       "      <td>...</td>\n",
       "      <td>...</td>\n",
       "      <td>...</td>\n",
       "      <td>...</td>\n",
       "      <td>...</td>\n",
       "      <td>...</td>\n",
       "      <td>...</td>\n",
       "      <td>...</td>\n",
       "      <td>...</td>\n",
       "      <td>...</td>\n",
       "      <td>...</td>\n",
       "      <td>...</td>\n",
       "    </tr>\n",
       "    <tr>\n",
       "      <th>32556</th>\n",
       "      <td>27</td>\n",
       "      <td>Private</td>\n",
       "      <td>257302</td>\n",
       "      <td>Assoc-acdm</td>\n",
       "      <td>12</td>\n",
       "      <td>Married-civ-spouse</td>\n",
       "      <td>Tech-support</td>\n",
       "      <td>Wife</td>\n",
       "      <td>White</td>\n",
       "      <td>Female</td>\n",
       "      <td>0</td>\n",
       "      <td>0</td>\n",
       "      <td>38</td>\n",
       "      <td>United-States</td>\n",
       "      <td>&lt;=50K</td>\n",
       "    </tr>\n",
       "    <tr>\n",
       "      <th>32557</th>\n",
       "      <td>40</td>\n",
       "      <td>Private</td>\n",
       "      <td>154374</td>\n",
       "      <td>HS-grad</td>\n",
       "      <td>9</td>\n",
       "      <td>Married-civ-spouse</td>\n",
       "      <td>Machine-op-inspct</td>\n",
       "      <td>Husband</td>\n",
       "      <td>White</td>\n",
       "      <td>Male</td>\n",
       "      <td>0</td>\n",
       "      <td>0</td>\n",
       "      <td>40</td>\n",
       "      <td>United-States</td>\n",
       "      <td>&gt;50K</td>\n",
       "    </tr>\n",
       "    <tr>\n",
       "      <th>32558</th>\n",
       "      <td>58</td>\n",
       "      <td>Private</td>\n",
       "      <td>151910</td>\n",
       "      <td>HS-grad</td>\n",
       "      <td>9</td>\n",
       "      <td>Widowed</td>\n",
       "      <td>Adm-clerical</td>\n",
       "      <td>Unmarried</td>\n",
       "      <td>White</td>\n",
       "      <td>Female</td>\n",
       "      <td>0</td>\n",
       "      <td>0</td>\n",
       "      <td>40</td>\n",
       "      <td>United-States</td>\n",
       "      <td>&lt;=50K</td>\n",
       "    </tr>\n",
       "    <tr>\n",
       "      <th>32559</th>\n",
       "      <td>22</td>\n",
       "      <td>Private</td>\n",
       "      <td>201490</td>\n",
       "      <td>HS-grad</td>\n",
       "      <td>9</td>\n",
       "      <td>Never-married</td>\n",
       "      <td>Adm-clerical</td>\n",
       "      <td>Own-child</td>\n",
       "      <td>White</td>\n",
       "      <td>Male</td>\n",
       "      <td>0</td>\n",
       "      <td>0</td>\n",
       "      <td>20</td>\n",
       "      <td>United-States</td>\n",
       "      <td>&lt;=50K</td>\n",
       "    </tr>\n",
       "    <tr>\n",
       "      <th>32560</th>\n",
       "      <td>52</td>\n",
       "      <td>Self-emp-inc</td>\n",
       "      <td>287927</td>\n",
       "      <td>HS-grad</td>\n",
       "      <td>9</td>\n",
       "      <td>Married-civ-spouse</td>\n",
       "      <td>Exec-managerial</td>\n",
       "      <td>Wife</td>\n",
       "      <td>White</td>\n",
       "      <td>Female</td>\n",
       "      <td>15024</td>\n",
       "      <td>0</td>\n",
       "      <td>40</td>\n",
       "      <td>United-States</td>\n",
       "      <td>&gt;50K</td>\n",
       "    </tr>\n",
       "  </tbody>\n",
       "</table>\n",
       "<p>32561 rows × 15 columns</p>\n",
       "</div>"
      ],
      "text/plain": [
       "       Age    Employment_Type  Weighting_Factor    Education  School_Period  \\\n",
       "0       39          State-gov             77516    Bachelors             13   \n",
       "1       50   Self-emp-not-inc             83311    Bachelors             13   \n",
       "2       38            Private            215646      HS-grad              9   \n",
       "3       53            Private            234721         11th              7   \n",
       "4       28            Private            338409    Bachelors             13   \n",
       "...    ...                ...               ...          ...            ...   \n",
       "32556   27            Private            257302   Assoc-acdm             12   \n",
       "32557   40            Private            154374      HS-grad              9   \n",
       "32558   58            Private            151910      HS-grad              9   \n",
       "32559   22            Private            201490      HS-grad              9   \n",
       "32560   52       Self-emp-inc            287927      HS-grad              9   \n",
       "\n",
       "            Marital_Status     Employment_Area     Partnership Ethnicity  \\\n",
       "0            Never-married        Adm-clerical   Not-in-family     White   \n",
       "1       Married-civ-spouse     Exec-managerial         Husband     White   \n",
       "2                 Divorced   Handlers-cleaners   Not-in-family     White   \n",
       "3       Married-civ-spouse   Handlers-cleaners         Husband     Black   \n",
       "4       Married-civ-spouse      Prof-specialty            Wife     Black   \n",
       "...                    ...                 ...             ...       ...   \n",
       "32556   Married-civ-spouse        Tech-support            Wife     White   \n",
       "32557   Married-civ-spouse   Machine-op-inspct         Husband     White   \n",
       "32558              Widowed        Adm-clerical       Unmarried     White   \n",
       "32559        Never-married        Adm-clerical       Own-child     White   \n",
       "32560   Married-civ-spouse     Exec-managerial            Wife     White   \n",
       "\n",
       "        Gender  Gain_Financial  Losses_Financial  Weekly_Working_Time  \\\n",
       "0         Male            2174                 0                   40   \n",
       "1         Male               0                 0                   13   \n",
       "2         Male               0                 0                   40   \n",
       "3         Male               0                 0                   40   \n",
       "4       Female               0                 0                   40   \n",
       "...        ...             ...               ...                  ...   \n",
       "32556   Female               0                 0                   38   \n",
       "32557     Male               0                 0                   40   \n",
       "32558   Female               0                 0                   40   \n",
       "32559     Male               0                 0                   20   \n",
       "32560   Female           15024                 0                   40   \n",
       "\n",
       "        Birth_Country  Income  \n",
       "0       United-States   <=50K  \n",
       "1       United-States   <=50K  \n",
       "2       United-States   <=50K  \n",
       "3       United-States   <=50K  \n",
       "4                Cuba   <=50K  \n",
       "...               ...     ...  \n",
       "32556   United-States   <=50K  \n",
       "32557   United-States    >50K  \n",
       "32558   United-States   <=50K  \n",
       "32559   United-States   <=50K  \n",
       "32560   United-States    >50K  \n",
       "\n",
       "[32561 rows x 15 columns]"
      ]
     },
     "execution_count": 6,
     "metadata": {},
     "output_type": "execute_result"
    }
   ],
   "source": [
    "df1 = pd.read_csv('C:/Users/MSI KATANA/Desktop/practice ML/machine L cw 2024/Machine-Learning-CW/dataset_with_column_names.csv')\n",
    "df1"
   ]
  },
  {
   "cell_type": "code",
   "execution_count": 7,
   "id": "736e5961",
   "metadata": {},
   "outputs": [],
   "source": [
    "# checking for the missing values"
   ]
  },
  {
   "cell_type": "code",
   "execution_count": 8,
   "id": "ba3f6ae5",
   "metadata": {},
   "outputs": [],
   "source": [
    "missing_values = df1.isnull()\n",
    "# taking the count\n",
    "missing_counts = missing_values.sum()"
   ]
  },
  {
   "cell_type": "code",
   "execution_count": 9,
   "id": "14aba3ba",
   "metadata": {},
   "outputs": [
    {
     "name": "stdout",
     "output_type": "stream",
     "text": [
      "Missing Values:\n",
      "Age                    0\n",
      "Employment_Type        0\n",
      "Weighting_Factor       0\n",
      "Education              0\n",
      "School_Period          0\n",
      "Marital_Status         0\n",
      "Employment_Area        0\n",
      "Partnership            0\n",
      "Ethnicity              0\n",
      "Gender                 0\n",
      "Gain_Financial         0\n",
      "Losses_Financial       0\n",
      "Weekly_Working_Time    0\n",
      "Birth_Country          0\n",
      "Income                 0\n",
      "dtype: int64\n"
     ]
    }
   ],
   "source": [
    "print(\"Missing Values:\")\n",
    "print(missing_counts)"
   ]
  },
  {
   "cell_type": "code",
   "execution_count": 10,
   "id": "7470cea2",
   "metadata": {},
   "outputs": [
    {
     "name": "stdout",
     "output_type": "stream",
     "text": [
      "\n",
      "Summary of Missing Values and Data Types:\n",
      "<class 'pandas.core.frame.DataFrame'>\n",
      "RangeIndex: 32561 entries, 0 to 32560\n",
      "Data columns (total 15 columns):\n",
      " #   Column               Non-Null Count  Dtype \n",
      "---  ------               --------------  ----- \n",
      " 0   Age                  32561 non-null  int64 \n",
      " 1   Employment_Type      32561 non-null  object\n",
      " 2   Weighting_Factor     32561 non-null  int64 \n",
      " 3   Education            32561 non-null  object\n",
      " 4   School_Period        32561 non-null  int64 \n",
      " 5   Marital_Status       32561 non-null  object\n",
      " 6   Employment_Area      32561 non-null  object\n",
      " 7   Partnership          32561 non-null  object\n",
      " 8   Ethnicity            32561 non-null  object\n",
      " 9   Gender               32561 non-null  object\n",
      " 10  Gain_Financial       32561 non-null  int64 \n",
      " 11  Losses_Financial     32561 non-null  int64 \n",
      " 12  Weekly_Working_Time  32561 non-null  int64 \n",
      " 13  Birth_Country        32561 non-null  object\n",
      " 14  Income               32561 non-null  object\n",
      "dtypes: int64(6), object(9)\n",
      "memory usage: 3.7+ MB\n",
      "None\n"
     ]
    }
   ],
   "source": [
    "print(\"\\nSummary of Missing Values and Data Types:\")\n",
    "print(df.info())"
   ]
  },
  {
   "cell_type": "code",
   "execution_count": 11,
   "id": "74a0905f",
   "metadata": {},
   "outputs": [],
   "source": [
    "# cheking for unique values"
   ]
  },
  {
   "cell_type": "code",
   "execution_count": 12,
   "id": "e3963332",
   "metadata": {},
   "outputs": [
    {
     "data": {
      "text/plain": [
       "array([39, 50, 38, 53, 28, 37, 49, 52, 31, 42, 30, 23, 32, 40, 34, 25, 43,\n",
       "       54, 35, 59, 56, 19, 20, 45, 22, 48, 21, 24, 57, 44, 41, 29, 18, 47,\n",
       "       46, 36, 79, 27, 67, 33, 76, 17, 55, 61, 70, 64, 71, 68, 66, 51, 58,\n",
       "       26, 60, 90, 75, 65, 77, 62, 63, 80, 72, 74, 69, 73, 81, 78, 88, 82,\n",
       "       83, 84, 85, 86, 87], dtype=int64)"
      ]
     },
     "execution_count": 12,
     "metadata": {},
     "output_type": "execute_result"
    }
   ],
   "source": [
    "df1['Age'].unique()\n",
    "# here i considerd people over 18 years are adults"
   ]
  },
  {
   "cell_type": "code",
   "execution_count": 13,
   "id": "fc722f49",
   "metadata": {},
   "outputs": [],
   "source": [
    "# List of values to remove\n",
    "values_to_remove = [17]\n",
    "\n",
    "# Filter the DataFrame to exclude rows with specified values\n",
    "df1 = df1[~df1['Age'].isin(values_to_remove)]\n"
   ]
  },
  {
   "cell_type": "code",
   "execution_count": 14,
   "id": "92067a0b",
   "metadata": {},
   "outputs": [
    {
     "data": {
      "text/plain": [
       "array([39, 50, 38, 53, 28, 37, 49, 52, 31, 42, 30, 23, 32, 40, 34, 25, 43,\n",
       "       54, 35, 59, 56, 19, 20, 45, 22, 48, 21, 24, 57, 44, 41, 29, 18, 47,\n",
       "       46, 36, 79, 27, 67, 33, 76, 55, 61, 70, 64, 71, 68, 66, 51, 58, 26,\n",
       "       60, 90, 75, 65, 77, 62, 63, 80, 72, 74, 69, 73, 81, 78, 88, 82, 83,\n",
       "       84, 85, 86, 87], dtype=int64)"
      ]
     },
     "execution_count": 14,
     "metadata": {},
     "output_type": "execute_result"
    }
   ],
   "source": [
    "df1['Age'].unique()"
   ]
  },
  {
   "cell_type": "code",
   "execution_count": 15,
   "id": "13f2b829",
   "metadata": {},
   "outputs": [
    {
     "data": {
      "text/plain": [
       "array([' State-gov', ' Self-emp-not-inc', ' Private', ' Federal-gov',\n",
       "       ' Local-gov', ' ?', ' Self-emp-inc', ' Without-pay',\n",
       "       ' Never-worked'], dtype=object)"
      ]
     },
     "execution_count": 15,
     "metadata": {},
     "output_type": "execute_result"
    }
   ],
   "source": [
    "df1['Employment_Type'].unique()"
   ]
  },
  {
   "cell_type": "code",
   "execution_count": 16,
   "id": "3c9784ba",
   "metadata": {},
   "outputs": [],
   "source": [
    "# List of values to remove\n",
    "values_to_remove = [' ?']\n",
    "\n",
    "# Filter the DataFrame to exclude rows with specified values\n",
    "df1 = df1[~df1['Employment_Type'].isin(values_to_remove)]\n"
   ]
  },
  {
   "cell_type": "code",
   "execution_count": 17,
   "id": "2aa8043d",
   "metadata": {},
   "outputs": [
    {
     "data": {
      "text/plain": [
       "array([' State-gov', ' Self-emp-not-inc', ' Private', ' Federal-gov',\n",
       "       ' Local-gov', ' Self-emp-inc', ' Without-pay', ' Never-worked'],\n",
       "      dtype=object)"
      ]
     },
     "execution_count": 17,
     "metadata": {},
     "output_type": "execute_result"
    }
   ],
   "source": [
    "df1['Employment_Type'].unique()"
   ]
  },
  {
   "cell_type": "code",
   "execution_count": 18,
   "id": "61044ba1",
   "metadata": {},
   "outputs": [
    {
     "data": {
      "text/plain": [
       "array([ 77516,  83311, 215646, ...,  84661, 257302, 201490], dtype=int64)"
      ]
     },
     "execution_count": 18,
     "metadata": {},
     "output_type": "execute_result"
    }
   ],
   "source": [
    "df1['Weighting_Factor'].unique()"
   ]
  },
  {
   "cell_type": "code",
   "execution_count": 19,
   "id": "42b2be75",
   "metadata": {},
   "outputs": [
    {
     "name": "stdout",
     "output_type": "stream",
     "text": [
      "Number of unique values in 'Weighting_Factor' column: 20199\n"
     ]
    }
   ],
   "source": [
    "# Count the number of unique values in the 'Weighting_Factor' column\n",
    "unique_count = df1['Weighting_Factor'].nunique()\n",
    "\n",
    "# Print the number of unique values\n",
    "print(\"Number of unique values in 'Weighting_Factor' column:\", unique_count)\n"
   ]
  },
  {
   "cell_type": "code",
   "execution_count": 20,
   "id": "042de864",
   "metadata": {},
   "outputs": [],
   "source": [
    "# check the unwanted values of above column"
   ]
  },
  {
   "cell_type": "code",
   "execution_count": 21,
   "id": "6fc4854c",
   "metadata": {},
   "outputs": [
    {
     "data": {
      "text/plain": [
       "array([' Bachelors', ' HS-grad', ' 11th', ' Masters', ' 9th',\n",
       "       ' Some-college', ' Assoc-acdm', ' Assoc-voc', ' 7th-8th',\n",
       "       ' Doctorate', ' Prof-school', ' 5th-6th', ' 10th', ' Preschool',\n",
       "       ' 12th', ' 1st-4th'], dtype=object)"
      ]
     },
     "execution_count": 21,
     "metadata": {},
     "output_type": "execute_result"
    }
   ],
   "source": [
    "df1['Education'].unique()"
   ]
  },
  {
   "cell_type": "code",
   "execution_count": 22,
   "id": "6051f1ea",
   "metadata": {},
   "outputs": [],
   "source": [
    "# here looks like no unwanted features"
   ]
  },
  {
   "cell_type": "code",
   "execution_count": 23,
   "id": "116b0eb6",
   "metadata": {},
   "outputs": [
    {
     "data": {
      "text/plain": [
       "array([13,  9,  7, 14,  5, 10, 12, 11,  4, 16, 15,  3,  6,  1,  8,  2],\n",
       "      dtype=int64)"
      ]
     },
     "execution_count": 23,
     "metadata": {},
     "output_type": "execute_result"
    }
   ],
   "source": [
    "df1['School_Period'].unique()"
   ]
  },
  {
   "cell_type": "code",
   "execution_count": 24,
   "id": "2296210f",
   "metadata": {},
   "outputs": [],
   "source": [
    "# here looks like no unwanted features"
   ]
  },
  {
   "cell_type": "code",
   "execution_count": 25,
   "id": "27208a17",
   "metadata": {},
   "outputs": [
    {
     "data": {
      "text/plain": [
       "array([' Never-married', ' Married-civ-spouse', ' Divorced',\n",
       "       ' Married-spouse-absent', ' Separated', ' Married-AF-spouse',\n",
       "       ' Widowed'], dtype=object)"
      ]
     },
     "execution_count": 25,
     "metadata": {},
     "output_type": "execute_result"
    }
   ],
   "source": [
    "df1['Marital_Status'].unique()"
   ]
  },
  {
   "cell_type": "code",
   "execution_count": 26,
   "id": "553ff567",
   "metadata": {},
   "outputs": [],
   "source": [
    "# Married-spouse-absent means legally married but their spouse is not currently living with them"
   ]
  },
  {
   "cell_type": "code",
   "execution_count": 27,
   "id": "c7a8b158",
   "metadata": {},
   "outputs": [],
   "source": [
    "# here looks like no unwanted features"
   ]
  },
  {
   "cell_type": "code",
   "execution_count": 28,
   "id": "9c467224",
   "metadata": {},
   "outputs": [
    {
     "data": {
      "text/plain": [
       "array([' Adm-clerical', ' Exec-managerial', ' Handlers-cleaners',\n",
       "       ' Prof-specialty', ' Other-service', ' Sales', ' Craft-repair',\n",
       "       ' Transport-moving', ' Farming-fishing', ' Machine-op-inspct',\n",
       "       ' Tech-support', ' Protective-serv', ' Armed-Forces',\n",
       "       ' Priv-house-serv', ' ?'], dtype=object)"
      ]
     },
     "execution_count": 28,
     "metadata": {},
     "output_type": "execute_result"
    }
   ],
   "source": [
    "df1['Employment_Area'].unique()"
   ]
  },
  {
   "cell_type": "code",
   "execution_count": 29,
   "id": "fda11aec",
   "metadata": {},
   "outputs": [],
   "source": [
    "# List of values to remove\n",
    "values_to_remove = [' ?']\n",
    "\n",
    "# Filter the DataFrame to exclude rows with specified values\n",
    "df1 = df1[~df1['Employment_Area'].isin(values_to_remove)]\n"
   ]
  },
  {
   "cell_type": "code",
   "execution_count": 30,
   "id": "9182cc5f",
   "metadata": {},
   "outputs": [
    {
     "data": {
      "text/plain": [
       "array([' Adm-clerical', ' Exec-managerial', ' Handlers-cleaners',\n",
       "       ' Prof-specialty', ' Other-service', ' Sales', ' Craft-repair',\n",
       "       ' Transport-moving', ' Farming-fishing', ' Machine-op-inspct',\n",
       "       ' Tech-support', ' Protective-serv', ' Armed-Forces',\n",
       "       ' Priv-house-serv'], dtype=object)"
      ]
     },
     "execution_count": 30,
     "metadata": {},
     "output_type": "execute_result"
    }
   ],
   "source": [
    "df1['Employment_Area'].unique()"
   ]
  },
  {
   "cell_type": "code",
   "execution_count": 31,
   "id": "e477f34f",
   "metadata": {},
   "outputs": [
    {
     "data": {
      "text/plain": [
       "array([' Not-in-family', ' Husband', ' Wife', ' Own-child', ' Unmarried',\n",
       "       ' Other-relative'], dtype=object)"
      ]
     },
     "execution_count": 31,
     "metadata": {},
     "output_type": "execute_result"
    }
   ],
   "source": [
    "df1['Partnership'].unique()"
   ]
  },
  {
   "cell_type": "code",
   "execution_count": 32,
   "id": "902a2e92",
   "metadata": {},
   "outputs": [],
   "source": [
    "# here looks like no unwanted features"
   ]
  },
  {
   "cell_type": "code",
   "execution_count": 33,
   "id": "46bb410d",
   "metadata": {},
   "outputs": [
    {
     "data": {
      "text/plain": [
       "array([' White', ' Black', ' Asian-Pac-Islander', ' Amer-Indian-Eskimo',\n",
       "       ' Other'], dtype=object)"
      ]
     },
     "execution_count": 33,
     "metadata": {},
     "output_type": "execute_result"
    }
   ],
   "source": [
    "df1['Ethnicity'].unique()"
   ]
  },
  {
   "cell_type": "code",
   "execution_count": 34,
   "id": "0c2dc167",
   "metadata": {},
   "outputs": [],
   "source": [
    "# here looks like no unwanted features"
   ]
  },
  {
   "cell_type": "code",
   "execution_count": 35,
   "id": "d5cfdfa0",
   "metadata": {},
   "outputs": [
    {
     "data": {
      "text/plain": [
       "array([' Male', ' Female'], dtype=object)"
      ]
     },
     "execution_count": 35,
     "metadata": {},
     "output_type": "execute_result"
    }
   ],
   "source": [
    "df1['Gender'].unique()  "
   ]
  },
  {
   "cell_type": "code",
   "execution_count": 36,
   "id": "c61446b7",
   "metadata": {},
   "outputs": [],
   "source": [
    "# here looks like no unwanted features"
   ]
  },
  {
   "cell_type": "code",
   "execution_count": 37,
   "id": "c8500548",
   "metadata": {},
   "outputs": [
    {
     "data": {
      "text/plain": [
       "array([ 2174,     0, 14084,  5178,  5013,  2407, 14344, 15024,  7688,\n",
       "        4064,  4386,  7298,  1409,  3674,  2050,   594, 20051,  6849,\n",
       "        1055,  4101,  8614,  3411,  2597, 25236,  4650,  9386,  2463,\n",
       "        3103, 10605,  2964,  3325,  2580,  3471,  4865, 99999,  6514,\n",
       "        1471,  2329,  2105,  2885, 10520,  2202,  2961, 27828,  6767,\n",
       "        2228,  1506, 13550,  2635,  5556,  4787,  3781,  3137,  3818,\n",
       "         914,   401,  2829,  2977,  4934,  2062,  2354,  3464,  5455,\n",
       "       15020,  1424,  3273, 22040,  4416, 10566,  4931,  7430, 34095,\n",
       "        6497,  3908,   114,  7896,  2346,  2907,  1151,  2414,  2290,\n",
       "        3418, 15831, 41310,  4508,  2538,  3456,  1848,  3887,  5721,\n",
       "        9562,  6418,  1455,  2036,  3942,  1831,  2176, 11678,  2936,\n",
       "        2993,  7443,  6360,  4687,  1797,  6723,  2009,  3432,  6097,\n",
       "        1639,  2653, 18481, 25124,  7978,   991,  1173,  2387,  5060,\n",
       "        1086], dtype=int64)"
      ]
     },
     "execution_count": 37,
     "metadata": {},
     "output_type": "execute_result"
    }
   ],
   "source": [
    "df1['Gain_Financial'].unique()"
   ]
  },
  {
   "cell_type": "code",
   "execution_count": 38,
   "id": "3b057960",
   "metadata": {},
   "outputs": [
    {
     "data": {
      "text/plain": [
       "array([ 2174,     0, 14084,  5178,  5013,  2407, 14344, 15024,  7688,\n",
       "        4064,  4386,  7298,  1409,  3674,  2050,   594, 20051,  6849,\n",
       "        1055,  4101,  8614,  3411,  2597, 25236,  4650,  9386,  2463,\n",
       "        3103, 10605,  2964,  3325,  2580,  3471,  4865, 99999,  6514,\n",
       "        1471,  2329,  2105,  2885, 10520,  2202,  2961, 27828,  6767,\n",
       "        2228,  1506, 13550,  2635,  5556,  4787,  3781,  3137,  3818,\n",
       "         914,   401,  2829,  2977,  4934,  2062,  2354,  3464,  5455,\n",
       "       15020,  1424,  3273, 22040,  4416, 10566,  4931,  7430, 34095,\n",
       "        6497,  3908,   114,  7896,  2346,  2907,  1151,  2414,  2290,\n",
       "        3418, 15831, 41310,  4508,  2538,  3456,  1848,  3887,  5721,\n",
       "        9562,  6418,  1455,  2036,  3942,  1831,  2176, 11678,  2936,\n",
       "        2993,  7443,  6360,  4687,  1797,  6723,  2009,  3432,  6097,\n",
       "        1639,  2653, 18481, 25124,  7978,   991,  1173,  2387,  5060,\n",
       "        1086], dtype=int64)"
      ]
     },
     "execution_count": 38,
     "metadata": {},
     "output_type": "execute_result"
    }
   ],
   "source": [
    "df1['Gain_Financial'].unique() "
   ]
  },
  {
   "cell_type": "code",
   "execution_count": 39,
   "id": "88bc2537",
   "metadata": {},
   "outputs": [],
   "source": [
    "## need to consider with attribute and their aspect for further cleaning"
   ]
  },
  {
   "cell_type": "code",
   "execution_count": null,
   "id": "33fa9200",
   "metadata": {},
   "outputs": [],
   "source": []
  },
  {
   "cell_type": "code",
   "execution_count": 40,
   "id": "727a1378",
   "metadata": {},
   "outputs": [
    {
     "data": {
      "text/plain": [
       "array([   0, 2042, 1408, 1902, 1573, 1887, 1719, 1762, 1564, 2179, 1816,\n",
       "       1980, 1977, 1876, 1340, 2206, 1741, 1485, 2339, 2415, 1380, 1721,\n",
       "       2051, 2377, 1669, 2352, 1672,  653, 2392, 1504, 1590, 1651, 1628,\n",
       "       1848, 2001, 1740, 2002, 1579, 2258, 1602, 2547, 2205, 1726, 2444,\n",
       "       1138, 2238,  625,  213, 1539,  880, 1668, 1092, 1594, 3004, 2231,\n",
       "       1844,  810, 2824, 2559, 2057, 1974,  974, 2174, 2149, 1735, 1258,\n",
       "       2129, 2603, 2282,  323, 2246, 1617, 1648, 1825, 3770, 1755, 3683,\n",
       "       4356, 2267, 2080, 2457,  419,  155, 3900, 2201, 1944, 2467, 2754,\n",
       "       2472, 1411], dtype=int64)"
      ]
     },
     "execution_count": 40,
     "metadata": {},
     "output_type": "execute_result"
    }
   ],
   "source": [
    "df1['Losses_Financial'].unique() "
   ]
  },
  {
   "cell_type": "code",
   "execution_count": 41,
   "id": "64f4d5d7",
   "metadata": {},
   "outputs": [],
   "source": [
    "## need to consider with attribute and their aspect for further cleaning"
   ]
  },
  {
   "cell_type": "code",
   "execution_count": 42,
   "id": "2080a757",
   "metadata": {},
   "outputs": [
    {
     "data": {
      "text/plain": [
       "array([40, 13, 16, 45, 50, 80, 30, 35, 60, 20, 52, 44, 15, 25, 38, 43, 55,\n",
       "       48, 58, 32, 70, 22, 56, 41, 28, 36, 24, 46,  2, 42, 12, 65,  1, 34,\n",
       "       75, 98, 33, 54, 10,  6, 64, 19, 72,  8,  9, 47, 37, 26, 14,  5, 59,\n",
       "       18,  7, 99, 53, 39, 62, 57, 78, 90, 66, 11, 49, 84,  4, 68, 21,  3,\n",
       "       27, 85, 17, 31, 51, 77, 63, 23, 87, 88, 73, 89, 97, 94, 29, 96, 67,\n",
       "       82, 86, 91, 81, 76, 92, 61, 74, 95], dtype=int64)"
      ]
     },
     "execution_count": 42,
     "metadata": {},
     "output_type": "execute_result"
    }
   ],
   "source": [
    "df1['Weekly_Working_Time'].unique()"
   ]
  },
  {
   "cell_type": "code",
   "execution_count": 43,
   "id": "38b34c15",
   "metadata": {},
   "outputs": [],
   "source": [
    "# seems no error"
   ]
  },
  {
   "cell_type": "code",
   "execution_count": 44,
   "id": "1f7e26a4",
   "metadata": {},
   "outputs": [
    {
     "data": {
      "text/plain": [
       "array([' United-States', ' Cuba', ' Jamaica', ' India', ' ?', ' Mexico',\n",
       "       ' Puerto-Rico', ' Honduras', ' England', ' Canada', ' Germany',\n",
       "       ' Iran', ' Philippines', ' Poland', ' Columbia', ' Cambodia',\n",
       "       ' Thailand', ' Ecuador', ' Laos', ' Taiwan', ' Haiti', ' Portugal',\n",
       "       ' Dominican-Republic', ' El-Salvador', ' France', ' Guatemala',\n",
       "       ' Italy', ' China', ' South', ' Japan', ' Yugoslavia', ' Peru',\n",
       "       ' Outlying-US(Guam-USVI-etc)', ' Scotland', ' Trinadad&Tobago',\n",
       "       ' Greece', ' Nicaragua', ' Vietnam', ' Hong', ' Ireland',\n",
       "       ' Hungary', ' Holand-Netherlands'], dtype=object)"
      ]
     },
     "execution_count": 44,
     "metadata": {},
     "output_type": "execute_result"
    }
   ],
   "source": [
    "df1['Birth_Country'].unique()"
   ]
  },
  {
   "cell_type": "code",
   "execution_count": 45,
   "id": "be5b54b9",
   "metadata": {},
   "outputs": [],
   "source": [
    "# List of values to remove\n",
    "values_to_remove = [' ?']\n",
    "\n",
    "# Filter the DataFrame to exclude rows with specified values\n",
    "df1 = df1[~df1['Birth_Country'].isin(values_to_remove)]\n"
   ]
  },
  {
   "cell_type": "code",
   "execution_count": 46,
   "id": "44bba9ac",
   "metadata": {},
   "outputs": [
    {
     "data": {
      "text/plain": [
       "array([' United-States', ' Cuba', ' Jamaica', ' India', ' Mexico',\n",
       "       ' Puerto-Rico', ' Honduras', ' England', ' Canada', ' Germany',\n",
       "       ' Iran', ' Philippines', ' Poland', ' Columbia', ' Cambodia',\n",
       "       ' Thailand', ' Ecuador', ' Laos', ' Taiwan', ' Haiti', ' Portugal',\n",
       "       ' Dominican-Republic', ' El-Salvador', ' France', ' Guatemala',\n",
       "       ' Italy', ' China', ' South', ' Japan', ' Yugoslavia', ' Peru',\n",
       "       ' Outlying-US(Guam-USVI-etc)', ' Scotland', ' Trinadad&Tobago',\n",
       "       ' Greece', ' Nicaragua', ' Vietnam', ' Hong', ' Ireland',\n",
       "       ' Hungary', ' Holand-Netherlands'], dtype=object)"
      ]
     },
     "execution_count": 46,
     "metadata": {},
     "output_type": "execute_result"
    }
   ],
   "source": [
    "df1['Birth_Country'].unique()"
   ]
  },
  {
   "cell_type": "code",
   "execution_count": 47,
   "id": "c5f6a8e6",
   "metadata": {},
   "outputs": [
    {
     "data": {
      "text/plain": [
       "array([' <=50K', ' >50K'], dtype=object)"
      ]
     },
     "execution_count": 47,
     "metadata": {},
     "output_type": "execute_result"
    }
   ],
   "source": [
    "df1['Income'].unique()"
   ]
  },
  {
   "cell_type": "code",
   "execution_count": 48,
   "id": "4379e40b",
   "metadata": {},
   "outputs": [],
   "source": [
    "# seems no error"
   ]
  },
  {
   "cell_type": "code",
   "execution_count": 49,
   "id": "d55266fb",
   "metadata": {},
   "outputs": [
    {
     "data": {
      "text/html": [
       "<div>\n",
       "<style scoped>\n",
       "    .dataframe tbody tr th:only-of-type {\n",
       "        vertical-align: middle;\n",
       "    }\n",
       "\n",
       "    .dataframe tbody tr th {\n",
       "        vertical-align: top;\n",
       "    }\n",
       "\n",
       "    .dataframe thead th {\n",
       "        text-align: right;\n",
       "    }\n",
       "</style>\n",
       "<table border=\"1\" class=\"dataframe\">\n",
       "  <thead>\n",
       "    <tr style=\"text-align: right;\">\n",
       "      <th></th>\n",
       "      <th>Age</th>\n",
       "      <th>Employment_Type</th>\n",
       "      <th>Weighting_Factor</th>\n",
       "      <th>Education</th>\n",
       "      <th>School_Period</th>\n",
       "      <th>Marital_Status</th>\n",
       "      <th>Employment_Area</th>\n",
       "      <th>Partnership</th>\n",
       "      <th>Ethnicity</th>\n",
       "      <th>Gender</th>\n",
       "      <th>Gain_Financial</th>\n",
       "      <th>Losses_Financial</th>\n",
       "      <th>Weekly_Working_Time</th>\n",
       "      <th>Birth_Country</th>\n",
       "      <th>Income</th>\n",
       "    </tr>\n",
       "  </thead>\n",
       "  <tbody>\n",
       "    <tr>\n",
       "      <th>0</th>\n",
       "      <td>39</td>\n",
       "      <td>State-gov</td>\n",
       "      <td>77516</td>\n",
       "      <td>Bachelors</td>\n",
       "      <td>13</td>\n",
       "      <td>Never-married</td>\n",
       "      <td>Adm-clerical</td>\n",
       "      <td>Not-in-family</td>\n",
       "      <td>White</td>\n",
       "      <td>Male</td>\n",
       "      <td>2174</td>\n",
       "      <td>0</td>\n",
       "      <td>40</td>\n",
       "      <td>United-States</td>\n",
       "      <td>&lt;=50K</td>\n",
       "    </tr>\n",
       "    <tr>\n",
       "      <th>1</th>\n",
       "      <td>50</td>\n",
       "      <td>Self-emp-not-inc</td>\n",
       "      <td>83311</td>\n",
       "      <td>Bachelors</td>\n",
       "      <td>13</td>\n",
       "      <td>Married-civ-spouse</td>\n",
       "      <td>Exec-managerial</td>\n",
       "      <td>Husband</td>\n",
       "      <td>White</td>\n",
       "      <td>Male</td>\n",
       "      <td>0</td>\n",
       "      <td>0</td>\n",
       "      <td>13</td>\n",
       "      <td>United-States</td>\n",
       "      <td>&lt;=50K</td>\n",
       "    </tr>\n",
       "    <tr>\n",
       "      <th>2</th>\n",
       "      <td>38</td>\n",
       "      <td>Private</td>\n",
       "      <td>215646</td>\n",
       "      <td>HS-grad</td>\n",
       "      <td>9</td>\n",
       "      <td>Divorced</td>\n",
       "      <td>Handlers-cleaners</td>\n",
       "      <td>Not-in-family</td>\n",
       "      <td>White</td>\n",
       "      <td>Male</td>\n",
       "      <td>0</td>\n",
       "      <td>0</td>\n",
       "      <td>40</td>\n",
       "      <td>United-States</td>\n",
       "      <td>&lt;=50K</td>\n",
       "    </tr>\n",
       "    <tr>\n",
       "      <th>3</th>\n",
       "      <td>53</td>\n",
       "      <td>Private</td>\n",
       "      <td>234721</td>\n",
       "      <td>11th</td>\n",
       "      <td>7</td>\n",
       "      <td>Married-civ-spouse</td>\n",
       "      <td>Handlers-cleaners</td>\n",
       "      <td>Husband</td>\n",
       "      <td>Black</td>\n",
       "      <td>Male</td>\n",
       "      <td>0</td>\n",
       "      <td>0</td>\n",
       "      <td>40</td>\n",
       "      <td>United-States</td>\n",
       "      <td>&lt;=50K</td>\n",
       "    </tr>\n",
       "    <tr>\n",
       "      <th>4</th>\n",
       "      <td>28</td>\n",
       "      <td>Private</td>\n",
       "      <td>338409</td>\n",
       "      <td>Bachelors</td>\n",
       "      <td>13</td>\n",
       "      <td>Married-civ-spouse</td>\n",
       "      <td>Prof-specialty</td>\n",
       "      <td>Wife</td>\n",
       "      <td>Black</td>\n",
       "      <td>Female</td>\n",
       "      <td>0</td>\n",
       "      <td>0</td>\n",
       "      <td>40</td>\n",
       "      <td>Cuba</td>\n",
       "      <td>&lt;=50K</td>\n",
       "    </tr>\n",
       "    <tr>\n",
       "      <th>...</th>\n",
       "      <td>...</td>\n",
       "      <td>...</td>\n",
       "      <td>...</td>\n",
       "      <td>...</td>\n",
       "      <td>...</td>\n",
       "      <td>...</td>\n",
       "      <td>...</td>\n",
       "      <td>...</td>\n",
       "      <td>...</td>\n",
       "      <td>...</td>\n",
       "      <td>...</td>\n",
       "      <td>...</td>\n",
       "      <td>...</td>\n",
       "      <td>...</td>\n",
       "      <td>...</td>\n",
       "    </tr>\n",
       "    <tr>\n",
       "      <th>32556</th>\n",
       "      <td>27</td>\n",
       "      <td>Private</td>\n",
       "      <td>257302</td>\n",
       "      <td>Assoc-acdm</td>\n",
       "      <td>12</td>\n",
       "      <td>Married-civ-spouse</td>\n",
       "      <td>Tech-support</td>\n",
       "      <td>Wife</td>\n",
       "      <td>White</td>\n",
       "      <td>Female</td>\n",
       "      <td>0</td>\n",
       "      <td>0</td>\n",
       "      <td>38</td>\n",
       "      <td>United-States</td>\n",
       "      <td>&lt;=50K</td>\n",
       "    </tr>\n",
       "    <tr>\n",
       "      <th>32557</th>\n",
       "      <td>40</td>\n",
       "      <td>Private</td>\n",
       "      <td>154374</td>\n",
       "      <td>HS-grad</td>\n",
       "      <td>9</td>\n",
       "      <td>Married-civ-spouse</td>\n",
       "      <td>Machine-op-inspct</td>\n",
       "      <td>Husband</td>\n",
       "      <td>White</td>\n",
       "      <td>Male</td>\n",
       "      <td>0</td>\n",
       "      <td>0</td>\n",
       "      <td>40</td>\n",
       "      <td>United-States</td>\n",
       "      <td>&gt;50K</td>\n",
       "    </tr>\n",
       "    <tr>\n",
       "      <th>32558</th>\n",
       "      <td>58</td>\n",
       "      <td>Private</td>\n",
       "      <td>151910</td>\n",
       "      <td>HS-grad</td>\n",
       "      <td>9</td>\n",
       "      <td>Widowed</td>\n",
       "      <td>Adm-clerical</td>\n",
       "      <td>Unmarried</td>\n",
       "      <td>White</td>\n",
       "      <td>Female</td>\n",
       "      <td>0</td>\n",
       "      <td>0</td>\n",
       "      <td>40</td>\n",
       "      <td>United-States</td>\n",
       "      <td>&lt;=50K</td>\n",
       "    </tr>\n",
       "    <tr>\n",
       "      <th>32559</th>\n",
       "      <td>22</td>\n",
       "      <td>Private</td>\n",
       "      <td>201490</td>\n",
       "      <td>HS-grad</td>\n",
       "      <td>9</td>\n",
       "      <td>Never-married</td>\n",
       "      <td>Adm-clerical</td>\n",
       "      <td>Own-child</td>\n",
       "      <td>White</td>\n",
       "      <td>Male</td>\n",
       "      <td>0</td>\n",
       "      <td>0</td>\n",
       "      <td>20</td>\n",
       "      <td>United-States</td>\n",
       "      <td>&lt;=50K</td>\n",
       "    </tr>\n",
       "    <tr>\n",
       "      <th>32560</th>\n",
       "      <td>52</td>\n",
       "      <td>Self-emp-inc</td>\n",
       "      <td>287927</td>\n",
       "      <td>HS-grad</td>\n",
       "      <td>9</td>\n",
       "      <td>Married-civ-spouse</td>\n",
       "      <td>Exec-managerial</td>\n",
       "      <td>Wife</td>\n",
       "      <td>White</td>\n",
       "      <td>Female</td>\n",
       "      <td>15024</td>\n",
       "      <td>0</td>\n",
       "      <td>40</td>\n",
       "      <td>United-States</td>\n",
       "      <td>&gt;50K</td>\n",
       "    </tr>\n",
       "  </tbody>\n",
       "</table>\n",
       "<p>29834 rows × 15 columns</p>\n",
       "</div>"
      ],
      "text/plain": [
       "       Age    Employment_Type  Weighting_Factor    Education  School_Period  \\\n",
       "0       39          State-gov             77516    Bachelors             13   \n",
       "1       50   Self-emp-not-inc             83311    Bachelors             13   \n",
       "2       38            Private            215646      HS-grad              9   \n",
       "3       53            Private            234721         11th              7   \n",
       "4       28            Private            338409    Bachelors             13   \n",
       "...    ...                ...               ...          ...            ...   \n",
       "32556   27            Private            257302   Assoc-acdm             12   \n",
       "32557   40            Private            154374      HS-grad              9   \n",
       "32558   58            Private            151910      HS-grad              9   \n",
       "32559   22            Private            201490      HS-grad              9   \n",
       "32560   52       Self-emp-inc            287927      HS-grad              9   \n",
       "\n",
       "            Marital_Status     Employment_Area     Partnership Ethnicity  \\\n",
       "0            Never-married        Adm-clerical   Not-in-family     White   \n",
       "1       Married-civ-spouse     Exec-managerial         Husband     White   \n",
       "2                 Divorced   Handlers-cleaners   Not-in-family     White   \n",
       "3       Married-civ-spouse   Handlers-cleaners         Husband     Black   \n",
       "4       Married-civ-spouse      Prof-specialty            Wife     Black   \n",
       "...                    ...                 ...             ...       ...   \n",
       "32556   Married-civ-spouse        Tech-support            Wife     White   \n",
       "32557   Married-civ-spouse   Machine-op-inspct         Husband     White   \n",
       "32558              Widowed        Adm-clerical       Unmarried     White   \n",
       "32559        Never-married        Adm-clerical       Own-child     White   \n",
       "32560   Married-civ-spouse     Exec-managerial            Wife     White   \n",
       "\n",
       "        Gender  Gain_Financial  Losses_Financial  Weekly_Working_Time  \\\n",
       "0         Male            2174                 0                   40   \n",
       "1         Male               0                 0                   13   \n",
       "2         Male               0                 0                   40   \n",
       "3         Male               0                 0                   40   \n",
       "4       Female               0                 0                   40   \n",
       "...        ...             ...               ...                  ...   \n",
       "32556   Female               0                 0                   38   \n",
       "32557     Male               0                 0                   40   \n",
       "32558   Female               0                 0                   40   \n",
       "32559     Male               0                 0                   20   \n",
       "32560   Female           15024                 0                   40   \n",
       "\n",
       "        Birth_Country  Income  \n",
       "0       United-States   <=50K  \n",
       "1       United-States   <=50K  \n",
       "2       United-States   <=50K  \n",
       "3       United-States   <=50K  \n",
       "4                Cuba   <=50K  \n",
       "...               ...     ...  \n",
       "32556   United-States   <=50K  \n",
       "32557   United-States    >50K  \n",
       "32558   United-States   <=50K  \n",
       "32559   United-States   <=50K  \n",
       "32560   United-States    >50K  \n",
       "\n",
       "[29834 rows x 15 columns]"
      ]
     },
     "execution_count": 49,
     "metadata": {},
     "output_type": "execute_result"
    }
   ],
   "source": [
    "df1"
   ]
  },
  {
   "cell_type": "code",
   "execution_count": 50,
   "id": "5694876e",
   "metadata": {},
   "outputs": [],
   "source": [
    "categorical_columns = ['Employment_Type', 'Education', 'Marital_Status', \n",
    "                       'Employment_Area', 'Partnership', 'Ethnicity', \n",
    "                       'Gender', 'Birth_Country']"
   ]
  },
  {
   "cell_type": "code",
   "execution_count": 51,
   "id": "cb5d990b",
   "metadata": {},
   "outputs": [],
   "source": [
    "# to remove duplicate values"
   ]
  },
  {
   "cell_type": "code",
   "execution_count": 52,
   "id": "9edf3e92",
   "metadata": {},
   "outputs": [],
   "source": [
    "df1.drop_duplicates(inplace=True)"
   ]
  },
  {
   "cell_type": "code",
   "execution_count": 53,
   "id": "11d28345",
   "metadata": {},
   "outputs": [
    {
     "data": {
      "text/plain": [
       "(29811, 15)"
      ]
     },
     "execution_count": 53,
     "metadata": {},
     "output_type": "execute_result"
    }
   ],
   "source": [
    "# checking for the shape\n",
    "df1.shape"
   ]
  },
  {
   "cell_type": "code",
   "execution_count": 54,
   "id": "5d3452c8",
   "metadata": {},
   "outputs": [
    {
     "name": "stdout",
     "output_type": "stream",
     "text": [
      "Frequency counts for column: Employment_Type\n",
      "Employment_Type\n",
      " Private             21966\n",
      " Self-emp-not-inc     2492\n",
      " Local-gov            2053\n",
      " State-gov            1277\n",
      " Self-emp-inc         1067\n",
      " Federal-gov           942\n",
      " Without-pay            14\n",
      "Name: count, dtype: int64\n",
      "\n",
      "\n",
      "Frequency counts for column: Education\n",
      "Education\n",
      " HS-grad         9827\n",
      " Some-college    6667\n",
      " Bachelors       5042\n",
      " Masters         1626\n",
      " Assoc-voc       1307\n",
      " Assoc-acdm      1008\n",
      " 11th             894\n",
      " 10th             714\n",
      " 7th-8th          553\n",
      " Prof-school      542\n",
      " 9th              432\n",
      " Doctorate        375\n",
      " 12th             345\n",
      " 5th-6th          286\n",
      " 1st-4th          149\n",
      " Preschool         44\n",
      "Name: count, dtype: int64\n",
      "\n",
      "\n",
      "Frequency counts for column: Marital_Status\n",
      "Marital_Status\n",
      " Married-civ-spouse       14057\n",
      " Never-married             9385\n",
      " Divorced                  4212\n",
      " Separated                  939\n",
      " Widowed                    827\n",
      " Married-spouse-absent      370\n",
      " Married-AF-spouse           21\n",
      "Name: count, dtype: int64\n",
      "\n",
      "\n",
      "Frequency counts for column: Employment_Area\n",
      "Employment_Area\n",
      " Prof-specialty       4024\n",
      " Craft-repair         4011\n",
      " Exec-managerial      3990\n",
      " Adm-clerical         3696\n",
      " Sales                3498\n",
      " Other-service        3080\n",
      " Machine-op-inspct    1962\n",
      " Transport-moving     1569\n",
      " Handlers-cleaners    1310\n",
      " Farming-fishing       978\n",
      " Tech-support          910\n",
      " Protective-serv       641\n",
      " Priv-house-serv       133\n",
      " Armed-Forces            9\n",
      "Name: count, dtype: int64\n",
      "\n",
      "\n",
      "Frequency counts for column: Partnership\n",
      "Partnership\n",
      " Husband           12456\n",
      " Not-in-family      7705\n",
      " Own-child          4165\n",
      " Unmarried          3205\n",
      " Wife               1406\n",
      " Other-relative      874\n",
      "Name: count, dtype: int64\n",
      "\n",
      "\n",
      "Frequency counts for column: Ethnicity\n",
      "Ethnicity\n",
      " White                 25618\n",
      " Black                  2790\n",
      " Asian-Pac-Islander      893\n",
      " Amer-Indian-Eskimo      283\n",
      " Other                   227\n",
      "Name: count, dtype: int64\n",
      "\n",
      "\n",
      "Frequency counts for column: Gender\n",
      "Gender\n",
      " Male      20188\n",
      " Female     9623\n",
      "Name: count, dtype: int64\n",
      "\n",
      "\n",
      "Frequency counts for column: Birth_Country\n",
      "Birth_Country\n",
      " United-States                 27174\n",
      " Mexico                          601\n",
      " Philippines                     188\n",
      " Germany                         128\n",
      " Puerto-Rico                     108\n",
      " Canada                          105\n",
      " India                            99\n",
      " El-Salvador                      98\n",
      " Cuba                             92\n",
      " England                          85\n",
      " Jamaica                          80\n",
      " South                            71\n",
      " China                            68\n",
      " Italy                            68\n",
      " Dominican-Republic               67\n",
      " Vietnam                          64\n",
      " Guatemala                        61\n",
      " Japan                            59\n",
      " Columbia                         56\n",
      " Poland                           55\n",
      " Iran                             42\n",
      " Taiwan                           42\n",
      " Haiti                            41\n",
      " Portugal                         34\n",
      " Nicaragua                        33\n",
      " Peru                             29\n",
      " Greece                           29\n",
      " France                           27\n",
      " Ecuador                          27\n",
      " Ireland                          24\n",
      " Hong                             19\n",
      " Cambodia                         18\n",
      " Trinadad&Tobago                  18\n",
      " Thailand                         17\n",
      " Laos                             17\n",
      " Yugoslavia                       16\n",
      " Outlying-US(Guam-USVI-etc)       14\n",
      " Hungary                          13\n",
      " Honduras                         12\n",
      " Scotland                         11\n",
      " Holand-Netherlands                1\n",
      "Name: count, dtype: int64\n",
      "\n",
      "\n"
     ]
    }
   ],
   "source": [
    "# Calculate frequency counts for each category\n",
    "for col in categorical_columns:\n",
    "    print(\"Frequency counts for column:\", col)\n",
    "    print(df1[col].value_counts())\n",
    "    print(\"\\n\")\n"
   ]
  },
  {
   "cell_type": "code",
   "execution_count": 55,
   "id": "6507f2ec",
   "metadata": {},
   "outputs": [],
   "source": [
    "# done some manual inspection and then frequency check for all categorical variables\n",
    "# looks no outliers in categorical variables"
   ]
  },
  {
   "cell_type": "code",
   "execution_count": 56,
   "id": "3c7d04c9",
   "metadata": {},
   "outputs": [],
   "source": [
    "numeric_var_1 = ['Age', 'School_Period', 'Weekly_Working_Time' ]"
   ]
  },
  {
   "cell_type": "code",
   "execution_count": 57,
   "id": "0caf11c4",
   "metadata": {},
   "outputs": [
    {
     "name": "stdout",
     "output_type": "stream",
     "text": [
      "Frequency counts for column: Age\n",
      "Age\n",
      "36    852\n",
      "31    851\n",
      "33    837\n",
      "34    836\n",
      "37    828\n",
      "     ... \n",
      "82      7\n",
      "83      5\n",
      "88      3\n",
      "85      3\n",
      "86      1\n",
      "Name: count, Length: 71, dtype: int64\n",
      "\n",
      "\n",
      "Frequency counts for column: School_Period\n",
      "School_Period\n",
      "9     9827\n",
      "10    6667\n",
      "13    5042\n",
      "14    1626\n",
      "11    1307\n",
      "12    1008\n",
      "7      894\n",
      "6      714\n",
      "4      553\n",
      "15     542\n",
      "5      432\n",
      "16     375\n",
      "8      345\n",
      "3      286\n",
      "2      149\n",
      "1       44\n",
      "Name: count, dtype: int64\n",
      "\n",
      "\n",
      "Frequency counts for column: Weekly_Working_Time\n",
      "Weekly_Working_Time\n",
      "40    14212\n",
      "50     2716\n",
      "45     1749\n",
      "60     1405\n",
      "35     1174\n",
      "      ...  \n",
      "94        1\n",
      "87        1\n",
      "82        1\n",
      "92        1\n",
      "74        1\n",
      "Name: count, Length: 94, dtype: int64\n",
      "\n",
      "\n"
     ]
    }
   ],
   "source": [
    "for col in numeric_var_1:\n",
    "    print(\"Frequency counts for column:\", col)\n",
    "    print(df1[col].value_counts())\n",
    "    print(\"\\n\")"
   ]
  },
  {
   "cell_type": "code",
   "execution_count": 58,
   "id": "f3fd8fcf",
   "metadata": {},
   "outputs": [
    {
     "data": {
      "image/png": "[encoded data removed]",
      "text/plain": [
       "<Figure size 800x600 with 1 Axes>"
      ]
     },
     "metadata": {},
     "output_type": "display_data"
    },
    {
     "data": {
      "image/png": "[encoded data removed]",
      "text/plain": [
       "<Figure size 800x600 with 1 Axes>"
      ]
     },
     "metadata": {},
     "output_type": "display_data"
    },
    {
     "data": {
      "image/png": "[encoded data removed]",
      "text/plain": [
       "<Figure size 800x600 with 1 Axes>"
      ]
     },
     "metadata": {},
     "output_type": "display_data"
    }
   ],
   "source": [
    "for col in numeric_var_1:\n",
    "    plt.figure(figsize=(8, 6))\n",
    "    plt.hist(df1[col], bins=10, color='skyblue', edgecolor='black')\n",
    "    plt.title('Histogram of ' + col)\n",
    "    plt.xlabel(col)\n",
    "    plt.ylabel('Frequency')\n",
    "    plt.grid(True)\n",
    "    plt.show()"
   ]
  },
  {
   "cell_type": "code",
   "execution_count": 59,
   "id": "681d299b",
   "metadata": {},
   "outputs": [],
   "source": [
    "# it seems no outliers in this inspection and vishualization"
   ]
  },
  {
   "cell_type": "code",
   "execution_count": 60,
   "id": "d44f6783",
   "metadata": {},
   "outputs": [],
   "source": [
    "numeric_var_2 = ['Weighting_Factor', 'Gain_Financial', 'Losses_Financial']"
   ]
  },
  {
   "cell_type": "code",
   "execution_count": 61,
   "id": "48451a4a",
   "metadata": {},
   "outputs": [
    {
     "data": {
      "image/png": "[encoded data removed]",
      "text/plain": [
       "<Figure size 800x600 with 1 Axes>"
      ]
     },
     "metadata": {},
     "output_type": "display_data"
    },
    {
     "data": {
      "image/png": "[encoded data removed]",
      "text/plain": [
       "<Figure size 800x600 with 1 Axes>"
      ]
     },
     "metadata": {},
     "output_type": "display_data"
    },
    {
     "data": {
      "image/png": "[encoded data removed]",
      "text/plain": [
       "<Figure size 800x600 with 1 Axes>"
      ]
     },
     "metadata": {},
     "output_type": "display_data"
    }
   ],
   "source": [
    "import seaborn as sns\n",
    "\n",
    "# Create boxplots for the specified numerical columns\n",
    "for col in numeric_var_2:\n",
    "    plt.figure(figsize=(8, 6))\n",
    "    sns.boxplot(x=df1[col], color='skyblue')\n",
    "    plt.title('Boxplot of ' + col)\n",
    "    plt.xlabel(col)\n",
    "    plt.grid(True)\n",
    "    plt.show()\n"
   ]
  },
  {
   "cell_type": "code",
   "execution_count": 62,
   "id": "eb4b874d",
   "metadata": {},
   "outputs": [
    {
     "name": "stdout",
     "output_type": "stream",
     "text": [
      "Number of outliers removed: 148\n"
     ]
    }
   ],
   "source": [
    "threshold = 99999\n",
    "\n",
    "# Filter out rows with 'Gain_Financial' values exceeding the threshold\n",
    "df1_cleaned = df1[df1['Gain_Financial'] < threshold]\n",
    "\n",
    "# Print the number of outliers removed\n",
    "print(\"Number of outliers removed:\", len(df1) - len(df1_cleaned))"
   ]
  },
  {
   "cell_type": "code",
   "execution_count": 63,
   "id": "a8f6d44e",
   "metadata": {},
   "outputs": [
    {
     "data": {
      "text/plain": [
       "(29811, 15)"
      ]
     },
     "execution_count": 63,
     "metadata": {},
     "output_type": "execute_result"
    }
   ],
   "source": [
    "df1.shape"
   ]
  },
  {
   "cell_type": "code",
   "execution_count": 64,
   "id": "1bd2fea3",
   "metadata": {},
   "outputs": [
    {
     "data": {
      "text/plain": [
       "(29663, 15)"
      ]
     },
     "execution_count": 64,
     "metadata": {},
     "output_type": "execute_result"
    }
   ],
   "source": [
    "df1_cleaned.shape"
   ]
  },
  {
   "cell_type": "code",
   "execution_count": 81,
   "id": "876023f5",
   "metadata": {},
   "outputs": [
    {
     "data": {
      "text/html": [
       "<div>\n",
       "<style scoped>\n",
       "    .dataframe tbody tr th:only-of-type {\n",
       "        vertical-align: middle;\n",
       "    }\n",
       "\n",
       "    .dataframe tbody tr th {\n",
       "        vertical-align: top;\n",
       "    }\n",
       "\n",
       "    .dataframe thead th {\n",
       "        text-align: right;\n",
       "    }\n",
       "</style>\n",
       "<table border=\"1\" class=\"dataframe\">\n",
       "  <thead>\n",
       "    <tr style=\"text-align: right;\">\n",
       "      <th></th>\n",
       "      <th>Age</th>\n",
       "      <th>Employment_Type</th>\n",
       "      <th>Weighting_Factor</th>\n",
       "      <th>Education</th>\n",
       "      <th>School_Period</th>\n",
       "      <th>Marital_Status</th>\n",
       "      <th>Employment_Area</th>\n",
       "      <th>Partnership</th>\n",
       "      <th>Ethnicity</th>\n",
       "      <th>Gender</th>\n",
       "      <th>Gain_Financial</th>\n",
       "      <th>Losses_Financial</th>\n",
       "      <th>Weekly_Working_Time</th>\n",
       "      <th>Birth_Country</th>\n",
       "      <th>Income</th>\n",
       "      <th>Log_Gain_Financial</th>\n",
       "      <th>Log_Losses_Financial</th>\n",
       "    </tr>\n",
       "  </thead>\n",
       "  <tbody>\n",
       "    <tr>\n",
       "      <th>0</th>\n",
       "      <td>39</td>\n",
       "      <td>State-gov</td>\n",
       "      <td>77516</td>\n",
       "      <td>Bachelors</td>\n",
       "      <td>13</td>\n",
       "      <td>Never-married</td>\n",
       "      <td>Adm-clerical</td>\n",
       "      <td>Not-in-family</td>\n",
       "      <td>White</td>\n",
       "      <td>Male</td>\n",
       "      <td>2174</td>\n",
       "      <td>0</td>\n",
       "      <td>40</td>\n",
       "      <td>United-States</td>\n",
       "      <td>&lt;=50K</td>\n",
       "      <td>7.684784</td>\n",
       "      <td>0.0</td>\n",
       "    </tr>\n",
       "    <tr>\n",
       "      <th>1</th>\n",
       "      <td>50</td>\n",
       "      <td>Self-emp-not-inc</td>\n",
       "      <td>83311</td>\n",
       "      <td>Bachelors</td>\n",
       "      <td>13</td>\n",
       "      <td>Married-civ-spouse</td>\n",
       "      <td>Exec-managerial</td>\n",
       "      <td>Husband</td>\n",
       "      <td>White</td>\n",
       "      <td>Male</td>\n",
       "      <td>0</td>\n",
       "      <td>0</td>\n",
       "      <td>13</td>\n",
       "      <td>United-States</td>\n",
       "      <td>&lt;=50K</td>\n",
       "      <td>0.000000</td>\n",
       "      <td>0.0</td>\n",
       "    </tr>\n",
       "    <tr>\n",
       "      <th>2</th>\n",
       "      <td>38</td>\n",
       "      <td>Private</td>\n",
       "      <td>215646</td>\n",
       "      <td>HS-grad</td>\n",
       "      <td>9</td>\n",
       "      <td>Divorced</td>\n",
       "      <td>Handlers-cleaners</td>\n",
       "      <td>Not-in-family</td>\n",
       "      <td>White</td>\n",
       "      <td>Male</td>\n",
       "      <td>0</td>\n",
       "      <td>0</td>\n",
       "      <td>40</td>\n",
       "      <td>United-States</td>\n",
       "      <td>&lt;=50K</td>\n",
       "      <td>0.000000</td>\n",
       "      <td>0.0</td>\n",
       "    </tr>\n",
       "    <tr>\n",
       "      <th>3</th>\n",
       "      <td>53</td>\n",
       "      <td>Private</td>\n",
       "      <td>234721</td>\n",
       "      <td>11th</td>\n",
       "      <td>7</td>\n",
       "      <td>Married-civ-spouse</td>\n",
       "      <td>Handlers-cleaners</td>\n",
       "      <td>Husband</td>\n",
       "      <td>Black</td>\n",
       "      <td>Male</td>\n",
       "      <td>0</td>\n",
       "      <td>0</td>\n",
       "      <td>40</td>\n",
       "      <td>United-States</td>\n",
       "      <td>&lt;=50K</td>\n",
       "      <td>0.000000</td>\n",
       "      <td>0.0</td>\n",
       "    </tr>\n",
       "    <tr>\n",
       "      <th>4</th>\n",
       "      <td>28</td>\n",
       "      <td>Private</td>\n",
       "      <td>338409</td>\n",
       "      <td>Bachelors</td>\n",
       "      <td>13</td>\n",
       "      <td>Married-civ-spouse</td>\n",
       "      <td>Prof-specialty</td>\n",
       "      <td>Wife</td>\n",
       "      <td>Black</td>\n",
       "      <td>Female</td>\n",
       "      <td>0</td>\n",
       "      <td>0</td>\n",
       "      <td>40</td>\n",
       "      <td>Cuba</td>\n",
       "      <td>&lt;=50K</td>\n",
       "      <td>0.000000</td>\n",
       "      <td>0.0</td>\n",
       "    </tr>\n",
       "    <tr>\n",
       "      <th>...</th>\n",
       "      <td>...</td>\n",
       "      <td>...</td>\n",
       "      <td>...</td>\n",
       "      <td>...</td>\n",
       "      <td>...</td>\n",
       "      <td>...</td>\n",
       "      <td>...</td>\n",
       "      <td>...</td>\n",
       "      <td>...</td>\n",
       "      <td>...</td>\n",
       "      <td>...</td>\n",
       "      <td>...</td>\n",
       "      <td>...</td>\n",
       "      <td>...</td>\n",
       "      <td>...</td>\n",
       "      <td>...</td>\n",
       "      <td>...</td>\n",
       "    </tr>\n",
       "    <tr>\n",
       "      <th>32556</th>\n",
       "      <td>27</td>\n",
       "      <td>Private</td>\n",
       "      <td>257302</td>\n",
       "      <td>Assoc-acdm</td>\n",
       "      <td>12</td>\n",
       "      <td>Married-civ-spouse</td>\n",
       "      <td>Tech-support</td>\n",
       "      <td>Wife</td>\n",
       "      <td>White</td>\n",
       "      <td>Female</td>\n",
       "      <td>0</td>\n",
       "      <td>0</td>\n",
       "      <td>38</td>\n",
       "      <td>United-States</td>\n",
       "      <td>&lt;=50K</td>\n",
       "      <td>0.000000</td>\n",
       "      <td>0.0</td>\n",
       "    </tr>\n",
       "    <tr>\n",
       "      <th>32557</th>\n",
       "      <td>40</td>\n",
       "      <td>Private</td>\n",
       "      <td>154374</td>\n",
       "      <td>HS-grad</td>\n",
       "      <td>9</td>\n",
       "      <td>Married-civ-spouse</td>\n",
       "      <td>Machine-op-inspct</td>\n",
       "      <td>Husband</td>\n",
       "      <td>White</td>\n",
       "      <td>Male</td>\n",
       "      <td>0</td>\n",
       "      <td>0</td>\n",
       "      <td>40</td>\n",
       "      <td>United-States</td>\n",
       "      <td>&gt;50K</td>\n",
       "      <td>0.000000</td>\n",
       "      <td>0.0</td>\n",
       "    </tr>\n",
       "    <tr>\n",
       "      <th>32558</th>\n",
       "      <td>58</td>\n",
       "      <td>Private</td>\n",
       "      <td>151910</td>\n",
       "      <td>HS-grad</td>\n",
       "      <td>9</td>\n",
       "      <td>Widowed</td>\n",
       "      <td>Adm-clerical</td>\n",
       "      <td>Unmarried</td>\n",
       "      <td>White</td>\n",
       "      <td>Female</td>\n",
       "      <td>0</td>\n",
       "      <td>0</td>\n",
       "      <td>40</td>\n",
       "      <td>United-States</td>\n",
       "      <td>&lt;=50K</td>\n",
       "      <td>0.000000</td>\n",
       "      <td>0.0</td>\n",
       "    </tr>\n",
       "    <tr>\n",
       "      <th>32559</th>\n",
       "      <td>22</td>\n",
       "      <td>Private</td>\n",
       "      <td>201490</td>\n",
       "      <td>HS-grad</td>\n",
       "      <td>9</td>\n",
       "      <td>Never-married</td>\n",
       "      <td>Adm-clerical</td>\n",
       "      <td>Own-child</td>\n",
       "      <td>White</td>\n",
       "      <td>Male</td>\n",
       "      <td>0</td>\n",
       "      <td>0</td>\n",
       "      <td>20</td>\n",
       "      <td>United-States</td>\n",
       "      <td>&lt;=50K</td>\n",
       "      <td>0.000000</td>\n",
       "      <td>0.0</td>\n",
       "    </tr>\n",
       "    <tr>\n",
       "      <th>32560</th>\n",
       "      <td>52</td>\n",
       "      <td>Self-emp-inc</td>\n",
       "      <td>287927</td>\n",
       "      <td>HS-grad</td>\n",
       "      <td>9</td>\n",
       "      <td>Married-civ-spouse</td>\n",
       "      <td>Exec-managerial</td>\n",
       "      <td>Wife</td>\n",
       "      <td>White</td>\n",
       "      <td>Female</td>\n",
       "      <td>15024</td>\n",
       "      <td>0</td>\n",
       "      <td>40</td>\n",
       "      <td>United-States</td>\n",
       "      <td>&gt;50K</td>\n",
       "      <td>9.617471</td>\n",
       "      <td>0.0</td>\n",
       "    </tr>\n",
       "  </tbody>\n",
       "</table>\n",
       "<p>29663 rows × 17 columns</p>\n",
       "</div>"
      ],
      "text/plain": [
       "       Age    Employment_Type  Weighting_Factor    Education  School_Period  \\\n",
       "0       39          State-gov             77516    Bachelors             13   \n",
       "1       50   Self-emp-not-inc             83311    Bachelors             13   \n",
       "2       38            Private            215646      HS-grad              9   \n",
       "3       53            Private            234721         11th              7   \n",
       "4       28            Private            338409    Bachelors             13   \n",
       "...    ...                ...               ...          ...            ...   \n",
       "32556   27            Private            257302   Assoc-acdm             12   \n",
       "32557   40            Private            154374      HS-grad              9   \n",
       "32558   58            Private            151910      HS-grad              9   \n",
       "32559   22            Private            201490      HS-grad              9   \n",
       "32560   52       Self-emp-inc            287927      HS-grad              9   \n",
       "\n",
       "            Marital_Status     Employment_Area     Partnership Ethnicity  \\\n",
       "0            Never-married        Adm-clerical   Not-in-family     White   \n",
       "1       Married-civ-spouse     Exec-managerial         Husband     White   \n",
       "2                 Divorced   Handlers-cleaners   Not-in-family     White   \n",
       "3       Married-civ-spouse   Handlers-cleaners         Husband     Black   \n",
       "4       Married-civ-spouse      Prof-specialty            Wife     Black   \n",
       "...                    ...                 ...             ...       ...   \n",
       "32556   Married-civ-spouse        Tech-support            Wife     White   \n",
       "32557   Married-civ-spouse   Machine-op-inspct         Husband     White   \n",
       "32558              Widowed        Adm-clerical       Unmarried     White   \n",
       "32559        Never-married        Adm-clerical       Own-child     White   \n",
       "32560   Married-civ-spouse     Exec-managerial            Wife     White   \n",
       "\n",
       "        Gender  Gain_Financial  Losses_Financial  Weekly_Working_Time  \\\n",
       "0         Male            2174                 0                   40   \n",
       "1         Male               0                 0                   13   \n",
       "2         Male               0                 0                   40   \n",
       "3         Male               0                 0                   40   \n",
       "4       Female               0                 0                   40   \n",
       "...        ...             ...               ...                  ...   \n",
       "32556   Female               0                 0                   38   \n",
       "32557     Male               0                 0                   40   \n",
       "32558   Female               0                 0                   40   \n",
       "32559     Male               0                 0                   20   \n",
       "32560   Female           15024                 0                   40   \n",
       "\n",
       "        Birth_Country  Income  Log_Gain_Financial  Log_Losses_Financial  \n",
       "0       United-States   <=50K            7.684784                   0.0  \n",
       "1       United-States   <=50K            0.000000                   0.0  \n",
       "2       United-States   <=50K            0.000000                   0.0  \n",
       "3       United-States   <=50K            0.000000                   0.0  \n",
       "4                Cuba   <=50K            0.000000                   0.0  \n",
       "...               ...     ...                 ...                   ...  \n",
       "32556   United-States   <=50K            0.000000                   0.0  \n",
       "32557   United-States    >50K            0.000000                   0.0  \n",
       "32558   United-States   <=50K            0.000000                   0.0  \n",
       "32559   United-States   <=50K            0.000000                   0.0  \n",
       "32560   United-States    >50K            9.617471                   0.0  \n",
       "\n",
       "[29663 rows x 17 columns]"
      ]
     },
     "execution_count": 81,
     "metadata": {},
     "output_type": "execute_result"
    }
   ],
   "source": [
    "df1_cleaned"
   ]
  },
  {
   "cell_type": "code",
   "execution_count": 82,
   "id": "750cda53",
   "metadata": {},
   "outputs": [],
   "source": [
    "df.to_csv('dataset_final_by_me.csv', index=False)"
   ]
  },
  {
   "cell_type": "code",
   "execution_count": 65,
   "id": "3214037f",
   "metadata": {},
   "outputs": [
    {
     "data": {
      "text/plain": [
       "<bound method DataFrame.info of        Age    Employment_Type  Weighting_Factor    Education  School_Period  \\\n",
       "0       39          State-gov             77516    Bachelors             13   \n",
       "1       50   Self-emp-not-inc             83311    Bachelors             13   \n",
       "2       38            Private            215646      HS-grad              9   \n",
       "3       53            Private            234721         11th              7   \n",
       "4       28            Private            338409    Bachelors             13   \n",
       "...    ...                ...               ...          ...            ...   \n",
       "32556   27            Private            257302   Assoc-acdm             12   \n",
       "32557   40            Private            154374      HS-grad              9   \n",
       "32558   58            Private            151910      HS-grad              9   \n",
       "32559   22            Private            201490      HS-grad              9   \n",
       "32560   52       Self-emp-inc            287927      HS-grad              9   \n",
       "\n",
       "            Marital_Status     Employment_Area     Partnership Ethnicity  \\\n",
       "0            Never-married        Adm-clerical   Not-in-family     White   \n",
       "1       Married-civ-spouse     Exec-managerial         Husband     White   \n",
       "2                 Divorced   Handlers-cleaners   Not-in-family     White   \n",
       "3       Married-civ-spouse   Handlers-cleaners         Husband     Black   \n",
       "4       Married-civ-spouse      Prof-specialty            Wife     Black   \n",
       "...                    ...                 ...             ...       ...   \n",
       "32556   Married-civ-spouse        Tech-support            Wife     White   \n",
       "32557   Married-civ-spouse   Machine-op-inspct         Husband     White   \n",
       "32558              Widowed        Adm-clerical       Unmarried     White   \n",
       "32559        Never-married        Adm-clerical       Own-child     White   \n",
       "32560   Married-civ-spouse     Exec-managerial            Wife     White   \n",
       "\n",
       "        Gender  Gain_Financial  Losses_Financial  Weekly_Working_Time  \\\n",
       "0         Male            2174                 0                   40   \n",
       "1         Male               0                 0                   13   \n",
       "2         Male               0                 0                   40   \n",
       "3         Male               0                 0                   40   \n",
       "4       Female               0                 0                   40   \n",
       "...        ...             ...               ...                  ...   \n",
       "32556   Female               0                 0                   38   \n",
       "32557     Male               0                 0                   40   \n",
       "32558   Female               0                 0                   40   \n",
       "32559     Male               0                 0                   20   \n",
       "32560   Female           15024                 0                   40   \n",
       "\n",
       "        Birth_Country  Income  \n",
       "0       United-States   <=50K  \n",
       "1       United-States   <=50K  \n",
       "2       United-States   <=50K  \n",
       "3       United-States   <=50K  \n",
       "4                Cuba   <=50K  \n",
       "...               ...     ...  \n",
       "32556   United-States   <=50K  \n",
       "32557   United-States    >50K  \n",
       "32558   United-States   <=50K  \n",
       "32559   United-States   <=50K  \n",
       "32560   United-States    >50K  \n",
       "\n",
       "[29663 rows x 15 columns]>"
      ]
     },
     "execution_count": 65,
     "metadata": {},
     "output_type": "execute_result"
    }
   ],
   "source": [
    "df1_cleaned.info"
   ]
  },
  {
   "cell_type": "code",
   "execution_count": 66,
   "id": "771de973",
   "metadata": {},
   "outputs": [
    {
     "data": {
      "text/plain": [
       "Age                    0\n",
       "Employment_Type        0\n",
       "Weighting_Factor       0\n",
       "Education              0\n",
       "School_Period          0\n",
       "Marital_Status         0\n",
       "Employment_Area        0\n",
       "Partnership            0\n",
       "Ethnicity              0\n",
       "Gender                 0\n",
       "Gain_Financial         0\n",
       "Losses_Financial       0\n",
       "Weekly_Working_Time    0\n",
       "Birth_Country          0\n",
       "Income                 0\n",
       "dtype: int64"
      ]
     },
     "execution_count": 66,
     "metadata": {},
     "output_type": "execute_result"
    }
   ],
   "source": [
    "missing_values = df1_cleaned.isnull()\n",
    "# taking the count\n",
    "missing_counts = missing_values.sum()\n",
    "missing_counts"
   ]
  },
  {
   "cell_type": "code",
   "execution_count": 69,
   "id": "40f61fa9",
   "metadata": {},
   "outputs": [
    {
     "data": {
      "text/html": [
       "<div>\n",
       "<style scoped>\n",
       "    .dataframe tbody tr th:only-of-type {\n",
       "        vertical-align: middle;\n",
       "    }\n",
       "\n",
       "    .dataframe tbody tr th {\n",
       "        vertical-align: top;\n",
       "    }\n",
       "\n",
       "    .dataframe thead th {\n",
       "        text-align: right;\n",
       "    }\n",
       "</style>\n",
       "<table border=\"1\" class=\"dataframe\">\n",
       "  <thead>\n",
       "    <tr style=\"text-align: right;\">\n",
       "      <th></th>\n",
       "      <th>Weighting_Factor</th>\n",
       "      <th>Gain_Financial</th>\n",
       "      <th>Losses_Financial</th>\n",
       "    </tr>\n",
       "  </thead>\n",
       "  <tbody>\n",
       "    <tr>\n",
       "      <th>0</th>\n",
       "      <td>77516</td>\n",
       "      <td>2174</td>\n",
       "      <td>0</td>\n",
       "    </tr>\n",
       "    <tr>\n",
       "      <th>1</th>\n",
       "      <td>83311</td>\n",
       "      <td>0</td>\n",
       "      <td>0</td>\n",
       "    </tr>\n",
       "    <tr>\n",
       "      <th>2</th>\n",
       "      <td>215646</td>\n",
       "      <td>0</td>\n",
       "      <td>0</td>\n",
       "    </tr>\n",
       "    <tr>\n",
       "      <th>3</th>\n",
       "      <td>234721</td>\n",
       "      <td>0</td>\n",
       "      <td>0</td>\n",
       "    </tr>\n",
       "    <tr>\n",
       "      <th>4</th>\n",
       "      <td>338409</td>\n",
       "      <td>0</td>\n",
       "      <td>0</td>\n",
       "    </tr>\n",
       "    <tr>\n",
       "      <th>...</th>\n",
       "      <td>...</td>\n",
       "      <td>...</td>\n",
       "      <td>...</td>\n",
       "    </tr>\n",
       "    <tr>\n",
       "      <th>32556</th>\n",
       "      <td>257302</td>\n",
       "      <td>0</td>\n",
       "      <td>0</td>\n",
       "    </tr>\n",
       "    <tr>\n",
       "      <th>32557</th>\n",
       "      <td>154374</td>\n",
       "      <td>0</td>\n",
       "      <td>0</td>\n",
       "    </tr>\n",
       "    <tr>\n",
       "      <th>32558</th>\n",
       "      <td>151910</td>\n",
       "      <td>0</td>\n",
       "      <td>0</td>\n",
       "    </tr>\n",
       "    <tr>\n",
       "      <th>32559</th>\n",
       "      <td>201490</td>\n",
       "      <td>0</td>\n",
       "      <td>0</td>\n",
       "    </tr>\n",
       "    <tr>\n",
       "      <th>32560</th>\n",
       "      <td>287927</td>\n",
       "      <td>15024</td>\n",
       "      <td>0</td>\n",
       "    </tr>\n",
       "  </tbody>\n",
       "</table>\n",
       "<p>29663 rows × 3 columns</p>\n",
       "</div>"
      ],
      "text/plain": [
       "       Weighting_Factor  Gain_Financial  Losses_Financial\n",
       "0                 77516            2174                 0\n",
       "1                 83311               0                 0\n",
       "2                215646               0                 0\n",
       "3                234721               0                 0\n",
       "4                338409               0                 0\n",
       "...                 ...             ...               ...\n",
       "32556            257302               0                 0\n",
       "32557            154374               0                 0\n",
       "32558            151910               0                 0\n",
       "32559            201490               0                 0\n",
       "32560            287927           15024                 0\n",
       "\n",
       "[29663 rows x 3 columns]"
      ]
     },
     "execution_count": 69,
     "metadata": {},
     "output_type": "execute_result"
    }
   ],
   "source": [
    "numeric_var_2 =df1_cleaned[['Weighting_Factor', 'Gain_Financial', 'Losses_Financial']]\n",
    "numeric_var_2"
   ]
  },
  {
   "cell_type": "code",
   "execution_count": 72,
   "id": "1312692d",
   "metadata": {},
   "outputs": [],
   "source": [
    "import scipy.stats as stats"
   ]
  },
  {
   "cell_type": "code",
   "execution_count": 73,
   "id": "c7ee0ab8",
   "metadata": {},
   "outputs": [
    {
     "name": "stderr",
     "output_type": "stream",
     "text": [
      "C:\\Users\\MSI KATANA\\anaconda3\\Lib\\site-packages\\scipy\\stats\\_morestats.py:1882: UserWarning: p-value may not be accurate for N > 5000.\n",
      "  warnings.warn(\"p-value may not be accurate for N > 5000.\")\n"
     ]
    },
    {
     "name": "stdout",
     "output_type": "stream",
     "text": [
      "Shapiro-Wilk Test for Weighting_Factor: Statistics=0.921, p=0.000\n",
      "The data in Weighting_Factor does not look Gaussian (reject H0)\n",
      "\n",
      "\n",
      "Shapiro-Wilk Test for Gain_Financial: Statistics=0.254, p=0.000\n",
      "The data in Gain_Financial does not look Gaussian (reject H0)\n",
      "\n",
      "\n",
      "Shapiro-Wilk Test for Losses_Financial: Statistics=0.222, p=0.000\n",
      "The data in Losses_Financial does not look Gaussian (reject H0)\n",
      "\n",
      "\n"
     ]
    },
    {
     "data": {
      "image/png": "[encoded data removed]",
      "text/plain": [
       "<Figure size 1000x400 with 2 Axes>"
      ]
     },
     "metadata": {},
     "output_type": "display_data"
    },
    {
     "data": {
      "image/png": "[encoded data removed]",
      "text/plain": [
       "<Figure size 1000x400 with 2 Axes>"
      ]
     },
     "metadata": {},
     "output_type": "display_data"
    },
    {
     "data": {
      "image/png": "[encoded data removed]",
      "text/plain": [
       "<Figure size 1000x400 with 2 Axes>"
      ]
     },
     "metadata": {},
     "output_type": "display_data"
    }
   ],
   "source": [
    "numeric_var_2 = df1_cleaned[['Weighting_Factor', 'Gain_Financial', 'Losses_Financial']]\n",
    "\n",
    "# Now, apply the Shapiro-Wilk test to each numerical variable in numeric_var_2\n",
    "for column in numeric_var_2.columns:\n",
    "    stat, p = stats.shapiro(numeric_var_2[column].dropna())  # .dropna() to remove NaN values which Shapiro-Wilk can't handle\n",
    "    print(f'Shapiro-Wilk Test for {column}: Statistics={stat:.3f}, p={p:.3f}')\n",
    "    # Interpretation\n",
    "    alpha = 0.05\n",
    "    if p > alpha:\n",
    "        print(f'The data in {column} looks Gaussian (fail to reject H0)')\n",
    "    else:\n",
    "        print(f'The data in {column} does not look Gaussian (reject H0)')\n",
    "    print('\\n')\n",
    "\n",
    "# Visual Inspection using Histograms and Q-Q plots for each variable\n",
    "for column in numeric_var_2.columns:\n",
    "    plt.figure(figsize=(10, 4))\n",
    "    \n",
    "    # Histogram\n",
    "    plt.subplot(1, 2, 1)\n",
    "    numeric_var_2[column].dropna().hist(bins=20, alpha=0.7)  # .dropna() here as well\n",
    "    plt.title(f'Histogram of {column}')\n",
    "    \n",
    "    # Q-Q plot\n",
    "    plt.subplot(1, 2, 2)\n",
    "    stats.probplot(numeric_var_2[column].dropna(), dist=\"norm\", plot=plt)  # .dropna() here too\n",
    "    plt.title(f'Q-Q Plot of {column}')\n",
    "\n",
    "    plt.tight_layout()\n",
    "    plt.show()"
   ]
  },
  {
   "cell_type": "code",
   "execution_count": 74,
   "id": "859c4521",
   "metadata": {},
   "outputs": [
    {
     "name": "stdout",
     "output_type": "stream",
     "text": [
      "Number of outliers in Weighting_Factor: 889\n",
      "Number of outliers in Gain_Financial: 2382\n",
      "Number of outliers in Losses_Financial: 1417\n"
     ]
    }
   ],
   "source": [
    "outliers_dict = {}\n",
    "\n",
    "for column in numeric_var_2.columns:\n",
    "    Q1 = numeric_var_2[column].quantile(0.25)\n",
    "    Q3 = numeric_var_2[column].quantile(0.75)\n",
    "    IQR = Q3 - Q1\n",
    "    lower_bound = Q1 - 1.5 * IQR\n",
    "    upper_bound = Q3 + 1.5 * IQR\n",
    "    \n",
    "    # Define outliers as a boolean Series and then use it to filter the rows.\n",
    "    outlier_condition = ((numeric_var_2[column] < lower_bound) | (numeric_var_2[column] > upper_bound))\n",
    "    outliers = numeric_var_2[column][outlier_condition]\n",
    "    \n",
    "    outliers_dict[column] = outliers  # Store outliers for later use or inspection\n",
    "\n",
    "    # Print the number of outliers\n",
    "    print(f\"Number of outliers in {column}: {outliers.count()}\")\n",
    "    # Uncomment the next line if you want to print the actual outliers\n",
    "    # print(outliers)"
   ]
  },
  {
   "cell_type": "code",
   "execution_count": 76,
   "id": "495738cd",
   "metadata": {},
   "outputs": [
    {
     "name": "stdout",
     "output_type": "stream",
     "text": [
      "\n",
      "Weighting_Factor - Number of outliers: 889\n",
      "              Age  Weighting_Factor  School_Period  Gain_Financial  \\\n",
      "count  889.000000      8.890000e+02     889.000000      889.000000   \n",
      "mean    35.155231      5.151136e+05       9.649044      556.496063   \n",
      "std     12.131904      1.255969e+05       2.813758     2435.555683   \n",
      "min     18.000000      4.179410e+05       1.000000        0.000000   \n",
      "25%     25.000000      4.401290e+05       9.000000        0.000000   \n",
      "50%     33.000000      4.737480e+05       9.000000        0.000000   \n",
      "75%     43.000000      5.442680e+05      11.000000        0.000000   \n",
      "max     80.000000      1.484705e+06      16.000000    27828.000000   \n",
      "\n",
      "       Losses_Financial  Weekly_Working_Time  \n",
      "count        889.000000           889.000000  \n",
      "mean          61.114736            40.289089  \n",
      "std          341.868673            11.029072  \n",
      "min            0.000000             2.000000  \n",
      "25%            0.000000            40.000000  \n",
      "50%            0.000000            40.000000  \n",
      "75%            0.000000            44.000000  \n",
      "max         3683.000000            99.000000  \n",
      "\n",
      "Gain_Financial - Number of outliers: 2382\n",
      "               Age  Weighting_Factor  School_Period  Gain_Financial  \\\n",
      "count  2382.000000      2.382000e+03    2382.000000     2382.000000   \n",
      "mean     43.429891      1.875749e+05      11.004198     7610.877834   \n",
      "std      12.744572      1.040997e+05       2.578459     5516.538601   \n",
      "min      18.000000      1.930200e+04       1.000000      114.000000   \n",
      "25%      34.000000      1.174040e+05       9.000000     3411.000000   \n",
      "50%      42.000000      1.759505e+05      10.000000     6849.000000   \n",
      "75%      51.000000      2.354750e+05      13.000000     9386.000000   \n",
      "max      90.000000      1.033222e+06      16.000000    41310.000000   \n",
      "\n",
      "       Losses_Financial  Weekly_Working_Time  \n",
      "count            2382.0          2382.000000  \n",
      "mean                0.0            43.693115  \n",
      "std                 0.0            11.454577  \n",
      "min                 0.0             2.000000  \n",
      "25%                 0.0            40.000000  \n",
      "50%                 0.0            40.000000  \n",
      "75%                 0.0            50.000000  \n",
      "max                 0.0            99.000000  \n",
      "\n",
      "Losses_Financial - Number of outliers: 1417\n",
      "               Age  Weighting_Factor  School_Period  Gain_Financial  \\\n",
      "count  1417.000000       1417.000000    1417.000000          1417.0   \n",
      "mean     41.820748     185522.400141      11.024700             0.0   \n",
      "std      12.084170      98560.072253       2.664653             0.0   \n",
      "min      18.000000      20953.000000       1.000000             0.0   \n",
      "25%      33.000000     118363.000000       9.000000             0.0   \n",
      "50%      41.000000     174938.000000      10.000000             0.0   \n",
      "75%      50.000000     230329.000000      13.000000             0.0   \n",
      "max      90.000000     816750.000000      16.000000             0.0   \n",
      "\n",
      "       Losses_Financial  Weekly_Working_Time  \n",
      "count       1417.000000          1417.000000  \n",
      "mean        1869.441778            43.712068  \n",
      "std          362.631643            11.926165  \n",
      "min          155.000000             1.000000  \n",
      "25%         1672.000000            40.000000  \n",
      "50%         1887.000000            40.000000  \n",
      "75%         1977.000000            50.000000  \n",
      "max         4356.000000            99.000000  \n"
     ]
    }
   ],
   "source": [
    "\n",
    "for column in ['Weighting_Factor', 'Gain_Financial', 'Losses_Financial']:\n",
    "    Q1 = df1_cleaned[column].quantile(0.25)\n",
    "    Q3 = df1_cleaned[column].quantile(0.75)\n",
    "    IQR = Q3 - Q1\n",
    "    lower_bound = Q1 - 1.5 * IQR\n",
    "    upper_bound = Q3 + 1.5 * IQR\n",
    "    \n",
    "    # Filtering the outliers\n",
    "    outliers = df1_cleaned[(df1_cleaned[column] < lower_bound) | (df1_cleaned[column] > upper_bound)]\n",
    "    \n",
    "    # Display basic information about the outliers\n",
    "    print(f\"\\n{column} - Number of outliers: {len(outliers)}\")\n",
    "    \n",
    "    # Display summary statistics of the outliers\n",
    "    print(outliers.describe())"
   ]
  },
  {
   "cell_type": "code",
   "execution_count": 77,
   "id": "e3926687",
   "metadata": {},
   "outputs": [
    {
     "name": "stderr",
     "output_type": "stream",
     "text": [
      "C:\\Users\\MSI KATANA\\AppData\\Local\\Temp\\ipykernel_26220\\2695398512.py:2: SettingWithCopyWarning: \n",
      "A value is trying to be set on a copy of a slice from a DataFrame.\n",
      "Try using .loc[row_indexer,col_indexer] = value instead\n",
      "\n",
      "See the caveats in the documentation: https://pandas.pydata.org/pandas-docs/stable/user_guide/indexing.html#returning-a-view-versus-a-copy\n",
      "  df1_cleaned['Log_Gain_Financial'] = np.log(df1_cleaned['Gain_Financial'] + 1)\n",
      "C:\\Users\\MSI KATANA\\AppData\\Local\\Temp\\ipykernel_26220\\2695398512.py:5: SettingWithCopyWarning: \n",
      "A value is trying to be set on a copy of a slice from a DataFrame.\n",
      "Try using .loc[row_indexer,col_indexer] = value instead\n",
      "\n",
      "See the caveats in the documentation: https://pandas.pydata.org/pandas-docs/stable/user_guide/indexing.html#returning-a-view-versus-a-copy\n",
      "  df1_cleaned['Log_Losses_Financial'] = np.log(df1_cleaned['Losses_Financial'] + 1)\n"
     ]
    }
   ],
   "source": [
    "# Apply log transformation to 'Gain_Financial', adding 1 to handle zero values\n",
    "df1_cleaned['Log_Gain_Financial'] = np.log(df1_cleaned['Gain_Financial'] + 1)\n",
    "\n",
    "# Apply log transformation to 'Losses_Financial', adding 1 to handle zero values\n",
    "df1_cleaned['Log_Losses_Financial'] = np.log(df1_cleaned['Losses_Financial'] + 1)"
   ]
  },
  {
   "cell_type": "code",
   "execution_count": 78,
   "id": "82a2c3a8",
   "metadata": {},
   "outputs": [
    {
     "data": {
      "image/png": "[encoded data removed]",
      "text/plain": [
       "<Figure size 1200x600 with 2 Axes>"
      ]
     },
     "metadata": {},
     "output_type": "display_data"
    },
    {
     "data": {
      "image/png": "[encoded data removed]",
      "text/plain": [
       "<Figure size 1200x600 with 2 Axes>"
      ]
     },
     "metadata": {},
     "output_type": "display_data"
    }
   ],
   "source": [
    "\n",
    "# Plot original vs. transformed 'Gain_Financial'\n",
    "plt.figure(figsize=(12, 6))\n",
    "plt.subplot(1, 2, 1)\n",
    "df1_cleaned['Gain_Financial'].hist(bins=50)\n",
    "plt.title('Original Gain_Financial')\n",
    "plt.subplot(1, 2, 2)\n",
    "df1_cleaned['Log_Gain_Financial'].hist(bins=50)\n",
    "plt.title('Log Transformed Gain_Financial')\n",
    "plt.show()\n",
    "\n",
    "# Plot original vs. transformed 'Losses_Financial'\n",
    "plt.figure(figsize=(12, 6))\n",
    "plt.subplot(1, 2, 1)\n",
    "df1_cleaned['Losses_Financial'].hist(bins=50)\n",
    "plt.title('Original Losses_Financial')\n",
    "plt.subplot(1, 2, 2)\n",
    "df1_cleaned['Log_Losses_Financial'].hist(bins=50)\n",
    "plt.title('Log Transformed Losses_Financial')\n",
    "plt.show()"
   ]
  },
  {
   "cell_type": "code",
   "execution_count": null,
   "id": "3fc0d94f",
   "metadata": {},
   "outputs": [],
   "source": []
  },
  {
   "cell_type": "code",
   "execution_count": 80,
   "id": "d0ec0f34",
   "metadata": {},
   "outputs": [
    {
     "name": "stdout",
     "output_type": "stream",
     "text": [
      "'Log_Gain_Financial' - Outliers count: 2382, Lower Bound: 0.0, Upper Bound: 0.0\n",
      "'Log_Losses_Financial' - Outliers count: 1417, Lower Bound: 0.0, Upper Bound: 0.0\n"
     ]
    },
    {
     "name": "stderr",
     "output_type": "stream",
     "text": [
      "C:\\Users\\MSI KATANA\\AppData\\Local\\Temp\\ipykernel_26220\\3391401221.py:1: SettingWithCopyWarning: \n",
      "A value is trying to be set on a copy of a slice from a DataFrame.\n",
      "Try using .loc[row_indexer,col_indexer] = value instead\n",
      "\n",
      "See the caveats in the documentation: https://pandas.pydata.org/pandas-docs/stable/user_guide/indexing.html#returning-a-view-versus-a-copy\n",
      "  df1_cleaned['Log_Gain_Financial'] = np.log(df1_cleaned['Gain_Financial'] + 1)\n",
      "C:\\Users\\MSI KATANA\\AppData\\Local\\Temp\\ipykernel_26220\\3391401221.py:2: SettingWithCopyWarning: \n",
      "A value is trying to be set on a copy of a slice from a DataFrame.\n",
      "Try using .loc[row_indexer,col_indexer] = value instead\n",
      "\n",
      "See the caveats in the documentation: https://pandas.pydata.org/pandas-docs/stable/user_guide/indexing.html#returning-a-view-versus-a-copy\n",
      "  df1_cleaned['Log_Losses_Financial'] = np.log(df1_cleaned['Losses_Financial'] + 1)\n"
     ]
    }
   ],
   "source": [
    "df1_cleaned['Log_Gain_Financial'] = np.log(df1_cleaned['Gain_Financial'] + 1)\n",
    "df1_cleaned['Log_Losses_Financial'] = np.log(df1_cleaned['Losses_Financial'] + 1)\n",
    "\n",
    "# Now, reassessing the presence of outliers using the IQR method\n",
    "# Define a function to calculate IQR and identify outliers\n",
    "def calculate_iqr_outliers(data, column):\n",
    "    Q1 = data[column].quantile(0.25)\n",
    "    Q3 = data[column].quantile(0.75)\n",
    "    IQR = Q3 - Q1\n",
    "    lower_bound = Q1 - 1.5 * IQR\n",
    "    upper_bound = Q3 + 1.5 * IQR\n",
    "    \n",
    "    # Identifying outliers\n",
    "    outliers = data[(data[column] < lower_bound) | (data[column] > upper_bound)]\n",
    "    return outliers, lower_bound, upper_bound\n",
    "\n",
    "# Reassessing outliers for 'Log_Gain_Financial'\n",
    "log_gain_outliers, log_gain_lower, log_gain_upper = calculate_iqr_outliers(df1_cleaned, 'Log_Gain_Financial')\n",
    "print(f\"'Log_Gain_Financial' - Outliers count: {len(log_gain_outliers)}, Lower Bound: {log_gain_lower}, Upper Bound: {log_gain_upper}\")\n",
    "\n",
    "# Reassessing outliers for 'Log_Losses_Financial'\n",
    "log_losses_outliers, log_losses_lower, log_losses_upper = calculate_iqr_outliers(df1_cleaned, 'Log_Losses_Financial')\n",
    "print(f\"'Log_Losses_Financial' - Outliers count: {len(log_losses_outliers)}, Lower Bound: {log_losses_lower}, Upper Bound: {log_losses_upper}\")"
   ]
  },
  {
   "cell_type": "code",
   "execution_count": null,
   "id": "94806bf0",
   "metadata": {},
   "outputs": [],
   "source": []
  }
 ],
 "metadata": {
  "kernelspec": {
   "display_name": "Python 3 (ipykernel)",
   "language": "python",
   "name": "python3"
  },
  "language_info": {
   "codemirror_mode": {
    "name": "ipython",
    "version": 3
   },
   "file_extension": ".py",
   "mimetype": "text/x-python",
   "name": "python",
   "nbconvert_exporter": "python",
   "pygments_lexer": "ipython3",
   "version": "3.11.5"
  }
 },
 "nbformat": 4,
 "nbformat_minor": 5
}
