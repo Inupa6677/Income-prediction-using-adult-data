{
 "cells": [
  {
   "cell_type": "code",
   "execution_count": 2,
   "id": "e685fe7d",
   "metadata": {},
   "outputs": [],
   "source": [
    "import pandas as pd\n",
    "import numpy as np\n",
    "import datetime\n",
    "import matplotlib.pyplot as plt\n",
    "import seaborn as sns\n"
   ]
  },
  {
   "cell_type": "code",
   "execution_count": 8,
   "id": "de9e018b",
   "metadata": {
    "scrolled": true
   },
   "outputs": [
    {
     "data": {
      "text/html": [
       "<div>\n",
       "<style scoped>\n",
       "    .dataframe tbody tr th:only-of-type {\n",
       "        vertical-align: middle;\n",
       "    }\n",
       "\n",
       "    .dataframe tbody tr th {\n",
       "        vertical-align: top;\n",
       "    }\n",
       "\n",
       "    .dataframe thead th {\n",
       "        text-align: right;\n",
       "    }\n",
       "</style>\n",
       "<table border=\"1\" class=\"dataframe\">\n",
       "  <thead>\n",
       "    <tr style=\"text-align: right;\">\n",
       "      <th></th>\n",
       "      <th>0</th>\n",
       "      <th>1</th>\n",
       "      <th>2</th>\n",
       "      <th>3</th>\n",
       "      <th>4</th>\n",
       "      <th>5</th>\n",
       "      <th>6</th>\n",
       "      <th>7</th>\n",
       "      <th>8</th>\n",
       "      <th>9</th>\n",
       "      <th>10</th>\n",
       "      <th>11</th>\n",
       "      <th>12</th>\n",
       "      <th>13</th>\n",
       "      <th>14</th>\n",
       "    </tr>\n",
       "  </thead>\n",
       "  <tbody>\n",
       "    <tr>\n",
       "      <th>0</th>\n",
       "      <td>39</td>\n",
       "      <td>State-gov</td>\n",
       "      <td>77516</td>\n",
       "      <td>Bachelors</td>\n",
       "      <td>13</td>\n",
       "      <td>Never-married</td>\n",
       "      <td>Adm-clerical</td>\n",
       "      <td>Not-in-family</td>\n",
       "      <td>White</td>\n",
       "      <td>Male</td>\n",
       "      <td>2174</td>\n",
       "      <td>0</td>\n",
       "      <td>40</td>\n",
       "      <td>United-States</td>\n",
       "      <td>&lt;=50K</td>\n",
       "    </tr>\n",
       "    <tr>\n",
       "      <th>1</th>\n",
       "      <td>50</td>\n",
       "      <td>Self-emp-not-inc</td>\n",
       "      <td>83311</td>\n",
       "      <td>Bachelors</td>\n",
       "      <td>13</td>\n",
       "      <td>Married-civ-spouse</td>\n",
       "      <td>Exec-managerial</td>\n",
       "      <td>Husband</td>\n",
       "      <td>White</td>\n",
       "      <td>Male</td>\n",
       "      <td>0</td>\n",
       "      <td>0</td>\n",
       "      <td>13</td>\n",
       "      <td>United-States</td>\n",
       "      <td>&lt;=50K</td>\n",
       "    </tr>\n",
       "    <tr>\n",
       "      <th>2</th>\n",
       "      <td>38</td>\n",
       "      <td>Private</td>\n",
       "      <td>215646</td>\n",
       "      <td>HS-grad</td>\n",
       "      <td>9</td>\n",
       "      <td>Divorced</td>\n",
       "      <td>Handlers-cleaners</td>\n",
       "      <td>Not-in-family</td>\n",
       "      <td>White</td>\n",
       "      <td>Male</td>\n",
       "      <td>0</td>\n",
       "      <td>0</td>\n",
       "      <td>40</td>\n",
       "      <td>United-States</td>\n",
       "      <td>&lt;=50K</td>\n",
       "    </tr>\n",
       "    <tr>\n",
       "      <th>3</th>\n",
       "      <td>53</td>\n",
       "      <td>Private</td>\n",
       "      <td>234721</td>\n",
       "      <td>11th</td>\n",
       "      <td>7</td>\n",
       "      <td>Married-civ-spouse</td>\n",
       "      <td>Handlers-cleaners</td>\n",
       "      <td>Husband</td>\n",
       "      <td>Black</td>\n",
       "      <td>Male</td>\n",
       "      <td>0</td>\n",
       "      <td>0</td>\n",
       "      <td>40</td>\n",
       "      <td>United-States</td>\n",
       "      <td>&lt;=50K</td>\n",
       "    </tr>\n",
       "    <tr>\n",
       "      <th>4</th>\n",
       "      <td>28</td>\n",
       "      <td>Private</td>\n",
       "      <td>338409</td>\n",
       "      <td>Bachelors</td>\n",
       "      <td>13</td>\n",
       "      <td>Married-civ-spouse</td>\n",
       "      <td>Prof-specialty</td>\n",
       "      <td>Wife</td>\n",
       "      <td>Black</td>\n",
       "      <td>Female</td>\n",
       "      <td>0</td>\n",
       "      <td>0</td>\n",
       "      <td>40</td>\n",
       "      <td>Cuba</td>\n",
       "      <td>&lt;=50K</td>\n",
       "    </tr>\n",
       "    <tr>\n",
       "      <th>...</th>\n",
       "      <td>...</td>\n",
       "      <td>...</td>\n",
       "      <td>...</td>\n",
       "      <td>...</td>\n",
       "      <td>...</td>\n",
       "      <td>...</td>\n",
       "      <td>...</td>\n",
       "      <td>...</td>\n",
       "      <td>...</td>\n",
       "      <td>...</td>\n",
       "      <td>...</td>\n",
       "      <td>...</td>\n",
       "      <td>...</td>\n",
       "      <td>...</td>\n",
       "      <td>...</td>\n",
       "    </tr>\n",
       "    <tr>\n",
       "      <th>32556</th>\n",
       "      <td>27</td>\n",
       "      <td>Private</td>\n",
       "      <td>257302</td>\n",
       "      <td>Assoc-acdm</td>\n",
       "      <td>12</td>\n",
       "      <td>Married-civ-spouse</td>\n",
       "      <td>Tech-support</td>\n",
       "      <td>Wife</td>\n",
       "      <td>White</td>\n",
       "      <td>Female</td>\n",
       "      <td>0</td>\n",
       "      <td>0</td>\n",
       "      <td>38</td>\n",
       "      <td>United-States</td>\n",
       "      <td>&lt;=50K</td>\n",
       "    </tr>\n",
       "    <tr>\n",
       "      <th>32557</th>\n",
       "      <td>40</td>\n",
       "      <td>Private</td>\n",
       "      <td>154374</td>\n",
       "      <td>HS-grad</td>\n",
       "      <td>9</td>\n",
       "      <td>Married-civ-spouse</td>\n",
       "      <td>Machine-op-inspct</td>\n",
       "      <td>Husband</td>\n",
       "      <td>White</td>\n",
       "      <td>Male</td>\n",
       "      <td>0</td>\n",
       "      <td>0</td>\n",
       "      <td>40</td>\n",
       "      <td>United-States</td>\n",
       "      <td>&gt;50K</td>\n",
       "    </tr>\n",
       "    <tr>\n",
       "      <th>32558</th>\n",
       "      <td>58</td>\n",
       "      <td>Private</td>\n",
       "      <td>151910</td>\n",
       "      <td>HS-grad</td>\n",
       "      <td>9</td>\n",
       "      <td>Widowed</td>\n",
       "      <td>Adm-clerical</td>\n",
       "      <td>Unmarried</td>\n",
       "      <td>White</td>\n",
       "      <td>Female</td>\n",
       "      <td>0</td>\n",
       "      <td>0</td>\n",
       "      <td>40</td>\n",
       "      <td>United-States</td>\n",
       "      <td>&lt;=50K</td>\n",
       "    </tr>\n",
       "    <tr>\n",
       "      <th>32559</th>\n",
       "      <td>22</td>\n",
       "      <td>Private</td>\n",
       "      <td>201490</td>\n",
       "      <td>HS-grad</td>\n",
       "      <td>9</td>\n",
       "      <td>Never-married</td>\n",
       "      <td>Adm-clerical</td>\n",
       "      <td>Own-child</td>\n",
       "      <td>White</td>\n",
       "      <td>Male</td>\n",
       "      <td>0</td>\n",
       "      <td>0</td>\n",
       "      <td>20</td>\n",
       "      <td>United-States</td>\n",
       "      <td>&lt;=50K</td>\n",
       "    </tr>\n",
       "    <tr>\n",
       "      <th>32560</th>\n",
       "      <td>52</td>\n",
       "      <td>Self-emp-inc</td>\n",
       "      <td>287927</td>\n",
       "      <td>HS-grad</td>\n",
       "      <td>9</td>\n",
       "      <td>Married-civ-spouse</td>\n",
       "      <td>Exec-managerial</td>\n",
       "      <td>Wife</td>\n",
       "      <td>White</td>\n",
       "      <td>Female</td>\n",
       "      <td>15024</td>\n",
       "      <td>0</td>\n",
       "      <td>40</td>\n",
       "      <td>United-States</td>\n",
       "      <td>&gt;50K</td>\n",
       "    </tr>\n",
       "  </tbody>\n",
       "</table>\n",
       "<p>32561 rows × 15 columns</p>\n",
       "</div>"
      ],
      "text/plain": [
       "       0                  1       2            3   4                    5   \\\n",
       "0      39          State-gov   77516    Bachelors  13        Never-married   \n",
       "1      50   Self-emp-not-inc   83311    Bachelors  13   Married-civ-spouse   \n",
       "2      38            Private  215646      HS-grad   9             Divorced   \n",
       "3      53            Private  234721         11th   7   Married-civ-spouse   \n",
       "4      28            Private  338409    Bachelors  13   Married-civ-spouse   \n",
       "...    ..                ...     ...          ...  ..                  ...   \n",
       "32556  27            Private  257302   Assoc-acdm  12   Married-civ-spouse   \n",
       "32557  40            Private  154374      HS-grad   9   Married-civ-spouse   \n",
       "32558  58            Private  151910      HS-grad   9              Widowed   \n",
       "32559  22            Private  201490      HS-grad   9        Never-married   \n",
       "32560  52       Self-emp-inc  287927      HS-grad   9   Married-civ-spouse   \n",
       "\n",
       "                       6               7       8        9      10  11  12  \\\n",
       "0            Adm-clerical   Not-in-family   White     Male   2174   0  40   \n",
       "1         Exec-managerial         Husband   White     Male      0   0  13   \n",
       "2       Handlers-cleaners   Not-in-family   White     Male      0   0  40   \n",
       "3       Handlers-cleaners         Husband   Black     Male      0   0  40   \n",
       "4          Prof-specialty            Wife   Black   Female      0   0  40   \n",
       "...                   ...             ...     ...      ...    ...  ..  ..   \n",
       "32556        Tech-support            Wife   White   Female      0   0  38   \n",
       "32557   Machine-op-inspct         Husband   White     Male      0   0  40   \n",
       "32558        Adm-clerical       Unmarried   White   Female      0   0  40   \n",
       "32559        Adm-clerical       Own-child   White     Male      0   0  20   \n",
       "32560     Exec-managerial            Wife   White   Female  15024   0  40   \n",
       "\n",
       "                   13      14  \n",
       "0       United-States   <=50K  \n",
       "1       United-States   <=50K  \n",
       "2       United-States   <=50K  \n",
       "3       United-States   <=50K  \n",
       "4                Cuba   <=50K  \n",
       "...               ...     ...  \n",
       "32556   United-States   <=50K  \n",
       "32557   United-States    >50K  \n",
       "32558   United-States   <=50K  \n",
       "32559   United-States   <=50K  \n",
       "32560   United-States    >50K  \n",
       "\n",
       "[32561 rows x 15 columns]"
      ]
     },
     "execution_count": 8,
     "metadata": {},
     "output_type": "execute_result"
    }
   ],
   "source": [
    "# first i loaded the dataset\n",
    "df = pd.read_csv('C:/Users/MSI KATANA/Desktop/practice ML/machine L cw 2024/Machine-Learning-CW/dataset for ML cw.csv', header=None)\n",
    "df"
   ]
  },
  {
   "cell_type": "code",
   "execution_count": 23,
   "id": "cdcd9063",
   "metadata": {},
   "outputs": [],
   "source": [
    "column_names = ['Age', 'Employment_Type', 'Weighting_Factor', 'Education', 'School_Period', \n",
    "                'Marital_Status', 'Employment_Area', 'Partnership', 'Ethnicity', 'Gender', \n",
    "                'Gain_Financial', 'Losses_Financial', 'Weekly_Working_Time', 'Birth_Country', 'Income']\n"
   ]
  },
  {
   "cell_type": "code",
   "execution_count": 24,
   "id": "4a5257db",
   "metadata": {},
   "outputs": [
    {
     "data": {
      "text/html": [
       "<div>\n",
       "<style scoped>\n",
       "    .dataframe tbody tr th:only-of-type {\n",
       "        vertical-align: middle;\n",
       "    }\n",
       "\n",
       "    .dataframe tbody tr th {\n",
       "        vertical-align: top;\n",
       "    }\n",
       "\n",
       "    .dataframe thead th {\n",
       "        text-align: right;\n",
       "    }\n",
       "</style>\n",
       "<table border=\"1\" class=\"dataframe\">\n",
       "  <thead>\n",
       "    <tr style=\"text-align: right;\">\n",
       "      <th></th>\n",
       "      <th>Age</th>\n",
       "      <th>Employment_Type</th>\n",
       "      <th>Weighting_Factor</th>\n",
       "      <th>Education</th>\n",
       "      <th>School_Period</th>\n",
       "      <th>Marital_Status</th>\n",
       "      <th>Employment_Area</th>\n",
       "      <th>Partnership</th>\n",
       "      <th>Ethnicity</th>\n",
       "      <th>Gender</th>\n",
       "      <th>Gain_Financial</th>\n",
       "      <th>Losses_Financial</th>\n",
       "      <th>Weekly_Working_Time</th>\n",
       "      <th>Birth_Country</th>\n",
       "      <th>Income</th>\n",
       "    </tr>\n",
       "  </thead>\n",
       "  <tbody>\n",
       "    <tr>\n",
       "      <th>0</th>\n",
       "      <td>39</td>\n",
       "      <td>State-gov</td>\n",
       "      <td>77516</td>\n",
       "      <td>Bachelors</td>\n",
       "      <td>13</td>\n",
       "      <td>Never-married</td>\n",
       "      <td>Adm-clerical</td>\n",
       "      <td>Not-in-family</td>\n",
       "      <td>White</td>\n",
       "      <td>Male</td>\n",
       "      <td>2174</td>\n",
       "      <td>0</td>\n",
       "      <td>40</td>\n",
       "      <td>United-States</td>\n",
       "      <td>&lt;=50K</td>\n",
       "    </tr>\n",
       "    <tr>\n",
       "      <th>1</th>\n",
       "      <td>50</td>\n",
       "      <td>Self-emp-not-inc</td>\n",
       "      <td>83311</td>\n",
       "      <td>Bachelors</td>\n",
       "      <td>13</td>\n",
       "      <td>Married-civ-spouse</td>\n",
       "      <td>Exec-managerial</td>\n",
       "      <td>Husband</td>\n",
       "      <td>White</td>\n",
       "      <td>Male</td>\n",
       "      <td>0</td>\n",
       "      <td>0</td>\n",
       "      <td>13</td>\n",
       "      <td>United-States</td>\n",
       "      <td>&lt;=50K</td>\n",
       "    </tr>\n",
       "    <tr>\n",
       "      <th>2</th>\n",
       "      <td>38</td>\n",
       "      <td>Private</td>\n",
       "      <td>215646</td>\n",
       "      <td>HS-grad</td>\n",
       "      <td>9</td>\n",
       "      <td>Divorced</td>\n",
       "      <td>Handlers-cleaners</td>\n",
       "      <td>Not-in-family</td>\n",
       "      <td>White</td>\n",
       "      <td>Male</td>\n",
       "      <td>0</td>\n",
       "      <td>0</td>\n",
       "      <td>40</td>\n",
       "      <td>United-States</td>\n",
       "      <td>&lt;=50K</td>\n",
       "    </tr>\n",
       "    <tr>\n",
       "      <th>3</th>\n",
       "      <td>53</td>\n",
       "      <td>Private</td>\n",
       "      <td>234721</td>\n",
       "      <td>11th</td>\n",
       "      <td>7</td>\n",
       "      <td>Married-civ-spouse</td>\n",
       "      <td>Handlers-cleaners</td>\n",
       "      <td>Husband</td>\n",
       "      <td>Black</td>\n",
       "      <td>Male</td>\n",
       "      <td>0</td>\n",
       "      <td>0</td>\n",
       "      <td>40</td>\n",
       "      <td>United-States</td>\n",
       "      <td>&lt;=50K</td>\n",
       "    </tr>\n",
       "    <tr>\n",
       "      <th>4</th>\n",
       "      <td>28</td>\n",
       "      <td>Private</td>\n",
       "      <td>338409</td>\n",
       "      <td>Bachelors</td>\n",
       "      <td>13</td>\n",
       "      <td>Married-civ-spouse</td>\n",
       "      <td>Prof-specialty</td>\n",
       "      <td>Wife</td>\n",
       "      <td>Black</td>\n",
       "      <td>Female</td>\n",
       "      <td>0</td>\n",
       "      <td>0</td>\n",
       "      <td>40</td>\n",
       "      <td>Cuba</td>\n",
       "      <td>&lt;=50K</td>\n",
       "    </tr>\n",
       "    <tr>\n",
       "      <th>...</th>\n",
       "      <td>...</td>\n",
       "      <td>...</td>\n",
       "      <td>...</td>\n",
       "      <td>...</td>\n",
       "      <td>...</td>\n",
       "      <td>...</td>\n",
       "      <td>...</td>\n",
       "      <td>...</td>\n",
       "      <td>...</td>\n",
       "      <td>...</td>\n",
       "      <td>...</td>\n",
       "      <td>...</td>\n",
       "      <td>...</td>\n",
       "      <td>...</td>\n",
       "      <td>...</td>\n",
       "    </tr>\n",
       "    <tr>\n",
       "      <th>32556</th>\n",
       "      <td>27</td>\n",
       "      <td>Private</td>\n",
       "      <td>257302</td>\n",
       "      <td>Assoc-acdm</td>\n",
       "      <td>12</td>\n",
       "      <td>Married-civ-spouse</td>\n",
       "      <td>Tech-support</td>\n",
       "      <td>Wife</td>\n",
       "      <td>White</td>\n",
       "      <td>Female</td>\n",
       "      <td>0</td>\n",
       "      <td>0</td>\n",
       "      <td>38</td>\n",
       "      <td>United-States</td>\n",
       "      <td>&lt;=50K</td>\n",
       "    </tr>\n",
       "    <tr>\n",
       "      <th>32557</th>\n",
       "      <td>40</td>\n",
       "      <td>Private</td>\n",
       "      <td>154374</td>\n",
       "      <td>HS-grad</td>\n",
       "      <td>9</td>\n",
       "      <td>Married-civ-spouse</td>\n",
       "      <td>Machine-op-inspct</td>\n",
       "      <td>Husband</td>\n",
       "      <td>White</td>\n",
       "      <td>Male</td>\n",
       "      <td>0</td>\n",
       "      <td>0</td>\n",
       "      <td>40</td>\n",
       "      <td>United-States</td>\n",
       "      <td>&gt;50K</td>\n",
       "    </tr>\n",
       "    <tr>\n",
       "      <th>32558</th>\n",
       "      <td>58</td>\n",
       "      <td>Private</td>\n",
       "      <td>151910</td>\n",
       "      <td>HS-grad</td>\n",
       "      <td>9</td>\n",
       "      <td>Widowed</td>\n",
       "      <td>Adm-clerical</td>\n",
       "      <td>Unmarried</td>\n",
       "      <td>White</td>\n",
       "      <td>Female</td>\n",
       "      <td>0</td>\n",
       "      <td>0</td>\n",
       "      <td>40</td>\n",
       "      <td>United-States</td>\n",
       "      <td>&lt;=50K</td>\n",
       "    </tr>\n",
       "    <tr>\n",
       "      <th>32559</th>\n",
       "      <td>22</td>\n",
       "      <td>Private</td>\n",
       "      <td>201490</td>\n",
       "      <td>HS-grad</td>\n",
       "      <td>9</td>\n",
       "      <td>Never-married</td>\n",
       "      <td>Adm-clerical</td>\n",
       "      <td>Own-child</td>\n",
       "      <td>White</td>\n",
       "      <td>Male</td>\n",
       "      <td>0</td>\n",
       "      <td>0</td>\n",
       "      <td>20</td>\n",
       "      <td>United-States</td>\n",
       "      <td>&lt;=50K</td>\n",
       "    </tr>\n",
       "    <tr>\n",
       "      <th>32560</th>\n",
       "      <td>52</td>\n",
       "      <td>Self-emp-inc</td>\n",
       "      <td>287927</td>\n",
       "      <td>HS-grad</td>\n",
       "      <td>9</td>\n",
       "      <td>Married-civ-spouse</td>\n",
       "      <td>Exec-managerial</td>\n",
       "      <td>Wife</td>\n",
       "      <td>White</td>\n",
       "      <td>Female</td>\n",
       "      <td>15024</td>\n",
       "      <td>0</td>\n",
       "      <td>40</td>\n",
       "      <td>United-States</td>\n",
       "      <td>&gt;50K</td>\n",
       "    </tr>\n",
       "  </tbody>\n",
       "</table>\n",
       "<p>32561 rows × 15 columns</p>\n",
       "</div>"
      ],
      "text/plain": [
       "       Age    Employment_Type  Weighting_Factor    Education  School_Period  \\\n",
       "0       39          State-gov             77516    Bachelors             13   \n",
       "1       50   Self-emp-not-inc             83311    Bachelors             13   \n",
       "2       38            Private            215646      HS-grad              9   \n",
       "3       53            Private            234721         11th              7   \n",
       "4       28            Private            338409    Bachelors             13   \n",
       "...    ...                ...               ...          ...            ...   \n",
       "32556   27            Private            257302   Assoc-acdm             12   \n",
       "32557   40            Private            154374      HS-grad              9   \n",
       "32558   58            Private            151910      HS-grad              9   \n",
       "32559   22            Private            201490      HS-grad              9   \n",
       "32560   52       Self-emp-inc            287927      HS-grad              9   \n",
       "\n",
       "            Marital_Status     Employment_Area     Partnership Ethnicity  \\\n",
       "0            Never-married        Adm-clerical   Not-in-family     White   \n",
       "1       Married-civ-spouse     Exec-managerial         Husband     White   \n",
       "2                 Divorced   Handlers-cleaners   Not-in-family     White   \n",
       "3       Married-civ-spouse   Handlers-cleaners         Husband     Black   \n",
       "4       Married-civ-spouse      Prof-specialty            Wife     Black   \n",
       "...                    ...                 ...             ...       ...   \n",
       "32556   Married-civ-spouse        Tech-support            Wife     White   \n",
       "32557   Married-civ-spouse   Machine-op-inspct         Husband     White   \n",
       "32558              Widowed        Adm-clerical       Unmarried     White   \n",
       "32559        Never-married        Adm-clerical       Own-child     White   \n",
       "32560   Married-civ-spouse     Exec-managerial            Wife     White   \n",
       "\n",
       "        Gender  Gain_Financial  Losses_Financial  Weekly_Working_Time  \\\n",
       "0         Male            2174                 0                   40   \n",
       "1         Male               0                 0                   13   \n",
       "2         Male               0                 0                   40   \n",
       "3         Male               0                 0                   40   \n",
       "4       Female               0                 0                   40   \n",
       "...        ...             ...               ...                  ...   \n",
       "32556   Female               0                 0                   38   \n",
       "32557     Male               0                 0                   40   \n",
       "32558   Female               0                 0                   40   \n",
       "32559     Male               0                 0                   20   \n",
       "32560   Female           15024                 0                   40   \n",
       "\n",
       "        Birth_Country  Income  \n",
       "0       United-States   <=50K  \n",
       "1       United-States   <=50K  \n",
       "2       United-States   <=50K  \n",
       "3       United-States   <=50K  \n",
       "4                Cuba   <=50K  \n",
       "...               ...     ...  \n",
       "32556   United-States   <=50K  \n",
       "32557   United-States    >50K  \n",
       "32558   United-States   <=50K  \n",
       "32559   United-States   <=50K  \n",
       "32560   United-States    >50K  \n",
       "\n",
       "[32561 rows x 15 columns]"
      ]
     },
     "execution_count": 24,
     "metadata": {},
     "output_type": "execute_result"
    }
   ],
   "source": [
    "df.columns = column_names\n",
    "df"
   ]
  },
  {
   "cell_type": "code",
   "execution_count": 25,
   "id": "be7f625a",
   "metadata": {},
   "outputs": [],
   "source": [
    "df.to_csv('dataset_with_column_names.csv', index=False)"
   ]
  },
  {
   "cell_type": "code",
   "execution_count": 26,
   "id": "335fadd7",
   "metadata": {},
   "outputs": [
    {
     "data": {
      "text/html": [
       "<div>\n",
       "<style scoped>\n",
       "    .dataframe tbody tr th:only-of-type {\n",
       "        vertical-align: middle;\n",
       "    }\n",
       "\n",
       "    .dataframe tbody tr th {\n",
       "        vertical-align: top;\n",
       "    }\n",
       "\n",
       "    .dataframe thead th {\n",
       "        text-align: right;\n",
       "    }\n",
       "</style>\n",
       "<table border=\"1\" class=\"dataframe\">\n",
       "  <thead>\n",
       "    <tr style=\"text-align: right;\">\n",
       "      <th></th>\n",
       "      <th>Age</th>\n",
       "      <th>Employment_Type</th>\n",
       "      <th>Weighting_Factor</th>\n",
       "      <th>Education</th>\n",
       "      <th>School_Period</th>\n",
       "      <th>Marital_Status</th>\n",
       "      <th>Employment_Area</th>\n",
       "      <th>Partnership</th>\n",
       "      <th>Ethnicity</th>\n",
       "      <th>Gender</th>\n",
       "      <th>Gain_Financial</th>\n",
       "      <th>Losses_Financial</th>\n",
       "      <th>Weekly_Working_Time</th>\n",
       "      <th>Birth_Country</th>\n",
       "      <th>Income</th>\n",
       "    </tr>\n",
       "  </thead>\n",
       "  <tbody>\n",
       "    <tr>\n",
       "      <th>0</th>\n",
       "      <td>39</td>\n",
       "      <td>State-gov</td>\n",
       "      <td>77516</td>\n",
       "      <td>Bachelors</td>\n",
       "      <td>13</td>\n",
       "      <td>Never-married</td>\n",
       "      <td>Adm-clerical</td>\n",
       "      <td>Not-in-family</td>\n",
       "      <td>White</td>\n",
       "      <td>Male</td>\n",
       "      <td>2174</td>\n",
       "      <td>0</td>\n",
       "      <td>40</td>\n",
       "      <td>United-States</td>\n",
       "      <td>&lt;=50K</td>\n",
       "    </tr>\n",
       "    <tr>\n",
       "      <th>1</th>\n",
       "      <td>50</td>\n",
       "      <td>Self-emp-not-inc</td>\n",
       "      <td>83311</td>\n",
       "      <td>Bachelors</td>\n",
       "      <td>13</td>\n",
       "      <td>Married-civ-spouse</td>\n",
       "      <td>Exec-managerial</td>\n",
       "      <td>Husband</td>\n",
       "      <td>White</td>\n",
       "      <td>Male</td>\n",
       "      <td>0</td>\n",
       "      <td>0</td>\n",
       "      <td>13</td>\n",
       "      <td>United-States</td>\n",
       "      <td>&lt;=50K</td>\n",
       "    </tr>\n",
       "    <tr>\n",
       "      <th>2</th>\n",
       "      <td>38</td>\n",
       "      <td>Private</td>\n",
       "      <td>215646</td>\n",
       "      <td>HS-grad</td>\n",
       "      <td>9</td>\n",
       "      <td>Divorced</td>\n",
       "      <td>Handlers-cleaners</td>\n",
       "      <td>Not-in-family</td>\n",
       "      <td>White</td>\n",
       "      <td>Male</td>\n",
       "      <td>0</td>\n",
       "      <td>0</td>\n",
       "      <td>40</td>\n",
       "      <td>United-States</td>\n",
       "      <td>&lt;=50K</td>\n",
       "    </tr>\n",
       "    <tr>\n",
       "      <th>3</th>\n",
       "      <td>53</td>\n",
       "      <td>Private</td>\n",
       "      <td>234721</td>\n",
       "      <td>11th</td>\n",
       "      <td>7</td>\n",
       "      <td>Married-civ-spouse</td>\n",
       "      <td>Handlers-cleaners</td>\n",
       "      <td>Husband</td>\n",
       "      <td>Black</td>\n",
       "      <td>Male</td>\n",
       "      <td>0</td>\n",
       "      <td>0</td>\n",
       "      <td>40</td>\n",
       "      <td>United-States</td>\n",
       "      <td>&lt;=50K</td>\n",
       "    </tr>\n",
       "    <tr>\n",
       "      <th>4</th>\n",
       "      <td>28</td>\n",
       "      <td>Private</td>\n",
       "      <td>338409</td>\n",
       "      <td>Bachelors</td>\n",
       "      <td>13</td>\n",
       "      <td>Married-civ-spouse</td>\n",
       "      <td>Prof-specialty</td>\n",
       "      <td>Wife</td>\n",
       "      <td>Black</td>\n",
       "      <td>Female</td>\n",
       "      <td>0</td>\n",
       "      <td>0</td>\n",
       "      <td>40</td>\n",
       "      <td>Cuba</td>\n",
       "      <td>&lt;=50K</td>\n",
       "    </tr>\n",
       "    <tr>\n",
       "      <th>...</th>\n",
       "      <td>...</td>\n",
       "      <td>...</td>\n",
       "      <td>...</td>\n",
       "      <td>...</td>\n",
       "      <td>...</td>\n",
       "      <td>...</td>\n",
       "      <td>...</td>\n",
       "      <td>...</td>\n",
       "      <td>...</td>\n",
       "      <td>...</td>\n",
       "      <td>...</td>\n",
       "      <td>...</td>\n",
       "      <td>...</td>\n",
       "      <td>...</td>\n",
       "      <td>...</td>\n",
       "    </tr>\n",
       "    <tr>\n",
       "      <th>32556</th>\n",
       "      <td>27</td>\n",
       "      <td>Private</td>\n",
       "      <td>257302</td>\n",
       "      <td>Assoc-acdm</td>\n",
       "      <td>12</td>\n",
       "      <td>Married-civ-spouse</td>\n",
       "      <td>Tech-support</td>\n",
       "      <td>Wife</td>\n",
       "      <td>White</td>\n",
       "      <td>Female</td>\n",
       "      <td>0</td>\n",
       "      <td>0</td>\n",
       "      <td>38</td>\n",
       "      <td>United-States</td>\n",
       "      <td>&lt;=50K</td>\n",
       "    </tr>\n",
       "    <tr>\n",
       "      <th>32557</th>\n",
       "      <td>40</td>\n",
       "      <td>Private</td>\n",
       "      <td>154374</td>\n",
       "      <td>HS-grad</td>\n",
       "      <td>9</td>\n",
       "      <td>Married-civ-spouse</td>\n",
       "      <td>Machine-op-inspct</td>\n",
       "      <td>Husband</td>\n",
       "      <td>White</td>\n",
       "      <td>Male</td>\n",
       "      <td>0</td>\n",
       "      <td>0</td>\n",
       "      <td>40</td>\n",
       "      <td>United-States</td>\n",
       "      <td>&gt;50K</td>\n",
       "    </tr>\n",
       "    <tr>\n",
       "      <th>32558</th>\n",
       "      <td>58</td>\n",
       "      <td>Private</td>\n",
       "      <td>151910</td>\n",
       "      <td>HS-grad</td>\n",
       "      <td>9</td>\n",
       "      <td>Widowed</td>\n",
       "      <td>Adm-clerical</td>\n",
       "      <td>Unmarried</td>\n",
       "      <td>White</td>\n",
       "      <td>Female</td>\n",
       "      <td>0</td>\n",
       "      <td>0</td>\n",
       "      <td>40</td>\n",
       "      <td>United-States</td>\n",
       "      <td>&lt;=50K</td>\n",
       "    </tr>\n",
       "    <tr>\n",
       "      <th>32559</th>\n",
       "      <td>22</td>\n",
       "      <td>Private</td>\n",
       "      <td>201490</td>\n",
       "      <td>HS-grad</td>\n",
       "      <td>9</td>\n",
       "      <td>Never-married</td>\n",
       "      <td>Adm-clerical</td>\n",
       "      <td>Own-child</td>\n",
       "      <td>White</td>\n",
       "      <td>Male</td>\n",
       "      <td>0</td>\n",
       "      <td>0</td>\n",
       "      <td>20</td>\n",
       "      <td>United-States</td>\n",
       "      <td>&lt;=50K</td>\n",
       "    </tr>\n",
       "    <tr>\n",
       "      <th>32560</th>\n",
       "      <td>52</td>\n",
       "      <td>Self-emp-inc</td>\n",
       "      <td>287927</td>\n",
       "      <td>HS-grad</td>\n",
       "      <td>9</td>\n",
       "      <td>Married-civ-spouse</td>\n",
       "      <td>Exec-managerial</td>\n",
       "      <td>Wife</td>\n",
       "      <td>White</td>\n",
       "      <td>Female</td>\n",
       "      <td>15024</td>\n",
       "      <td>0</td>\n",
       "      <td>40</td>\n",
       "      <td>United-States</td>\n",
       "      <td>&gt;50K</td>\n",
       "    </tr>\n",
       "  </tbody>\n",
       "</table>\n",
       "<p>32561 rows × 15 columns</p>\n",
       "</div>"
      ],
      "text/plain": [
       "       Age    Employment_Type  Weighting_Factor    Education  School_Period  \\\n",
       "0       39          State-gov             77516    Bachelors             13   \n",
       "1       50   Self-emp-not-inc             83311    Bachelors             13   \n",
       "2       38            Private            215646      HS-grad              9   \n",
       "3       53            Private            234721         11th              7   \n",
       "4       28            Private            338409    Bachelors             13   \n",
       "...    ...                ...               ...          ...            ...   \n",
       "32556   27            Private            257302   Assoc-acdm             12   \n",
       "32557   40            Private            154374      HS-grad              9   \n",
       "32558   58            Private            151910      HS-grad              9   \n",
       "32559   22            Private            201490      HS-grad              9   \n",
       "32560   52       Self-emp-inc            287927      HS-grad              9   \n",
       "\n",
       "            Marital_Status     Employment_Area     Partnership Ethnicity  \\\n",
       "0            Never-married        Adm-clerical   Not-in-family     White   \n",
       "1       Married-civ-spouse     Exec-managerial         Husband     White   \n",
       "2                 Divorced   Handlers-cleaners   Not-in-family     White   \n",
       "3       Married-civ-spouse   Handlers-cleaners         Husband     Black   \n",
       "4       Married-civ-spouse      Prof-specialty            Wife     Black   \n",
       "...                    ...                 ...             ...       ...   \n",
       "32556   Married-civ-spouse        Tech-support            Wife     White   \n",
       "32557   Married-civ-spouse   Machine-op-inspct         Husband     White   \n",
       "32558              Widowed        Adm-clerical       Unmarried     White   \n",
       "32559        Never-married        Adm-clerical       Own-child     White   \n",
       "32560   Married-civ-spouse     Exec-managerial            Wife     White   \n",
       "\n",
       "        Gender  Gain_Financial  Losses_Financial  Weekly_Working_Time  \\\n",
       "0         Male            2174                 0                   40   \n",
       "1         Male               0                 0                   13   \n",
       "2         Male               0                 0                   40   \n",
       "3         Male               0                 0                   40   \n",
       "4       Female               0                 0                   40   \n",
       "...        ...             ...               ...                  ...   \n",
       "32556   Female               0                 0                   38   \n",
       "32557     Male               0                 0                   40   \n",
       "32558   Female               0                 0                   40   \n",
       "32559     Male               0                 0                   20   \n",
       "32560   Female           15024                 0                   40   \n",
       "\n",
       "        Birth_Country  Income  \n",
       "0       United-States   <=50K  \n",
       "1       United-States   <=50K  \n",
       "2       United-States   <=50K  \n",
       "3       United-States   <=50K  \n",
       "4                Cuba   <=50K  \n",
       "...               ...     ...  \n",
       "32556   United-States   <=50K  \n",
       "32557   United-States    >50K  \n",
       "32558   United-States   <=50K  \n",
       "32559   United-States   <=50K  \n",
       "32560   United-States    >50K  \n",
       "\n",
       "[32561 rows x 15 columns]"
      ]
     },
     "execution_count": 26,
     "metadata": {},
     "output_type": "execute_result"
    }
   ],
   "source": [
    "df1 = pd.read_csv('C:/Users/MSI KATANA/Desktop/practice ML/machine L cw 2024/Machine-Learning-CW/dataset_with_column_names.csv')\n",
    "df1"
   ]
  },
  {
   "cell_type": "code",
   "execution_count": 27,
   "id": "f76d18c7",
   "metadata": {},
   "outputs": [],
   "source": [
    "# checking for the missing values"
   ]
  },
  {
   "cell_type": "code",
   "execution_count": 28,
   "id": "1f582c71",
   "metadata": {},
   "outputs": [],
   "source": [
    "missing_values = df1.isnull()\n",
    "# taking the count\n",
    "missing_counts = missing_values.sum()"
   ]
  },
  {
   "cell_type": "code",
   "execution_count": 29,
   "id": "8a076573",
   "metadata": {},
   "outputs": [
    {
     "name": "stdout",
     "output_type": "stream",
     "text": [
      "Missing Values:\n",
      "Age                    0\n",
      "Employment_Type        0\n",
      "Weighting_Factor       0\n",
      "Education              0\n",
      "School_Period          0\n",
      "Marital_Status         0\n",
      "Employment_Area        0\n",
      "Partnership            0\n",
      "Ethnicity              0\n",
      "Gender                 0\n",
      "Gain_Financial         0\n",
      "Losses_Financial       0\n",
      "Weekly_Working_Time    0\n",
      "Birth_Country          0\n",
      "Income                 0\n",
      "dtype: int64\n"
     ]
    }
   ],
   "source": [
    "print(\"Missing Values:\")\n",
    "print(missing_counts)"
   ]
  },
  {
   "cell_type": "code",
   "execution_count": 30,
   "id": "433da373",
   "metadata": {},
   "outputs": [
    {
     "name": "stdout",
     "output_type": "stream",
     "text": [
      "\n",
      "Summary of Missing Values and Data Types:\n",
      "<class 'pandas.core.frame.DataFrame'>\n",
      "RangeIndex: 32561 entries, 0 to 32560\n",
      "Data columns (total 15 columns):\n",
      " #   Column               Non-Null Count  Dtype \n",
      "---  ------               --------------  ----- \n",
      " 0   Age                  32561 non-null  int64 \n",
      " 1   Employment_Type      32561 non-null  object\n",
      " 2   Weighting_Factor     32561 non-null  int64 \n",
      " 3   Education            32561 non-null  object\n",
      " 4   School_Period        32561 non-null  int64 \n",
      " 5   Marital_Status       32561 non-null  object\n",
      " 6   Employment_Area      32561 non-null  object\n",
      " 7   Partnership          32561 non-null  object\n",
      " 8   Ethnicity            32561 non-null  object\n",
      " 9   Gender               32561 non-null  object\n",
      " 10  Gain_Financial       32561 non-null  int64 \n",
      " 11  Losses_Financial     32561 non-null  int64 \n",
      " 12  Weekly_Working_Time  32561 non-null  int64 \n",
      " 13  Birth_Country        32561 non-null  object\n",
      " 14  Income               32561 non-null  object\n",
      "dtypes: int64(6), object(9)\n",
      "memory usage: 3.7+ MB\n",
      "None\n"
     ]
    }
   ],
   "source": [
    "print(\"\\nSummary of Missing Values and Data Types:\")\n",
    "print(df.info())"
   ]
  },
  {
   "cell_type": "code",
   "execution_count": 33,
   "id": "cabdbe6b",
   "metadata": {},
   "outputs": [],
   "source": [
    "# cheking for unique values"
   ]
  },
  {
   "cell_type": "code",
   "execution_count": 38,
   "id": "7ed1108e",
   "metadata": {},
   "outputs": [
    {
     "data": {
      "text/plain": [
       "array([39, 50, 38, 53, 28, 37, 49, 52, 31, 42, 30, 23, 32, 40, 34, 25, 43,\n",
       "       54, 35, 59, 56, 19, 20, 45, 22, 48, 21, 24, 57, 44, 41, 29, 18, 47,\n",
       "       46, 36, 79, 27, 67, 33, 76, 55, 61, 70, 64, 71, 68, 66, 51, 58, 26,\n",
       "       60, 90, 75, 65, 77, 62, 63, 80, 72, 74, 69, 73, 81, 78, 88, 82, 83,\n",
       "       84, 85, 86, 87], dtype=int64)"
      ]
     },
     "execution_count": 38,
     "metadata": {},
     "output_type": "execute_result"
    }
   ],
   "source": [
    "df1['Age'].unique()\n",
    "# here i considerd people over 18 years are adults"
   ]
  },
  {
   "cell_type": "code",
   "execution_count": 39,
   "id": "c83d70ef",
   "metadata": {},
   "outputs": [],
   "source": [
    "# List of values to remove\n",
    "values_to_remove = [17]\n",
    "\n",
    "# Filter the DataFrame to exclude rows with specified values\n",
    "df1 = df1[~df1['Age'].isin(values_to_remove)]\n"
   ]
  },
  {
   "cell_type": "code",
   "execution_count": 40,
   "id": "ae6dbf25",
   "metadata": {},
   "outputs": [
    {
     "data": {
      "text/plain": [
       "array([39, 50, 38, 53, 28, 37, 49, 52, 31, 42, 30, 23, 32, 40, 34, 25, 43,\n",
       "       54, 35, 59, 56, 19, 20, 45, 22, 48, 21, 24, 57, 44, 41, 29, 18, 47,\n",
       "       46, 36, 79, 27, 67, 33, 76, 55, 61, 70, 64, 71, 68, 66, 51, 58, 26,\n",
       "       60, 90, 75, 65, 77, 62, 63, 80, 72, 74, 69, 73, 81, 78, 88, 82, 83,\n",
       "       84, 85, 86, 87], dtype=int64)"
      ]
     },
     "execution_count": 40,
     "metadata": {},
     "output_type": "execute_result"
    }
   ],
   "source": [
    "df1['Age'].unique()"
   ]
  },
  {
   "cell_type": "code",
   "execution_count": 41,
   "id": "1fc8c9dc",
   "metadata": {},
   "outputs": [
    {
     "data": {
      "text/plain": [
       "array([' State-gov', ' Self-emp-not-inc', ' Private', ' Federal-gov',\n",
       "       ' Local-gov', ' ?', ' Self-emp-inc', ' Without-pay',\n",
       "       ' Never-worked'], dtype=object)"
      ]
     },
     "execution_count": 41,
     "metadata": {},
     "output_type": "execute_result"
    }
   ],
   "source": [
    "df1['Employment_Type'].unique()"
   ]
  },
  {
   "cell_type": "code",
   "execution_count": 42,
   "id": "d76f0e5f",
   "metadata": {},
   "outputs": [],
   "source": [
    "# List of values to remove\n",
    "values_to_remove = [' ?']\n",
    "\n",
    "# Filter the DataFrame to exclude rows with specified values\n",
    "df1 = df1[~df1['Employment_Type'].isin(values_to_remove)]\n"
   ]
  },
  {
   "cell_type": "code",
   "execution_count": 43,
   "id": "2dfb3798",
   "metadata": {},
   "outputs": [
    {
     "data": {
      "text/plain": [
       "array([' State-gov', ' Self-emp-not-inc', ' Private', ' Federal-gov',\n",
       "       ' Local-gov', ' Self-emp-inc', ' Without-pay', ' Never-worked'],\n",
       "      dtype=object)"
      ]
     },
     "execution_count": 43,
     "metadata": {},
     "output_type": "execute_result"
    }
   ],
   "source": [
    "df1['Employment_Type'].unique()"
   ]
  },
  {
   "cell_type": "code",
   "execution_count": 51,
   "id": "1fde370b",
   "metadata": {},
   "outputs": [
    {
     "data": {
      "text/plain": [
       "array([ 77516,  83311, 215646, ...,  84661, 257302, 201490], dtype=int64)"
      ]
     },
     "execution_count": 51,
     "metadata": {},
     "output_type": "execute_result"
    }
   ],
   "source": [
    "df1['Weighting_Factor'].unique()"
   ]
  },
  {
   "cell_type": "code",
   "execution_count": 52,
   "id": "b1286f41",
   "metadata": {},
   "outputs": [
    {
     "name": "stdout",
     "output_type": "stream",
     "text": [
      "Number of unique values in 'Weighting_Factor' column: 20199\n"
     ]
    }
   ],
   "source": [
    "# Count the number of unique values in the 'Weighting_Factor' column\n",
    "unique_count = df1['Weighting_Factor'].nunique()\n",
    "\n",
    "# Print the number of unique values\n",
    "print(\"Number of unique values in 'Weighting_Factor' column:\", unique_count)\n"
   ]
  },
  {
   "cell_type": "code",
   "execution_count": 53,
   "id": "029f2aed",
   "metadata": {},
   "outputs": [],
   "source": [
    "# check the unwanted values of above column"
   ]
  },
  {
   "cell_type": "code",
   "execution_count": 54,
   "id": "96ddc7c8",
   "metadata": {},
   "outputs": [
    {
     "data": {
      "text/plain": [
       "array([' Bachelors', ' HS-grad', ' 11th', ' Masters', ' 9th',\n",
       "       ' Some-college', ' Assoc-acdm', ' Assoc-voc', ' 7th-8th',\n",
       "       ' Doctorate', ' Prof-school', ' 5th-6th', ' 10th', ' Preschool',\n",
       "       ' 12th', ' 1st-4th'], dtype=object)"
      ]
     },
     "execution_count": 54,
     "metadata": {},
     "output_type": "execute_result"
    }
   ],
   "source": [
    "df1['Education'].unique()"
   ]
  },
  {
   "cell_type": "code",
   "execution_count": 55,
   "id": "b3e0cee8",
   "metadata": {},
   "outputs": [],
   "source": [
    "# here looks like no unwanted features"
   ]
  },
  {
   "cell_type": "code",
   "execution_count": 56,
   "id": "931da961",
   "metadata": {},
   "outputs": [
    {
     "data": {
      "text/plain": [
       "array([13,  9,  7, 14,  5, 10, 12, 11,  4, 16, 15,  3,  6,  1,  8,  2],\n",
       "      dtype=int64)"
      ]
     },
     "execution_count": 56,
     "metadata": {},
     "output_type": "execute_result"
    }
   ],
   "source": [
    "df1['School_Period'].unique()"
   ]
  },
  {
   "cell_type": "code",
   "execution_count": 57,
   "id": "6a5fb5fe",
   "metadata": {},
   "outputs": [],
   "source": [
    "# here looks like no unwanted features"
   ]
  },
  {
   "cell_type": "code",
   "execution_count": 58,
   "id": "571c1c24",
   "metadata": {},
   "outputs": [
    {
     "data": {
      "text/plain": [
       "array([' Never-married', ' Married-civ-spouse', ' Divorced',\n",
       "       ' Married-spouse-absent', ' Separated', ' Married-AF-spouse',\n",
       "       ' Widowed'], dtype=object)"
      ]
     },
     "execution_count": 58,
     "metadata": {},
     "output_type": "execute_result"
    }
   ],
   "source": [
    "df1['Marital_Status'].unique()"
   ]
  },
  {
   "cell_type": "code",
   "execution_count": 59,
   "id": "8d3f1f73",
   "metadata": {},
   "outputs": [],
   "source": [
    "# Married-spouse-absent means legally married but their spouse is not currently living with them"
   ]
  },
  {
   "cell_type": "code",
   "execution_count": 60,
   "id": "73b19b0e",
   "metadata": {},
   "outputs": [],
   "source": [
    "# here looks like no unwanted features"
   ]
  },
  {
   "cell_type": "code",
   "execution_count": 61,
   "id": "2fe6a92f",
   "metadata": {},
   "outputs": [
    {
     "data": {
      "text/plain": [
       "array([' Adm-clerical', ' Exec-managerial', ' Handlers-cleaners',\n",
       "       ' Prof-specialty', ' Other-service', ' Sales', ' Craft-repair',\n",
       "       ' Transport-moving', ' Farming-fishing', ' Machine-op-inspct',\n",
       "       ' Tech-support', ' Protective-serv', ' Armed-Forces',\n",
       "       ' Priv-house-serv', ' ?'], dtype=object)"
      ]
     },
     "execution_count": 61,
     "metadata": {},
     "output_type": "execute_result"
    }
   ],
   "source": [
    "df1['Employment_Area'].unique()"
   ]
  },
  {
   "cell_type": "code",
   "execution_count": 62,
   "id": "f21dcfd4",
   "metadata": {},
   "outputs": [],
   "source": [
    "# List of values to remove\n",
    "values_to_remove = [' ?']\n",
    "\n",
    "# Filter the DataFrame to exclude rows with specified values\n",
    "df1 = df1[~df1['Employment_Area'].isin(values_to_remove)]\n"
   ]
  },
  {
   "cell_type": "code",
   "execution_count": 63,
   "id": "a51899b4",
   "metadata": {},
   "outputs": [
    {
     "data": {
      "text/plain": [
       "array([' Adm-clerical', ' Exec-managerial', ' Handlers-cleaners',\n",
       "       ' Prof-specialty', ' Other-service', ' Sales', ' Craft-repair',\n",
       "       ' Transport-moving', ' Farming-fishing', ' Machine-op-inspct',\n",
       "       ' Tech-support', ' Protective-serv', ' Armed-Forces',\n",
       "       ' Priv-house-serv'], dtype=object)"
      ]
     },
     "execution_count": 63,
     "metadata": {},
     "output_type": "execute_result"
    }
   ],
   "source": [
    "df1['Employment_Area'].unique()"
   ]
  },
  {
   "cell_type": "code",
   "execution_count": 64,
   "id": "48a701f9",
   "metadata": {},
   "outputs": [
    {
     "data": {
      "text/plain": [
       "array([' Not-in-family', ' Husband', ' Wife', ' Own-child', ' Unmarried',\n",
       "       ' Other-relative'], dtype=object)"
      ]
     },
     "execution_count": 64,
     "metadata": {},
     "output_type": "execute_result"
    }
   ],
   "source": [
    "df1['Partnership'].unique()"
   ]
  },
  {
   "cell_type": "code",
   "execution_count": 65,
   "id": "93bda92f",
   "metadata": {},
   "outputs": [],
   "source": [
    "# here looks like no unwanted features"
   ]
  },
  {
   "cell_type": "code",
   "execution_count": 66,
   "id": "192e1b8d",
   "metadata": {},
   "outputs": [
    {
     "data": {
      "text/plain": [
       "array([' White', ' Black', ' Asian-Pac-Islander', ' Amer-Indian-Eskimo',\n",
       "       ' Other'], dtype=object)"
      ]
     },
     "execution_count": 66,
     "metadata": {},
     "output_type": "execute_result"
    }
   ],
   "source": [
    "df1['Ethnicity'].unique()"
   ]
  },
  {
   "cell_type": "code",
   "execution_count": 67,
   "id": "479e9674",
   "metadata": {},
   "outputs": [],
   "source": [
    "# here looks like no unwanted features"
   ]
  },
  {
   "cell_type": "code",
   "execution_count": 68,
   "id": "d4d63cc4",
   "metadata": {},
   "outputs": [
    {
     "data": {
      "text/plain": [
       "array([' Male', ' Female'], dtype=object)"
      ]
     },
     "execution_count": 68,
     "metadata": {},
     "output_type": "execute_result"
    }
   ],
   "source": [
    "df1['Gender'].unique()  "
   ]
  },
  {
   "cell_type": "code",
   "execution_count": 69,
   "id": "a6ec7e84",
   "metadata": {},
   "outputs": [],
   "source": [
    "# here looks like no unwanted features"
   ]
  },
  {
   "cell_type": "code",
   "execution_count": 110,
   "id": "c5f72894",
   "metadata": {},
   "outputs": [
    {
     "data": {
      "text/plain": [
       "array([ 2174,     0, 14084,  5178,  5013,  2407, 14344, 15024,  7688,\n",
       "        4064,  4386,  7298,  1409,  3674,  2050,   594, 20051,  6849,\n",
       "        1055,  4101,  8614,  3411,  2597, 25236,  4650,  2463,  3103,\n",
       "       10605,  2964,  3325,  2580,  3471,  4865, 99999,  6514,  1471,\n",
       "        2329,  2105,  2885, 10520,  2202,  2961, 27828,  6767,  2228,\n",
       "        1506, 13550,  2635,  5556,  4787,  3781,  3137,  3818,   914,\n",
       "         401,  2829,  2977,  4934,  2062,  2354,  3464,  5455, 15020,\n",
       "        1424,  3273, 22040,  4416, 10566,  4931,  7430, 34095,  6497,\n",
       "        3908,   114,  2346,  2907,  1151,  9386,  2414,  2290,  3418,\n",
       "       15831, 41310,  4508,  2538,  3456,  1848,  3887,  7896,  5721,\n",
       "        9562,  6418,  1455,  2036,  3942,  1831,  2176, 11678,  2936,\n",
       "        2993,  7443,  6360,  4687,  1797,  6723,  2009,  3432,  6097,\n",
       "        1639,  2653, 18481, 25124,  7978,   991,  1173,  2387,  5060,\n",
       "        1086], dtype=int64)"
      ]
     },
     "execution_count": 110,
     "metadata": {},
     "output_type": "execute_result"
    }
   ],
   "source": [
    "df1['Gain_Financial'].unique()"
   ]
  },
  {
   "cell_type": "code",
   "execution_count": 107,
   "id": "cc18e2f1",
   "metadata": {},
   "outputs": [
    {
     "data": {
      "text/plain": [
       "array([ 2174,     0, 14084,  5178,  5013,  2407, 14344, 15024,  7688,\n",
       "        4064,  4386,  7298,  1409,  3674,  2050,   594, 20051,  6849,\n",
       "        1055,  4101,  8614,  3411,  2597, 25236,  4650,  2463,  3103,\n",
       "       10605,  2964,  3325,  2580,  3471,  4865, 99999,  6514,  1471,\n",
       "        2329,  2105,  2885, 10520,  2202,  2961, 27828,  6767,  2228,\n",
       "        1506, 13550,  2635,  5556,  4787,  3781,  3137,  3818,   914,\n",
       "         401,  2829,  2977,  4934,  2062,  2354,  3464,  5455, 15020,\n",
       "        1424,  3273, 22040,  4416, 10566,  4931,  7430, 34095,  6497,\n",
       "        3908,   114,  2346,  2907,  1151,  9386,  2414,  2290,  3418,\n",
       "       15831, 41310,  4508,  2538,  3456,  1848,  3887,  7896,  5721,\n",
       "        9562,  6418,  1455,  2036,  3942,  1831,  2176, 11678,  2936,\n",
       "        2993,  7443,  6360,  4687,  1797,  6723,  2009,  3432,  6097,\n",
       "        1639,  2653, 18481, 25124,  7978,   991,  1173,  2387,  5060,\n",
       "        1086], dtype=int64)"
      ]
     },
     "execution_count": 107,
     "metadata": {},
     "output_type": "execute_result"
    }
   ],
   "source": [
    "df1['Gain_Financial'].unique() "
   ]
  },
  {
   "cell_type": "code",
   "execution_count": 71,
   "id": "54b2d6a9",
   "metadata": {},
   "outputs": [],
   "source": [
    "## need to consider with attribute and their aspect for further cleaning"
   ]
  },
  {
   "cell_type": "code",
   "execution_count": null,
   "id": "664a573d",
   "metadata": {},
   "outputs": [],
   "source": []
  },
  {
   "cell_type": "code",
   "execution_count": 72,
   "id": "e66173d0",
   "metadata": {},
   "outputs": [
    {
     "data": {
      "text/plain": [
       "array([   0, 2042, 1408, 1902, 1573, 1887, 1719, 1762, 1564, 2179, 1816,\n",
       "       1980, 1977, 1876, 1340, 2206, 1741, 1485, 2339, 2415, 1380, 1721,\n",
       "       2051, 2377, 1669, 2352, 1672,  653, 2392, 1504, 1590, 1651, 1628,\n",
       "       1848, 2001, 1740, 2002, 1579, 2258, 1602, 2547, 2205, 1726, 2444,\n",
       "       1138, 2238,  625,  213, 1539,  880, 1668, 1092, 1594, 3004, 2231,\n",
       "       1844,  810, 2824, 2559, 2057, 1974,  974, 2174, 2149, 1735, 1258,\n",
       "       2129, 2603, 2282,  323, 2246, 1617, 1648, 1825, 3770, 1755, 3683,\n",
       "       4356, 2267, 2080, 2457,  419,  155, 3900, 2201, 1944, 2467, 2754,\n",
       "       2472, 1411], dtype=int64)"
      ]
     },
     "execution_count": 72,
     "metadata": {},
     "output_type": "execute_result"
    }
   ],
   "source": [
    "df1['Losses_Financial'].unique() "
   ]
  },
  {
   "cell_type": "code",
   "execution_count": 73,
   "id": "1a9bdb11",
   "metadata": {},
   "outputs": [],
   "source": [
    "## need to consider with attribute and their aspect for further cleaning"
   ]
  },
  {
   "cell_type": "code",
   "execution_count": 74,
   "id": "75e88647",
   "metadata": {},
   "outputs": [
    {
     "data": {
      "text/plain": [
       "array([40, 13, 16, 45, 50, 80, 30, 35, 60, 20, 52, 44, 15, 25, 38, 43, 55,\n",
       "       48, 58, 32, 70, 22, 56, 41, 28, 36, 24, 46,  2, 42, 12, 65,  1, 34,\n",
       "       75, 98, 33, 54, 10,  6, 64, 19, 72,  8,  9, 47, 37, 26, 14,  5, 59,\n",
       "       18,  7, 99, 53, 39, 62, 57, 78, 90, 66, 11, 49, 84,  4, 68, 21,  3,\n",
       "       27, 85, 17, 31, 51, 77, 63, 23, 87, 88, 73, 89, 97, 94, 29, 96, 67,\n",
       "       82, 86, 91, 81, 76, 92, 61, 74, 95], dtype=int64)"
      ]
     },
     "execution_count": 74,
     "metadata": {},
     "output_type": "execute_result"
    }
   ],
   "source": [
    "df1['Weekly_Working_Time'].unique()"
   ]
  },
  {
   "cell_type": "code",
   "execution_count": 75,
   "id": "0c2480cd",
   "metadata": {},
   "outputs": [],
   "source": [
    "# seems no error"
   ]
  },
  {
   "cell_type": "code",
   "execution_count": 76,
   "id": "fa51af8d",
   "metadata": {},
   "outputs": [
    {
     "data": {
      "text/plain": [
       "array([' United-States', ' Cuba', ' Jamaica', ' India', ' ?', ' Mexico',\n",
       "       ' Puerto-Rico', ' Honduras', ' England', ' Canada', ' Germany',\n",
       "       ' Iran', ' Philippines', ' Poland', ' Columbia', ' Cambodia',\n",
       "       ' Thailand', ' Ecuador', ' Laos', ' Taiwan', ' Haiti', ' Portugal',\n",
       "       ' Dominican-Republic', ' El-Salvador', ' France', ' Guatemala',\n",
       "       ' Italy', ' China', ' South', ' Japan', ' Yugoslavia', ' Peru',\n",
       "       ' Outlying-US(Guam-USVI-etc)', ' Scotland', ' Trinadad&Tobago',\n",
       "       ' Greece', ' Nicaragua', ' Vietnam', ' Hong', ' Ireland',\n",
       "       ' Hungary', ' Holand-Netherlands'], dtype=object)"
      ]
     },
     "execution_count": 76,
     "metadata": {},
     "output_type": "execute_result"
    }
   ],
   "source": [
    "df1['Birth_Country'].unique()"
   ]
  },
  {
   "cell_type": "code",
   "execution_count": 79,
   "id": "2c933242",
   "metadata": {},
   "outputs": [],
   "source": [
    "# List of values to remove\n",
    "values_to_remove = [' ?']\n",
    "\n",
    "# Filter the DataFrame to exclude rows with specified values\n",
    "df1 = df1[~df1['Birth_Country'].isin(values_to_remove)]\n"
   ]
  },
  {
   "cell_type": "code",
   "execution_count": 80,
   "id": "c1716456",
   "metadata": {},
   "outputs": [
    {
     "data": {
      "text/plain": [
       "array([' United-States', ' Cuba', ' Jamaica', ' India', ' Mexico',\n",
       "       ' Puerto-Rico', ' Honduras', ' England', ' Canada', ' Germany',\n",
       "       ' Iran', ' Philippines', ' Poland', ' Columbia', ' Cambodia',\n",
       "       ' Thailand', ' Ecuador', ' Laos', ' Taiwan', ' Haiti', ' Portugal',\n",
       "       ' Dominican-Republic', ' El-Salvador', ' France', ' Guatemala',\n",
       "       ' Italy', ' China', ' South', ' Japan', ' Yugoslavia', ' Peru',\n",
       "       ' Outlying-US(Guam-USVI-etc)', ' Scotland', ' Trinadad&Tobago',\n",
       "       ' Greece', ' Nicaragua', ' Vietnam', ' Hong', ' Ireland',\n",
       "       ' Hungary', ' Holand-Netherlands'], dtype=object)"
      ]
     },
     "execution_count": 80,
     "metadata": {},
     "output_type": "execute_result"
    }
   ],
   "source": [
    "df1['Birth_Country'].unique()"
   ]
  },
  {
   "cell_type": "code",
   "execution_count": 81,
   "id": "05d68fa9",
   "metadata": {},
   "outputs": [
    {
     "data": {
      "text/plain": [
       "array([' <=50K', ' >50K'], dtype=object)"
      ]
     },
     "execution_count": 81,
     "metadata": {},
     "output_type": "execute_result"
    }
   ],
   "source": [
    "df1['Income'].unique()"
   ]
  },
  {
   "cell_type": "code",
   "execution_count": 82,
   "id": "8d08561a",
   "metadata": {},
   "outputs": [],
   "source": [
    "# seems no error"
   ]
  },
  {
   "cell_type": "code",
   "execution_count": 83,
   "id": "8db86b09",
   "metadata": {},
   "outputs": [
    {
     "data": {
      "text/html": [
       "<div>\n",
       "<style scoped>\n",
       "    .dataframe tbody tr th:only-of-type {\n",
       "        vertical-align: middle;\n",
       "    }\n",
       "\n",
       "    .dataframe tbody tr th {\n",
       "        vertical-align: top;\n",
       "    }\n",
       "\n",
       "    .dataframe thead th {\n",
       "        text-align: right;\n",
       "    }\n",
       "</style>\n",
       "<table border=\"1\" class=\"dataframe\">\n",
       "  <thead>\n",
       "    <tr style=\"text-align: right;\">\n",
       "      <th></th>\n",
       "      <th>Age</th>\n",
       "      <th>Employment_Type</th>\n",
       "      <th>Weighting_Factor</th>\n",
       "      <th>Education</th>\n",
       "      <th>School_Period</th>\n",
       "      <th>Marital_Status</th>\n",
       "      <th>Employment_Area</th>\n",
       "      <th>Partnership</th>\n",
       "      <th>Ethnicity</th>\n",
       "      <th>Gender</th>\n",
       "      <th>Gain_Financial</th>\n",
       "      <th>Losses_Financial</th>\n",
       "      <th>Weekly_Working_Time</th>\n",
       "      <th>Birth_Country</th>\n",
       "      <th>Income</th>\n",
       "    </tr>\n",
       "  </thead>\n",
       "  <tbody>\n",
       "    <tr>\n",
       "      <th>0</th>\n",
       "      <td>39</td>\n",
       "      <td>State-gov</td>\n",
       "      <td>77516</td>\n",
       "      <td>Bachelors</td>\n",
       "      <td>13</td>\n",
       "      <td>Never-married</td>\n",
       "      <td>Adm-clerical</td>\n",
       "      <td>Not-in-family</td>\n",
       "      <td>White</td>\n",
       "      <td>Male</td>\n",
       "      <td>2174</td>\n",
       "      <td>0</td>\n",
       "      <td>40</td>\n",
       "      <td>United-States</td>\n",
       "      <td>&lt;=50K</td>\n",
       "    </tr>\n",
       "    <tr>\n",
       "      <th>1</th>\n",
       "      <td>50</td>\n",
       "      <td>Self-emp-not-inc</td>\n",
       "      <td>83311</td>\n",
       "      <td>Bachelors</td>\n",
       "      <td>13</td>\n",
       "      <td>Married-civ-spouse</td>\n",
       "      <td>Exec-managerial</td>\n",
       "      <td>Husband</td>\n",
       "      <td>White</td>\n",
       "      <td>Male</td>\n",
       "      <td>0</td>\n",
       "      <td>0</td>\n",
       "      <td>13</td>\n",
       "      <td>United-States</td>\n",
       "      <td>&lt;=50K</td>\n",
       "    </tr>\n",
       "    <tr>\n",
       "      <th>2</th>\n",
       "      <td>38</td>\n",
       "      <td>Private</td>\n",
       "      <td>215646</td>\n",
       "      <td>HS-grad</td>\n",
       "      <td>9</td>\n",
       "      <td>Divorced</td>\n",
       "      <td>Handlers-cleaners</td>\n",
       "      <td>Not-in-family</td>\n",
       "      <td>White</td>\n",
       "      <td>Male</td>\n",
       "      <td>0</td>\n",
       "      <td>0</td>\n",
       "      <td>40</td>\n",
       "      <td>United-States</td>\n",
       "      <td>&lt;=50K</td>\n",
       "    </tr>\n",
       "    <tr>\n",
       "      <th>3</th>\n",
       "      <td>53</td>\n",
       "      <td>Private</td>\n",
       "      <td>234721</td>\n",
       "      <td>11th</td>\n",
       "      <td>7</td>\n",
       "      <td>Married-civ-spouse</td>\n",
       "      <td>Handlers-cleaners</td>\n",
       "      <td>Husband</td>\n",
       "      <td>Black</td>\n",
       "      <td>Male</td>\n",
       "      <td>0</td>\n",
       "      <td>0</td>\n",
       "      <td>40</td>\n",
       "      <td>United-States</td>\n",
       "      <td>&lt;=50K</td>\n",
       "    </tr>\n",
       "    <tr>\n",
       "      <th>4</th>\n",
       "      <td>28</td>\n",
       "      <td>Private</td>\n",
       "      <td>338409</td>\n",
       "      <td>Bachelors</td>\n",
       "      <td>13</td>\n",
       "      <td>Married-civ-spouse</td>\n",
       "      <td>Prof-specialty</td>\n",
       "      <td>Wife</td>\n",
       "      <td>Black</td>\n",
       "      <td>Female</td>\n",
       "      <td>0</td>\n",
       "      <td>0</td>\n",
       "      <td>40</td>\n",
       "      <td>Cuba</td>\n",
       "      <td>&lt;=50K</td>\n",
       "    </tr>\n",
       "    <tr>\n",
       "      <th>...</th>\n",
       "      <td>...</td>\n",
       "      <td>...</td>\n",
       "      <td>...</td>\n",
       "      <td>...</td>\n",
       "      <td>...</td>\n",
       "      <td>...</td>\n",
       "      <td>...</td>\n",
       "      <td>...</td>\n",
       "      <td>...</td>\n",
       "      <td>...</td>\n",
       "      <td>...</td>\n",
       "      <td>...</td>\n",
       "      <td>...</td>\n",
       "      <td>...</td>\n",
       "      <td>...</td>\n",
       "    </tr>\n",
       "    <tr>\n",
       "      <th>32556</th>\n",
       "      <td>27</td>\n",
       "      <td>Private</td>\n",
       "      <td>257302</td>\n",
       "      <td>Assoc-acdm</td>\n",
       "      <td>12</td>\n",
       "      <td>Married-civ-spouse</td>\n",
       "      <td>Tech-support</td>\n",
       "      <td>Wife</td>\n",
       "      <td>White</td>\n",
       "      <td>Female</td>\n",
       "      <td>0</td>\n",
       "      <td>0</td>\n",
       "      <td>38</td>\n",
       "      <td>United-States</td>\n",
       "      <td>&lt;=50K</td>\n",
       "    </tr>\n",
       "    <tr>\n",
       "      <th>32557</th>\n",
       "      <td>40</td>\n",
       "      <td>Private</td>\n",
       "      <td>154374</td>\n",
       "      <td>HS-grad</td>\n",
       "      <td>9</td>\n",
       "      <td>Married-civ-spouse</td>\n",
       "      <td>Machine-op-inspct</td>\n",
       "      <td>Husband</td>\n",
       "      <td>White</td>\n",
       "      <td>Male</td>\n",
       "      <td>0</td>\n",
       "      <td>0</td>\n",
       "      <td>40</td>\n",
       "      <td>United-States</td>\n",
       "      <td>&gt;50K</td>\n",
       "    </tr>\n",
       "    <tr>\n",
       "      <th>32558</th>\n",
       "      <td>58</td>\n",
       "      <td>Private</td>\n",
       "      <td>151910</td>\n",
       "      <td>HS-grad</td>\n",
       "      <td>9</td>\n",
       "      <td>Widowed</td>\n",
       "      <td>Adm-clerical</td>\n",
       "      <td>Unmarried</td>\n",
       "      <td>White</td>\n",
       "      <td>Female</td>\n",
       "      <td>0</td>\n",
       "      <td>0</td>\n",
       "      <td>40</td>\n",
       "      <td>United-States</td>\n",
       "      <td>&lt;=50K</td>\n",
       "    </tr>\n",
       "    <tr>\n",
       "      <th>32559</th>\n",
       "      <td>22</td>\n",
       "      <td>Private</td>\n",
       "      <td>201490</td>\n",
       "      <td>HS-grad</td>\n",
       "      <td>9</td>\n",
       "      <td>Never-married</td>\n",
       "      <td>Adm-clerical</td>\n",
       "      <td>Own-child</td>\n",
       "      <td>White</td>\n",
       "      <td>Male</td>\n",
       "      <td>0</td>\n",
       "      <td>0</td>\n",
       "      <td>20</td>\n",
       "      <td>United-States</td>\n",
       "      <td>&lt;=50K</td>\n",
       "    </tr>\n",
       "    <tr>\n",
       "      <th>32560</th>\n",
       "      <td>52</td>\n",
       "      <td>Self-emp-inc</td>\n",
       "      <td>287927</td>\n",
       "      <td>HS-grad</td>\n",
       "      <td>9</td>\n",
       "      <td>Married-civ-spouse</td>\n",
       "      <td>Exec-managerial</td>\n",
       "      <td>Wife</td>\n",
       "      <td>White</td>\n",
       "      <td>Female</td>\n",
       "      <td>15024</td>\n",
       "      <td>0</td>\n",
       "      <td>40</td>\n",
       "      <td>United-States</td>\n",
       "      <td>&gt;50K</td>\n",
       "    </tr>\n",
       "  </tbody>\n",
       "</table>\n",
       "<p>29834 rows × 15 columns</p>\n",
       "</div>"
      ],
      "text/plain": [
       "       Age    Employment_Type  Weighting_Factor    Education  School_Period  \\\n",
       "0       39          State-gov             77516    Bachelors             13   \n",
       "1       50   Self-emp-not-inc             83311    Bachelors             13   \n",
       "2       38            Private            215646      HS-grad              9   \n",
       "3       53            Private            234721         11th              7   \n",
       "4       28            Private            338409    Bachelors             13   \n",
       "...    ...                ...               ...          ...            ...   \n",
       "32556   27            Private            257302   Assoc-acdm             12   \n",
       "32557   40            Private            154374      HS-grad              9   \n",
       "32558   58            Private            151910      HS-grad              9   \n",
       "32559   22            Private            201490      HS-grad              9   \n",
       "32560   52       Self-emp-inc            287927      HS-grad              9   \n",
       "\n",
       "            Marital_Status     Employment_Area     Partnership Ethnicity  \\\n",
       "0            Never-married        Adm-clerical   Not-in-family     White   \n",
       "1       Married-civ-spouse     Exec-managerial         Husband     White   \n",
       "2                 Divorced   Handlers-cleaners   Not-in-family     White   \n",
       "3       Married-civ-spouse   Handlers-cleaners         Husband     Black   \n",
       "4       Married-civ-spouse      Prof-specialty            Wife     Black   \n",
       "...                    ...                 ...             ...       ...   \n",
       "32556   Married-civ-spouse        Tech-support            Wife     White   \n",
       "32557   Married-civ-spouse   Machine-op-inspct         Husband     White   \n",
       "32558              Widowed        Adm-clerical       Unmarried     White   \n",
       "32559        Never-married        Adm-clerical       Own-child     White   \n",
       "32560   Married-civ-spouse     Exec-managerial            Wife     White   \n",
       "\n",
       "        Gender  Gain_Financial  Losses_Financial  Weekly_Working_Time  \\\n",
       "0         Male            2174                 0                   40   \n",
       "1         Male               0                 0                   13   \n",
       "2         Male               0                 0                   40   \n",
       "3         Male               0                 0                   40   \n",
       "4       Female               0                 0                   40   \n",
       "...        ...             ...               ...                  ...   \n",
       "32556   Female               0                 0                   38   \n",
       "32557     Male               0                 0                   40   \n",
       "32558   Female               0                 0                   40   \n",
       "32559     Male               0                 0                   20   \n",
       "32560   Female           15024                 0                   40   \n",
       "\n",
       "        Birth_Country  Income  \n",
       "0       United-States   <=50K  \n",
       "1       United-States   <=50K  \n",
       "2       United-States   <=50K  \n",
       "3       United-States   <=50K  \n",
       "4                Cuba   <=50K  \n",
       "...               ...     ...  \n",
       "32556   United-States   <=50K  \n",
       "32557   United-States    >50K  \n",
       "32558   United-States   <=50K  \n",
       "32559   United-States   <=50K  \n",
       "32560   United-States    >50K  \n",
       "\n",
       "[29834 rows x 15 columns]"
      ]
     },
     "execution_count": 83,
     "metadata": {},
     "output_type": "execute_result"
    }
   ],
   "source": [
    "df1"
   ]
  },
  {
   "cell_type": "code",
   "execution_count": 84,
   "id": "9aa96ee2",
   "metadata": {},
   "outputs": [],
   "source": [
    "categorical_columns = ['Employment_Type', 'Education', 'Marital_Status', \n",
    "                       'Employment_Area', 'Partnership', 'Ethnicity', \n",
    "                       'Gender', 'Birth_Country']"
   ]
  },
  {
   "cell_type": "code",
   "execution_count": 89,
   "id": "13f186d4",
   "metadata": {},
   "outputs": [],
   "source": [
    "# to remove duplicate values"
   ]
  },
  {
   "cell_type": "code",
   "execution_count": 90,
   "id": "d399b011",
   "metadata": {},
   "outputs": [],
   "source": [
    "df1.drop_duplicates(inplace=True)"
   ]
  },
  {
   "cell_type": "code",
   "execution_count": 92,
   "id": "f0374fdd",
   "metadata": {},
   "outputs": [
    {
     "data": {
      "text/plain": [
       "(29811, 15)"
      ]
     },
     "execution_count": 92,
     "metadata": {},
     "output_type": "execute_result"
    }
   ],
   "source": [
    "# checking for the shape\n",
    "df1.shape"
   ]
  },
  {
   "cell_type": "code",
   "execution_count": 93,
   "id": "9a7de217",
   "metadata": {},
   "outputs": [
    {
     "name": "stdout",
     "output_type": "stream",
     "text": [
      "Frequency counts for column: Employment_Type\n",
      "Employment_Type\n",
      " private             21966\n",
      " self-emp-not-inc     2492\n",
      " local-gov            2053\n",
      " state-gov            1277\n",
      " self-emp-inc         1067\n",
      " federal-gov           942\n",
      " without-pay            14\n",
      "Name: count, dtype: int64\n",
      "\n",
      "\n",
      "Frequency counts for column: Education\n",
      "Education\n",
      " hs-grad         9827\n",
      " some-college    6667\n",
      " bachelors       5042\n",
      " masters         1626\n",
      " assoc-voc       1307\n",
      " assoc-acdm      1008\n",
      " 11th             894\n",
      " 10th             714\n",
      " 7th-8th          553\n",
      " prof-school      542\n",
      " 9th              432\n",
      " doctorate        375\n",
      " 12th             345\n",
      " 5th-6th          286\n",
      " 1st-4th          149\n",
      " preschool         44\n",
      "Name: count, dtype: int64\n",
      "\n",
      "\n",
      "Frequency counts for column: Marital_Status\n",
      "Marital_Status\n",
      " married-civ-spouse       14057\n",
      " never-married             9385\n",
      " divorced                  4212\n",
      " separated                  939\n",
      " widowed                    827\n",
      " married-spouse-absent      370\n",
      " married-af-spouse           21\n",
      "Name: count, dtype: int64\n",
      "\n",
      "\n",
      "Frequency counts for column: Employment_Area\n",
      "Employment_Area\n",
      " prof-specialty       4024\n",
      " craft-repair         4011\n",
      " exec-managerial      3990\n",
      " adm-clerical         3696\n",
      " sales                3498\n",
      " other-service        3080\n",
      " machine-op-inspct    1962\n",
      " transport-moving     1569\n",
      " handlers-cleaners    1310\n",
      " farming-fishing       978\n",
      " tech-support          910\n",
      " protective-serv       641\n",
      " priv-house-serv       133\n",
      " armed-forces            9\n",
      "Name: count, dtype: int64\n",
      "\n",
      "\n",
      "Frequency counts for column: Partnership\n",
      "Partnership\n",
      " husband           12456\n",
      " not-in-family      7705\n",
      " own-child          4165\n",
      " unmarried          3205\n",
      " wife               1406\n",
      " other-relative      874\n",
      "Name: count, dtype: int64\n",
      "\n",
      "\n",
      "Frequency counts for column: Ethnicity\n",
      "Ethnicity\n",
      " white                 25618\n",
      " black                  2790\n",
      " asian-pac-islander      893\n",
      " amer-indian-eskimo      283\n",
      " other                   227\n",
      "Name: count, dtype: int64\n",
      "\n",
      "\n",
      "Frequency counts for column: Gender\n",
      "Gender\n",
      " male      20188\n",
      " female     9623\n",
      "Name: count, dtype: int64\n",
      "\n",
      "\n",
      "Frequency counts for column: Birth_Country\n",
      "Birth_Country\n",
      " united-states                 27174\n",
      " mexico                          601\n",
      " philippines                     188\n",
      " germany                         128\n",
      " puerto-rico                     108\n",
      " canada                          105\n",
      " india                            99\n",
      " el-salvador                      98\n",
      " cuba                             92\n",
      " england                          85\n",
      " jamaica                          80\n",
      " south                            71\n",
      " china                            68\n",
      " italy                            68\n",
      " dominican-republic               67\n",
      " vietnam                          64\n",
      " guatemala                        61\n",
      " japan                            59\n",
      " columbia                         56\n",
      " poland                           55\n",
      " iran                             42\n",
      " taiwan                           42\n",
      " haiti                            41\n",
      " portugal                         34\n",
      " nicaragua                        33\n",
      " peru                             29\n",
      " greece                           29\n",
      " france                           27\n",
      " ecuador                          27\n",
      " ireland                          24\n",
      " hong                             19\n",
      " cambodia                         18\n",
      " trinadad&tobago                  18\n",
      " thailand                         17\n",
      " laos                             17\n",
      " yugoslavia                       16\n",
      " outlying-us(guam-usvi-etc)       14\n",
      " hungary                          13\n",
      " honduras                         12\n",
      " scotland                         11\n",
      " holand-netherlands                1\n",
      "Name: count, dtype: int64\n",
      "\n",
      "\n"
     ]
    }
   ],
   "source": [
    "# Calculate frequency counts for each category\n",
    "for col in categorical_columns:\n",
    "    print(\"Frequency counts for column:\", col)\n",
    "    print(df1[col].value_counts())\n",
    "    print(\"\\n\")\n"
   ]
  },
  {
   "cell_type": "code",
   "execution_count": 94,
   "id": "3ccf48ec",
   "metadata": {},
   "outputs": [],
   "source": [
    "# done some manual inspection and then frequency check for all categorical variables\n",
    "# looks no outliers in categorical variables"
   ]
  },
  {
   "cell_type": "code",
   "execution_count": 95,
   "id": "27248c08",
   "metadata": {},
   "outputs": [],
   "source": [
    "numeric_var_1 = ['Age', 'School_Period', 'Weekly_Working_Time' ]"
   ]
  },
  {
   "cell_type": "code",
   "execution_count": 96,
   "id": "b37df9dd",
   "metadata": {},
   "outputs": [
    {
     "name": "stdout",
     "output_type": "stream",
     "text": [
      "Frequency counts for column: Age\n",
      "Age\n",
      "36    852\n",
      "31    851\n",
      "33    837\n",
      "34    836\n",
      "37    828\n",
      "     ... \n",
      "82      7\n",
      "83      5\n",
      "88      3\n",
      "85      3\n",
      "86      1\n",
      "Name: count, Length: 71, dtype: int64\n",
      "\n",
      "\n",
      "Frequency counts for column: School_Period\n",
      "School_Period\n",
      "9     9827\n",
      "10    6667\n",
      "13    5042\n",
      "14    1626\n",
      "11    1307\n",
      "12    1008\n",
      "7      894\n",
      "6      714\n",
      "4      553\n",
      "15     542\n",
      "5      432\n",
      "16     375\n",
      "8      345\n",
      "3      286\n",
      "2      149\n",
      "1       44\n",
      "Name: count, dtype: int64\n",
      "\n",
      "\n",
      "Frequency counts for column: Weekly_Working_Time\n",
      "Weekly_Working_Time\n",
      "40    14212\n",
      "50     2716\n",
      "45     1749\n",
      "60     1405\n",
      "35     1174\n",
      "      ...  \n",
      "94        1\n",
      "87        1\n",
      "82        1\n",
      "92        1\n",
      "74        1\n",
      "Name: count, Length: 94, dtype: int64\n",
      "\n",
      "\n"
     ]
    }
   ],
   "source": [
    "for col in numeric_var_1:\n",
    "    print(\"Frequency counts for column:\", col)\n",
    "    print(df1[col].value_counts())\n",
    "    print(\"\\n\")"
   ]
  },
  {
   "cell_type": "code",
   "execution_count": 97,
   "id": "e45c9be9",
   "metadata": {},
   "outputs": [
    {
     "data": {
      "image/png": "[encoded data removed]",
      "text/plain": [
       "<Figure size 800x600 with 1 Axes>"
      ]
     },
     "metadata": {},
     "output_type": "display_data"
    },
    {
     "data": {
      "image/png": "[encoded data removed]",
      "text/plain": [
       "<Figure size 800x600 with 1 Axes>"
      ]
     },
     "metadata": {},
     "output_type": "display_data"
    },
    {
     "data": {
      "image/png": "[encoded data removed]",
      "text/plain": [
       "<Figure size 800x600 with 1 Axes>"
      ]
     },
     "metadata": {},
     "output_type": "display_data"
    }
   ],
   "source": [
    "for col in numeric_var_1:\n",
    "    plt.figure(figsize=(8, 6))\n",
    "    plt.hist(df1[col], bins=10, color='skyblue', edgecolor='black')\n",
    "    plt.title('Histogram of ' + col)\n",
    "    plt.xlabel(col)\n",
    "    plt.ylabel('Frequency')\n",
    "    plt.grid(True)\n",
    "    plt.show()"
   ]
  },
  {
   "cell_type": "code",
   "execution_count": 98,
   "id": "2594bb19",
   "metadata": {},
   "outputs": [],
   "source": [
    "# it seems no outliers in this inspection and vishualization"
   ]
  },
  {
   "cell_type": "code",
   "execution_count": 99,
   "id": "c2cd4ecd",
   "metadata": {},
   "outputs": [],
   "source": [
    "numeric_var_2 = ['Weighting_Factor', 'Gain_Financial', 'Losses_Financial']"
   ]
  },
  {
   "cell_type": "code",
   "execution_count": 105,
   "id": "93029424",
   "metadata": {},
   "outputs": [
    {
     "data": {
      "image/png": "[encoded data removed]",
      "text/plain": [
       "<Figure size 800x600 with 1 Axes>"
      ]
     },
     "metadata": {},
     "output_type": "display_data"
    },
    {
     "data": {
      "image/png": "[encoded data removed]",
      "text/plain": [
       "<Figure size 800x600 with 1 Axes>"
      ]
     },
     "metadata": {},
     "output_type": "display_data"
    },
    {
     "data": {
      "image/png": "[encoded data removed]",
      "text/plain": [
       "<Figure size 800x600 with 1 Axes>"
      ]
     },
     "metadata": {},
     "output_type": "display_data"
    }
   ],
   "source": [
    "import seaborn as sns\n",
    "\n",
    "# Create boxplots for the specified numerical columns\n",
    "for col in numeric_var_2:\n",
    "    plt.figure(figsize=(8, 6))\n",
    "    sns.boxplot(x=df1[col], color='skyblue')\n",
    "    plt.title('Boxplot of ' + col)\n",
    "    plt.xlabel(col)\n",
    "    plt.grid(True)\n",
    "    plt.show()\n"
   ]
  },
  {
   "cell_type": "code",
   "execution_count": 112,
   "id": "128522cd",
   "metadata": {},
   "outputs": [
    {
     "name": "stdout",
     "output_type": "stream",
     "text": [
      "Number of outliers removed: 148\n"
     ]
    }
   ],
   "source": [
    "threshold = 99999\n",
    "\n",
    "# Filter out rows with 'Gain_Financial' values exceeding the threshold\n",
    "df1_cleaned = df1[df1['Gain_Financial'] < threshold]\n",
    "\n",
    "# Print the number of outliers removed\n",
    "print(\"Number of outliers removed:\", len(df1) - len(df1_cleaned))"
   ]
  },
  {
   "cell_type": "code",
   "execution_count": 116,
   "id": "6a9a58c0",
   "metadata": {},
   "outputs": [
    {
     "data": {
      "text/plain": [
       "(29811, 15)"
      ]
     },
     "execution_count": 116,
     "metadata": {},
     "output_type": "execute_result"
    }
   ],
   "source": [
    "df1.shape"
   ]
  },
  {
   "cell_type": "code",
   "execution_count": 115,
   "id": "417162b7",
   "metadata": {},
   "outputs": [
    {
     "data": {
      "text/plain": [
       "(29663, 15)"
      ]
     },
     "execution_count": 115,
     "metadata": {},
     "output_type": "execute_result"
    }
   ],
   "source": [
    "df1_cleaned.shape"
   ]
  },
  {
   "cell_type": "code",
   "execution_count": 117,
   "id": "e5a5ec88",
   "metadata": {},
   "outputs": [
    {
     "data": {
      "text/plain": [
       "<bound method DataFrame.info of        Age    Employment_Type  Weighting_Factor    Education  School_Period  \\\n",
       "0       39          state-gov             77516    bachelors             13   \n",
       "1       50   self-emp-not-inc             83311    bachelors             13   \n",
       "2       38            private            215646      hs-grad              9   \n",
       "3       53            private            234721         11th              7   \n",
       "4       28            private            338409    bachelors             13   \n",
       "...    ...                ...               ...          ...            ...   \n",
       "32556   27            private            257302   assoc-acdm             12   \n",
       "32557   40            private            154374      hs-grad              9   \n",
       "32558   58            private            151910      hs-grad              9   \n",
       "32559   22            private            201490      hs-grad              9   \n",
       "32560   52       self-emp-inc            287927      hs-grad              9   \n",
       "\n",
       "            Marital_Status     Employment_Area     Partnership Ethnicity  \\\n",
       "0            never-married        adm-clerical   not-in-family     white   \n",
       "1       married-civ-spouse     exec-managerial         husband     white   \n",
       "2                 divorced   handlers-cleaners   not-in-family     white   \n",
       "3       married-civ-spouse   handlers-cleaners         husband     black   \n",
       "4       married-civ-spouse      prof-specialty            wife     black   \n",
       "...                    ...                 ...             ...       ...   \n",
       "32556   married-civ-spouse        tech-support            wife     white   \n",
       "32557   married-civ-spouse   machine-op-inspct         husband     white   \n",
       "32558              widowed        adm-clerical       unmarried     white   \n",
       "32559        never-married        adm-clerical       own-child     white   \n",
       "32560   married-civ-spouse     exec-managerial            wife     white   \n",
       "\n",
       "        Gender  Gain_Financial  Losses_Financial  Weekly_Working_Time  \\\n",
       "0         male            2174                 0                   40   \n",
       "1         male               0                 0                   13   \n",
       "2         male               0                 0                   40   \n",
       "3         male               0                 0                   40   \n",
       "4       female               0                 0                   40   \n",
       "...        ...             ...               ...                  ...   \n",
       "32556   female               0                 0                   38   \n",
       "32557     male               0                 0                   40   \n",
       "32558   female               0                 0                   40   \n",
       "32559     male               0                 0                   20   \n",
       "32560   female           15024                 0                   40   \n",
       "\n",
       "        Birth_Country  Income  \n",
       "0       united-states   <=50K  \n",
       "1       united-states   <=50K  \n",
       "2       united-states   <=50K  \n",
       "3       united-states   <=50K  \n",
       "4                cuba   <=50K  \n",
       "...               ...     ...  \n",
       "32556   united-states   <=50K  \n",
       "32557   united-states    >50K  \n",
       "32558   united-states   <=50K  \n",
       "32559   united-states   <=50K  \n",
       "32560   united-states    >50K  \n",
       "\n",
       "[29663 rows x 15 columns]>"
      ]
     },
     "execution_count": 117,
     "metadata": {},
     "output_type": "execute_result"
    }
   ],
   "source": [
    "df1_cleaned.info"
   ]
  },
  {
   "cell_type": "code",
   "execution_count": null,
   "id": "6108cbcc",
   "metadata": {},
   "outputs": [],
   "source": [
    "missing_values = df1_cleaned.isnull()\n",
    "# taking the count\n",
    "missing_counts = missing_values.sum()"
   ]
  }
 ],
 "metadata": {
  "kernelspec": {
   "display_name": "Python 3 (ipykernel)",
   "language": "python",
   "name": "python3"
  },
  "language_info": {
   "codemirror_mode": {
    "name": "ipython",
    "version": 3
   },
   "file_extension": ".py",
   "mimetype": "text/x-python",
   "name": "python",
   "nbconvert_exporter": "python",
   "pygments_lexer": "ipython3",
   "version": "3.11.5"
  }
 },
 "nbformat": 4,
 "nbformat_minor": 5
}
